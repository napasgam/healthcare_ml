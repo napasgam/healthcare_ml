{
 "cells": [
  {
   "metadata": {},
   "cell_type": "markdown",
   "source": "# Model for Diabetes Risk Prediction ",
   "id": "7072308586d0f6d"
  },
  {
   "metadata": {},
   "cell_type": "markdown",
   "source": "## PIMA Indian Diabetes Dataset",
   "id": "a7e19eecf70d0ef5"
  },
  {
   "metadata": {},
   "cell_type": "markdown",
   "source": " Actual Pima Diabetes Dataset",
   "id": "b385d33eb9600888"
  },
  {
   "metadata": {
    "ExecuteTime": {
     "end_time": "2024-09-23T12:13:22.995614Z",
     "start_time": "2024-09-23T12:13:22.983057Z"
    }
   },
   "cell_type": "code",
   "source": [
    "import numpy as np\n",
    "import pandas as pd\n",
    "import matplotlib.pyplot as plt"
   ],
   "id": "initial_id",
   "outputs": [],
   "execution_count": 978
  },
  {
   "metadata": {
    "ExecuteTime": {
     "end_time": "2024-09-23T12:13:23.138507Z",
     "start_time": "2024-09-23T12:13:23.113287Z"
    }
   },
   "cell_type": "code",
   "source": "df = pd.read_csv('../Dataset/diabetes.csv')",
   "id": "e003af1f2420583c",
   "outputs": [],
   "execution_count": 979
  },
  {
   "metadata": {
    "ExecuteTime": {
     "end_time": "2024-09-23T12:13:23.153662Z",
     "start_time": "2024-09-23T12:13:23.139820Z"
    }
   },
   "cell_type": "code",
   "source": "df.head()",
   "id": "a5235f80b6257188",
   "outputs": [
    {
     "data": {
      "text/plain": [
       "   Pregnancies  Glucose  BloodPressure  SkinThickness  Insulin   BMI  \\\n",
       "0            6      148             72             35        0  33.6   \n",
       "1            1       85             66             29        0  26.6   \n",
       "2            8      183             64              0        0  23.3   \n",
       "3            1       89             66             23       94  28.1   \n",
       "4            0      137             40             35      168  43.1   \n",
       "\n",
       "   DiabetesPedigreeFunction  Age  Outcome  \n",
       "0                     0.627   50        1  \n",
       "1                     0.351   31        0  \n",
       "2                     0.672   32        1  \n",
       "3                     0.167   21        0  \n",
       "4                     2.288   33        1  "
      ],
      "text/html": [
       "<div>\n",
       "<style scoped>\n",
       "    .dataframe tbody tr th:only-of-type {\n",
       "        vertical-align: middle;\n",
       "    }\n",
       "\n",
       "    .dataframe tbody tr th {\n",
       "        vertical-align: top;\n",
       "    }\n",
       "\n",
       "    .dataframe thead th {\n",
       "        text-align: right;\n",
       "    }\n",
       "</style>\n",
       "<table border=\"1\" class=\"dataframe\">\n",
       "  <thead>\n",
       "    <tr style=\"text-align: right;\">\n",
       "      <th></th>\n",
       "      <th>Pregnancies</th>\n",
       "      <th>Glucose</th>\n",
       "      <th>BloodPressure</th>\n",
       "      <th>SkinThickness</th>\n",
       "      <th>Insulin</th>\n",
       "      <th>BMI</th>\n",
       "      <th>DiabetesPedigreeFunction</th>\n",
       "      <th>Age</th>\n",
       "      <th>Outcome</th>\n",
       "    </tr>\n",
       "  </thead>\n",
       "  <tbody>\n",
       "    <tr>\n",
       "      <th>0</th>\n",
       "      <td>6</td>\n",
       "      <td>148</td>\n",
       "      <td>72</td>\n",
       "      <td>35</td>\n",
       "      <td>0</td>\n",
       "      <td>33.6</td>\n",
       "      <td>0.627</td>\n",
       "      <td>50</td>\n",
       "      <td>1</td>\n",
       "    </tr>\n",
       "    <tr>\n",
       "      <th>1</th>\n",
       "      <td>1</td>\n",
       "      <td>85</td>\n",
       "      <td>66</td>\n",
       "      <td>29</td>\n",
       "      <td>0</td>\n",
       "      <td>26.6</td>\n",
       "      <td>0.351</td>\n",
       "      <td>31</td>\n",
       "      <td>0</td>\n",
       "    </tr>\n",
       "    <tr>\n",
       "      <th>2</th>\n",
       "      <td>8</td>\n",
       "      <td>183</td>\n",
       "      <td>64</td>\n",
       "      <td>0</td>\n",
       "      <td>0</td>\n",
       "      <td>23.3</td>\n",
       "      <td>0.672</td>\n",
       "      <td>32</td>\n",
       "      <td>1</td>\n",
       "    </tr>\n",
       "    <tr>\n",
       "      <th>3</th>\n",
       "      <td>1</td>\n",
       "      <td>89</td>\n",
       "      <td>66</td>\n",
       "      <td>23</td>\n",
       "      <td>94</td>\n",
       "      <td>28.1</td>\n",
       "      <td>0.167</td>\n",
       "      <td>21</td>\n",
       "      <td>0</td>\n",
       "    </tr>\n",
       "    <tr>\n",
       "      <th>4</th>\n",
       "      <td>0</td>\n",
       "      <td>137</td>\n",
       "      <td>40</td>\n",
       "      <td>35</td>\n",
       "      <td>168</td>\n",
       "      <td>43.1</td>\n",
       "      <td>2.288</td>\n",
       "      <td>33</td>\n",
       "      <td>1</td>\n",
       "    </tr>\n",
       "  </tbody>\n",
       "</table>\n",
       "</div>"
      ]
     },
     "execution_count": 980,
     "metadata": {},
     "output_type": "execute_result"
    }
   ],
   "execution_count": 980
  },
  {
   "metadata": {
    "ExecuteTime": {
     "end_time": "2024-09-23T12:13:23.187130Z",
     "start_time": "2024-09-23T12:13:23.181589Z"
    }
   },
   "cell_type": "code",
   "source": "df.isnull().sum()",
   "id": "363c56f33ef1322",
   "outputs": [
    {
     "data": {
      "text/plain": [
       "Pregnancies                 0\n",
       "Glucose                     0\n",
       "BloodPressure               0\n",
       "SkinThickness               0\n",
       "Insulin                     0\n",
       "BMI                         0\n",
       "DiabetesPedigreeFunction    0\n",
       "Age                         0\n",
       "Outcome                     0\n",
       "dtype: int64"
      ]
     },
     "execution_count": 981,
     "metadata": {},
     "output_type": "execute_result"
    }
   ],
   "execution_count": 981
  },
  {
   "metadata": {
    "ExecuteTime": {
     "end_time": "2024-09-23T12:13:23.232526Z",
     "start_time": "2024-09-23T12:13:23.213671Z"
    }
   },
   "cell_type": "code",
   "source": "df.info()",
   "id": "62cab9e4a8b6020",
   "outputs": [
    {
     "name": "stdout",
     "output_type": "stream",
     "text": [
      "<class 'pandas.core.frame.DataFrame'>\n",
      "RangeIndex: 768 entries, 0 to 767\n",
      "Data columns (total 9 columns):\n",
      " #   Column                    Non-Null Count  Dtype  \n",
      "---  ------                    --------------  -----  \n",
      " 0   Pregnancies               768 non-null    int64  \n",
      " 1   Glucose                   768 non-null    int64  \n",
      " 2   BloodPressure             768 non-null    int64  \n",
      " 3   SkinThickness             768 non-null    int64  \n",
      " 4   Insulin                   768 non-null    int64  \n",
      " 5   BMI                       768 non-null    float64\n",
      " 6   DiabetesPedigreeFunction  768 non-null    float64\n",
      " 7   Age                       768 non-null    int64  \n",
      " 8   Outcome                   768 non-null    int64  \n",
      "dtypes: float64(2), int64(7)\n",
      "memory usage: 54.1 KB\n"
     ]
    }
   ],
   "execution_count": 982
  },
  {
   "metadata": {
    "ExecuteTime": {
     "end_time": "2024-09-23T12:13:23.327867Z",
     "start_time": "2024-09-23T12:13:23.310214Z"
    }
   },
   "cell_type": "code",
   "source": "df.describe()",
   "id": "e410e86aaae988cd",
   "outputs": [
    {
     "data": {
      "text/plain": [
       "       Pregnancies     Glucose  BloodPressure  SkinThickness     Insulin  \\\n",
       "count   768.000000  768.000000     768.000000     768.000000  768.000000   \n",
       "mean      3.845052  120.894531      69.105469      20.536458   79.799479   \n",
       "std       3.369578   31.972618      19.355807      15.952218  115.244002   \n",
       "min       0.000000    0.000000       0.000000       0.000000    0.000000   \n",
       "25%       1.000000   99.000000      62.000000       0.000000    0.000000   \n",
       "50%       3.000000  117.000000      72.000000      23.000000   30.500000   \n",
       "75%       6.000000  140.250000      80.000000      32.000000  127.250000   \n",
       "max      17.000000  199.000000     122.000000      99.000000  846.000000   \n",
       "\n",
       "              BMI  DiabetesPedigreeFunction         Age     Outcome  \n",
       "count  768.000000                768.000000  768.000000  768.000000  \n",
       "mean    31.992578                  0.471876   33.240885    0.348958  \n",
       "std      7.884160                  0.331329   11.760232    0.476951  \n",
       "min      0.000000                  0.078000   21.000000    0.000000  \n",
       "25%     27.300000                  0.243750   24.000000    0.000000  \n",
       "50%     32.000000                  0.372500   29.000000    0.000000  \n",
       "75%     36.600000                  0.626250   41.000000    1.000000  \n",
       "max     67.100000                  2.420000   81.000000    1.000000  "
      ],
      "text/html": [
       "<div>\n",
       "<style scoped>\n",
       "    .dataframe tbody tr th:only-of-type {\n",
       "        vertical-align: middle;\n",
       "    }\n",
       "\n",
       "    .dataframe tbody tr th {\n",
       "        vertical-align: top;\n",
       "    }\n",
       "\n",
       "    .dataframe thead th {\n",
       "        text-align: right;\n",
       "    }\n",
       "</style>\n",
       "<table border=\"1\" class=\"dataframe\">\n",
       "  <thead>\n",
       "    <tr style=\"text-align: right;\">\n",
       "      <th></th>\n",
       "      <th>Pregnancies</th>\n",
       "      <th>Glucose</th>\n",
       "      <th>BloodPressure</th>\n",
       "      <th>SkinThickness</th>\n",
       "      <th>Insulin</th>\n",
       "      <th>BMI</th>\n",
       "      <th>DiabetesPedigreeFunction</th>\n",
       "      <th>Age</th>\n",
       "      <th>Outcome</th>\n",
       "    </tr>\n",
       "  </thead>\n",
       "  <tbody>\n",
       "    <tr>\n",
       "      <th>count</th>\n",
       "      <td>768.000000</td>\n",
       "      <td>768.000000</td>\n",
       "      <td>768.000000</td>\n",
       "      <td>768.000000</td>\n",
       "      <td>768.000000</td>\n",
       "      <td>768.000000</td>\n",
       "      <td>768.000000</td>\n",
       "      <td>768.000000</td>\n",
       "      <td>768.000000</td>\n",
       "    </tr>\n",
       "    <tr>\n",
       "      <th>mean</th>\n",
       "      <td>3.845052</td>\n",
       "      <td>120.894531</td>\n",
       "      <td>69.105469</td>\n",
       "      <td>20.536458</td>\n",
       "      <td>79.799479</td>\n",
       "      <td>31.992578</td>\n",
       "      <td>0.471876</td>\n",
       "      <td>33.240885</td>\n",
       "      <td>0.348958</td>\n",
       "    </tr>\n",
       "    <tr>\n",
       "      <th>std</th>\n",
       "      <td>3.369578</td>\n",
       "      <td>31.972618</td>\n",
       "      <td>19.355807</td>\n",
       "      <td>15.952218</td>\n",
       "      <td>115.244002</td>\n",
       "      <td>7.884160</td>\n",
       "      <td>0.331329</td>\n",
       "      <td>11.760232</td>\n",
       "      <td>0.476951</td>\n",
       "    </tr>\n",
       "    <tr>\n",
       "      <th>min</th>\n",
       "      <td>0.000000</td>\n",
       "      <td>0.000000</td>\n",
       "      <td>0.000000</td>\n",
       "      <td>0.000000</td>\n",
       "      <td>0.000000</td>\n",
       "      <td>0.000000</td>\n",
       "      <td>0.078000</td>\n",
       "      <td>21.000000</td>\n",
       "      <td>0.000000</td>\n",
       "    </tr>\n",
       "    <tr>\n",
       "      <th>25%</th>\n",
       "      <td>1.000000</td>\n",
       "      <td>99.000000</td>\n",
       "      <td>62.000000</td>\n",
       "      <td>0.000000</td>\n",
       "      <td>0.000000</td>\n",
       "      <td>27.300000</td>\n",
       "      <td>0.243750</td>\n",
       "      <td>24.000000</td>\n",
       "      <td>0.000000</td>\n",
       "    </tr>\n",
       "    <tr>\n",
       "      <th>50%</th>\n",
       "      <td>3.000000</td>\n",
       "      <td>117.000000</td>\n",
       "      <td>72.000000</td>\n",
       "      <td>23.000000</td>\n",
       "      <td>30.500000</td>\n",
       "      <td>32.000000</td>\n",
       "      <td>0.372500</td>\n",
       "      <td>29.000000</td>\n",
       "      <td>0.000000</td>\n",
       "    </tr>\n",
       "    <tr>\n",
       "      <th>75%</th>\n",
       "      <td>6.000000</td>\n",
       "      <td>140.250000</td>\n",
       "      <td>80.000000</td>\n",
       "      <td>32.000000</td>\n",
       "      <td>127.250000</td>\n",
       "      <td>36.600000</td>\n",
       "      <td>0.626250</td>\n",
       "      <td>41.000000</td>\n",
       "      <td>1.000000</td>\n",
       "    </tr>\n",
       "    <tr>\n",
       "      <th>max</th>\n",
       "      <td>17.000000</td>\n",
       "      <td>199.000000</td>\n",
       "      <td>122.000000</td>\n",
       "      <td>99.000000</td>\n",
       "      <td>846.000000</td>\n",
       "      <td>67.100000</td>\n",
       "      <td>2.420000</td>\n",
       "      <td>81.000000</td>\n",
       "      <td>1.000000</td>\n",
       "    </tr>\n",
       "  </tbody>\n",
       "</table>\n",
       "</div>"
      ]
     },
     "execution_count": 983,
     "metadata": {},
     "output_type": "execute_result"
    }
   ],
   "execution_count": 983
  },
  {
   "metadata": {
    "ExecuteTime": {
     "end_time": "2024-09-23T12:13:24.114117Z",
     "start_time": "2024-09-23T12:13:23.349498Z"
    }
   },
   "cell_type": "code",
   "source": "df.hist(bins=10, figsize=(10,8))",
   "id": "fef2e706da9db758",
   "outputs": [
    {
     "data": {
      "text/plain": [
       "array([[<Axes: title={'center': 'Pregnancies'}>,\n",
       "        <Axes: title={'center': 'Glucose'}>,\n",
       "        <Axes: title={'center': 'BloodPressure'}>],\n",
       "       [<Axes: title={'center': 'SkinThickness'}>,\n",
       "        <Axes: title={'center': 'Insulin'}>,\n",
       "        <Axes: title={'center': 'BMI'}>],\n",
       "       [<Axes: title={'center': 'DiabetesPedigreeFunction'}>,\n",
       "        <Axes: title={'center': 'Age'}>,\n",
       "        <Axes: title={'center': 'Outcome'}>]], dtype=object)"
      ]
     },
     "execution_count": 984,
     "metadata": {},
     "output_type": "execute_result"
    },
    {
     "data": {
      "text/plain": [
       "<Figure size 1000x800 with 9 Axes>"
      ],
      "image/png": "[encoded data removed]"
     },
     "metadata": {},
     "output_type": "display_data"
    }
   ],
   "execution_count": 984
  },
  {
   "metadata": {
    "ExecuteTime": {
     "end_time": "2024-09-23T12:13:24.119892Z",
     "start_time": "2024-09-23T12:13:24.115342Z"
    }
   },
   "cell_type": "code",
   "source": "df['Outcome'].value_counts()",
   "id": "6fa9052d3537d61",
   "outputs": [
    {
     "data": {
      "text/plain": [
       "Outcome\n",
       "0    500\n",
       "1    268\n",
       "Name: count, dtype: int64"
      ]
     },
     "execution_count": 985,
     "metadata": {},
     "output_type": "execute_result"
    }
   ],
   "execution_count": 985
  },
  {
   "metadata": {},
   "cell_type": "markdown",
   "source": "Split Data 80:20",
   "id": "8803347b16cd5a68"
  },
  {
   "metadata": {
    "ExecuteTime": {
     "end_time": "2024-09-23T12:13:24.123223Z",
     "start_time": "2024-09-23T12:13:24.120871Z"
    }
   },
   "cell_type": "code",
   "source": [
    "x = df.iloc[:,0:8] #select all rows, select columns 0 to 8\n",
    "y = df['Outcome']"
   ],
   "id": "1279ddc4d5e8994",
   "outputs": [],
   "execution_count": 986
  },
  {
   "metadata": {
    "ExecuteTime": {
     "end_time": "2024-09-23T12:13:24.130560Z",
     "start_time": "2024-09-23T12:13:24.125099Z"
    }
   },
   "cell_type": "code",
   "source": "x.head()",
   "id": "1c2b033c7f7bdcea",
   "outputs": [
    {
     "data": {
      "text/plain": [
       "   Pregnancies  Glucose  BloodPressure  SkinThickness  Insulin   BMI  \\\n",
       "0            6      148             72             35        0  33.6   \n",
       "1            1       85             66             29        0  26.6   \n",
       "2            8      183             64              0        0  23.3   \n",
       "3            1       89             66             23       94  28.1   \n",
       "4            0      137             40             35      168  43.1   \n",
       "\n",
       "   DiabetesPedigreeFunction  Age  \n",
       "0                     0.627   50  \n",
       "1                     0.351   31  \n",
       "2                     0.672   32  \n",
       "3                     0.167   21  \n",
       "4                     2.288   33  "
      ],
      "text/html": [
       "<div>\n",
       "<style scoped>\n",
       "    .dataframe tbody tr th:only-of-type {\n",
       "        vertical-align: middle;\n",
       "    }\n",
       "\n",
       "    .dataframe tbody tr th {\n",
       "        vertical-align: top;\n",
       "    }\n",
       "\n",
       "    .dataframe thead th {\n",
       "        text-align: right;\n",
       "    }\n",
       "</style>\n",
       "<table border=\"1\" class=\"dataframe\">\n",
       "  <thead>\n",
       "    <tr style=\"text-align: right;\">\n",
       "      <th></th>\n",
       "      <th>Pregnancies</th>\n",
       "      <th>Glucose</th>\n",
       "      <th>BloodPressure</th>\n",
       "      <th>SkinThickness</th>\n",
       "      <th>Insulin</th>\n",
       "      <th>BMI</th>\n",
       "      <th>DiabetesPedigreeFunction</th>\n",
       "      <th>Age</th>\n",
       "    </tr>\n",
       "  </thead>\n",
       "  <tbody>\n",
       "    <tr>\n",
       "      <th>0</th>\n",
       "      <td>6</td>\n",
       "      <td>148</td>\n",
       "      <td>72</td>\n",
       "      <td>35</td>\n",
       "      <td>0</td>\n",
       "      <td>33.6</td>\n",
       "      <td>0.627</td>\n",
       "      <td>50</td>\n",
       "    </tr>\n",
       "    <tr>\n",
       "      <th>1</th>\n",
       "      <td>1</td>\n",
       "      <td>85</td>\n",
       "      <td>66</td>\n",
       "      <td>29</td>\n",
       "      <td>0</td>\n",
       "      <td>26.6</td>\n",
       "      <td>0.351</td>\n",
       "      <td>31</td>\n",
       "    </tr>\n",
       "    <tr>\n",
       "      <th>2</th>\n",
       "      <td>8</td>\n",
       "      <td>183</td>\n",
       "      <td>64</td>\n",
       "      <td>0</td>\n",
       "      <td>0</td>\n",
       "      <td>23.3</td>\n",
       "      <td>0.672</td>\n",
       "      <td>32</td>\n",
       "    </tr>\n",
       "    <tr>\n",
       "      <th>3</th>\n",
       "      <td>1</td>\n",
       "      <td>89</td>\n",
       "      <td>66</td>\n",
       "      <td>23</td>\n",
       "      <td>94</td>\n",
       "      <td>28.1</td>\n",
       "      <td>0.167</td>\n",
       "      <td>21</td>\n",
       "    </tr>\n",
       "    <tr>\n",
       "      <th>4</th>\n",
       "      <td>0</td>\n",
       "      <td>137</td>\n",
       "      <td>40</td>\n",
       "      <td>35</td>\n",
       "      <td>168</td>\n",
       "      <td>43.1</td>\n",
       "      <td>2.288</td>\n",
       "      <td>33</td>\n",
       "    </tr>\n",
       "  </tbody>\n",
       "</table>\n",
       "</div>"
      ]
     },
     "execution_count": 987,
     "metadata": {},
     "output_type": "execute_result"
    }
   ],
   "execution_count": 987
  },
  {
   "metadata": {
    "ExecuteTime": {
     "end_time": "2024-09-23T12:13:24.136322Z",
     "start_time": "2024-09-23T12:13:24.131338Z"
    }
   },
   "cell_type": "code",
   "source": "y.sample(5)",
   "id": "b9aec2b644a1c7bc",
   "outputs": [
    {
     "data": {
      "text/plain": [
       "295    0\n",
       "240    0\n",
       "89     0\n",
       "325    0\n",
       "291    1\n",
       "Name: Outcome, dtype: int64"
      ]
     },
     "execution_count": 988,
     "metadata": {},
     "output_type": "execute_result"
    }
   ],
   "execution_count": 988
  },
  {
   "metadata": {
    "ExecuteTime": {
     "end_time": "2024-09-23T12:13:24.144403Z",
     "start_time": "2024-09-23T12:13:24.137185Z"
    }
   },
   "cell_type": "code",
   "source": [
    "from sklearn.model_selection import train_test_split\n",
    "X_train, x_test, y_train, y_test = train_test_split(x ,y , test_size=0.2)\n",
    "# Split train and test into 80:20"
   ],
   "id": "4efa89d794a4c06b",
   "outputs": [],
   "execution_count": 989
  },
  {
   "metadata": {
    "ExecuteTime": {
     "end_time": "2024-09-23T12:13:24.149963Z",
     "start_time": "2024-09-23T12:13:24.145934Z"
    }
   },
   "cell_type": "code",
   "source": "X_train.shape",
   "id": "a99854a953d0b53b",
   "outputs": [
    {
     "data": {
      "text/plain": [
       "(614, 8)"
      ]
     },
     "execution_count": 990,
     "metadata": {},
     "output_type": "execute_result"
    }
   ],
   "execution_count": 990
  },
  {
   "metadata": {
    "ExecuteTime": {
     "end_time": "2024-09-23T12:13:24.154868Z",
     "start_time": "2024-09-23T12:13:24.151308Z"
    }
   },
   "cell_type": "code",
   "source": "y_train.shape",
   "id": "8893ffc0c8ee7482",
   "outputs": [
    {
     "data": {
      "text/plain": [
       "(614,)"
      ]
     },
     "execution_count": 991,
     "metadata": {},
     "output_type": "execute_result"
    }
   ],
   "execution_count": 991
  },
  {
   "metadata": {
    "ExecuteTime": {
     "end_time": "2024-09-23T12:13:24.160380Z",
     "start_time": "2024-09-23T12:13:24.155959Z"
    }
   },
   "cell_type": "code",
   "source": "x_test.shape",
   "id": "ac6c9be65b54d9af",
   "outputs": [
    {
     "data": {
      "text/plain": [
       "(154, 8)"
      ]
     },
     "execution_count": 992,
     "metadata": {},
     "output_type": "execute_result"
    }
   ],
   "execution_count": 992
  },
  {
   "metadata": {
    "ExecuteTime": {
     "end_time": "2024-09-23T12:13:24.170819Z",
     "start_time": "2024-09-23T12:13:24.163713Z"
    }
   },
   "cell_type": "code",
   "source": [
    "from sklearn import preprocessing\n",
    "stand = preprocessing.StandardScaler()\n",
    "X_train = stand.fit_transform(X_train)\n",
    "x_test = stand.transform(x_test)"
   ],
   "id": "eeba383ff8fff5ab",
   "outputs": [],
   "execution_count": 993
  },
  {
   "metadata": {},
   "cell_type": "markdown",
   "source": "Random Forest",
   "id": "57a77c121f6946cb"
  },
  {
   "metadata": {
    "ExecuteTime": {
     "end_time": "2024-09-23T12:13:24.175382Z",
     "start_time": "2024-09-23T12:13:24.172252Z"
    }
   },
   "cell_type": "code",
   "source": [
    "parameters ={\n",
    "      'criterion' : ['gini', 'entropy'],\n",
    "      'max_features': ['sqrt'],\n",
    "      'random_state': range(1, 51, 5),\n",
    "      'min_samples_leaf': range(1, 51, 5),\n",
    "      'n_estimators': range(1, 51, 5)}"
   ],
   "id": "a7bd5575f864feba",
   "outputs": [],
   "execution_count": 994
  },
  {
   "metadata": {
    "ExecuteTime": {
     "end_time": "2024-09-23T12:15:54.225081Z",
     "start_time": "2024-09-23T12:13:24.176222Z"
    }
   },
   "cell_type": "code",
   "source": [
    "%%time\n",
    "from sklearn.model_selection import GridSearchCV, KFold\n",
    "from sklearn.ensemble import RandomForestClassifier\n",
    "from sklearn.metrics import accuracy_score, precision_score, recall_score, f1_score, confusion_matrix\n",
    "# Create a RandomForestClassifier object\n",
    "clf = RandomForestClassifier()\n",
    "kf = KFold(n_splits=5, shuffle=True, random_state=0)\n",
    "rf_classifier = GridSearchCV(clf, parameters, cv=kf, scoring='recall',n_jobs=-1 ,error_score='raise')\n",
    "\n",
    "# Fit the model on training data\n",
    "rf_classifier.fit(X_train, y_train)\n",
    "\n",
    "# Get the best estimator from the GridSearch\n",
    "best_model = rf_classifier.best_estimator_\n",
    "\n",
    "# Fit the model on training data\n",
    "rf_classifier.fit(X_train, y_train)\n",
    "\n",
    "# Access the best model's cross-validation accuracy\n",
    "best_score = rf_classifier.best_score_\n",
    "\n",
    "print(\"Best Score (K-Fold CV):\", best_score)\n",
    "print(f\"Best Parameters: {rf_classifier.best_params_}\")"
   ],
   "id": "7345902066ce0a53",
   "outputs": [
    {
     "name": "stderr",
     "output_type": "stream",
     "text": [
      "/Users/kamme/anaconda3/lib/python3.11/site-packages/numpy/ma/core.py:2820: RuntimeWarning: invalid value encountered in cast\n",
      "  _data = np.array(data, dtype=dtype, copy=copy,\n"
     ]
    },
    {
     "name": "stdout",
     "output_type": "stream",
     "text": [
      "Best Score (K-Fold CV): 0.6107388901506549\n",
      "Best Parameters: {'criterion': 'entropy', 'max_features': 'sqrt', 'min_samples_leaf': 26, 'n_estimators': 1, 'random_state': 11}\n",
      "CPU times: user 7.82 s, sys: 1.21 s, total: 9.03 s\n",
      "Wall time: 2min 30s\n"
     ]
    },
    {
     "name": "stderr",
     "output_type": "stream",
     "text": [
      "/Users/kamme/anaconda3/lib/python3.11/site-packages/numpy/ma/core.py:2820: RuntimeWarning: invalid value encountered in cast\n",
      "  _data = np.array(data, dtype=dtype, copy=copy,\n"
     ]
    }
   ],
   "execution_count": 995
  },
  {
   "metadata": {
    "ExecuteTime": {
     "end_time": "2024-09-23T12:15:54.233401Z",
     "start_time": "2024-09-23T12:15:54.228426Z"
    }
   },
   "cell_type": "code",
   "source": [
    "# Make predictions on the test data\n",
    "y_pred = best_model.predict(x_test)"
   ],
   "id": "f38617907433ec23",
   "outputs": [],
   "execution_count": 996
  },
  {
   "metadata": {
    "ExecuteTime": {
     "end_time": "2024-09-23T12:15:54.250589Z",
     "start_time": "2024-09-23T12:15:54.235081Z"
    }
   },
   "cell_type": "code",
   "source": [
    "cm = confusion_matrix(y_test, y_pred)\n",
    "accuracy = accuracy_score(y_test, y_pred)\n",
    "precision = precision_score(y_test, y_pred)\n",
    "recall = recall_score(y_test, y_pred)\n",
    "f1 = f1_score(y_test, y_pred)\n",
    "\n",
    "print(cm)"
   ],
   "id": "3bab499ebc90b712",
   "outputs": [
    {
     "name": "stdout",
     "output_type": "stream",
     "text": [
      "[[87 16]\n",
      " [23 28]]\n"
     ]
    }
   ],
   "execution_count": 997
  },
  {
   "metadata": {
    "ExecuteTime": {
     "end_time": "2024-09-23T12:22:16.860673Z",
     "start_time": "2024-09-23T12:15:54.252061Z"
    }
   },
   "cell_type": "code",
   "source": [
    "from sklearn.model_selection import cross_val_score\n",
    "from statistics import stdev\n",
    "score = cross_val_score(rf_classifier, X_train, y_train, cv=kf, scoring='recall')\n",
    "avg_score = score.mean()\n",
    "stdev = stdev(score)"
   ],
   "id": "94a381959f0ae441",
   "outputs": [
    {
     "name": "stderr",
     "output_type": "stream",
     "text": [
      "/Users/kamme/anaconda3/lib/python3.11/site-packages/numpy/ma/core.py:2820: RuntimeWarning: invalid value encountered in cast\n",
      "  _data = np.array(data, dtype=dtype, copy=copy,\n",
      "/Users/kamme/anaconda3/lib/python3.11/site-packages/numpy/ma/core.py:2820: RuntimeWarning: invalid value encountered in cast\n",
      "  _data = np.array(data, dtype=dtype, copy=copy,\n",
      "/Users/kamme/anaconda3/lib/python3.11/site-packages/numpy/ma/core.py:2820: RuntimeWarning: invalid value encountered in cast\n",
      "  _data = np.array(data, dtype=dtype, copy=copy,\n",
      "/Users/kamme/anaconda3/lib/python3.11/site-packages/numpy/ma/core.py:2820: RuntimeWarning: invalid value encountered in cast\n",
      "  _data = np.array(data, dtype=dtype, copy=copy,\n"
     ]
    }
   ],
   "execution_count": 998
  },
  {
   "metadata": {
    "ExecuteTime": {
     "end_time": "2024-09-23T12:22:16.901495Z",
     "start_time": "2024-09-23T12:22:16.873845Z"
    }
   },
   "cell_type": "code",
   "source": [
    "ndf = [(recall, precision, f1, accuracy, avg_score, stdev)]\n",
    "\n",
    "rf_score = pd.DataFrame(data = ndf, columns=\n",
    "                        ['Recall','Precision','F1 Score', 'Accuracy', 'Avg CV Recall', 'Standard Deviation'])\n",
    "rf_score.insert(0, 'Random Forest', 'Tuning hyperparameters')\n",
    "rf_score"
   ],
   "id": "c0e30631e2a45fb6",
   "outputs": [
    {
     "data": {
      "text/plain": [
       "            Random Forest   Recall  Precision  F1 Score  Accuracy  \\\n",
       "0  Tuning hyperparameters  0.54902   0.636364  0.589474  0.746753   \n",
       "\n",
       "   Avg CV Recall  Standard Deviation  \n",
       "0        0.53251            0.088949  "
      ],
      "text/html": [
       "<div>\n",
       "<style scoped>\n",
       "    .dataframe tbody tr th:only-of-type {\n",
       "        vertical-align: middle;\n",
       "    }\n",
       "\n",
       "    .dataframe tbody tr th {\n",
       "        vertical-align: top;\n",
       "    }\n",
       "\n",
       "    .dataframe thead th {\n",
       "        text-align: right;\n",
       "    }\n",
       "</style>\n",
       "<table border=\"1\" class=\"dataframe\">\n",
       "  <thead>\n",
       "    <tr style=\"text-align: right;\">\n",
       "      <th></th>\n",
       "      <th>Random Forest</th>\n",
       "      <th>Recall</th>\n",
       "      <th>Precision</th>\n",
       "      <th>F1 Score</th>\n",
       "      <th>Accuracy</th>\n",
       "      <th>Avg CV Recall</th>\n",
       "      <th>Standard Deviation</th>\n",
       "    </tr>\n",
       "  </thead>\n",
       "  <tbody>\n",
       "    <tr>\n",
       "      <th>0</th>\n",
       "      <td>Tuning hyperparameters</td>\n",
       "      <td>0.54902</td>\n",
       "      <td>0.636364</td>\n",
       "      <td>0.589474</td>\n",
       "      <td>0.746753</td>\n",
       "      <td>0.53251</td>\n",
       "      <td>0.088949</td>\n",
       "    </tr>\n",
       "  </tbody>\n",
       "</table>\n",
       "</div>"
      ]
     },
     "execution_count": 999,
     "metadata": {},
     "output_type": "execute_result"
    }
   ],
   "execution_count": 999
  },
  {
   "metadata": {},
   "cell_type": "markdown",
   "source": "SMOTE to help imbalance data",
   "id": "3a51a468e6be58ff"
  },
  {
   "metadata": {
    "ExecuteTime": {
     "end_time": "2024-09-23T12:22:16.914839Z",
     "start_time": "2024-09-23T12:22:16.903641Z"
    }
   },
   "cell_type": "code",
   "source": [
    "from imblearn.over_sampling import SMOTE\n",
    "(X_sample, y_sample) = train_test_split(df, test_size=0.2, stratify = y)\n",
    "\n",
    "X_train = X_sample.iloc[:,:-1].values\n",
    "y_train = X_sample.iloc[:,-1].values\n",
    "x_test_smote = y_sample.iloc[:,:-1].values\n",
    "y_test_smote = y_sample.iloc[:,-1].values"
   ],
   "id": "d043e40c6a8dc0d",
   "outputs": [],
   "execution_count": 1000
  },
  {
   "metadata": {
    "ExecuteTime": {
     "end_time": "2024-09-23T12:22:16.932303Z",
     "start_time": "2024-09-23T12:22:16.916858Z"
    }
   },
   "cell_type": "code",
   "source": [
    "smote = SMOTE()\n",
    "X_train_smote, y_train_smote = smote.fit_resample(X_train, y_train)"
   ],
   "id": "250fca7466a4ddc8",
   "outputs": [],
   "execution_count": 1001
  },
  {
   "metadata": {
    "ExecuteTime": {
     "end_time": "2024-09-23T12:25:08.113916Z",
     "start_time": "2024-09-23T12:22:16.933966Z"
    }
   },
   "cell_type": "code",
   "source": [
    "%%time\n",
    "from sklearn.model_selection import GridSearchCV, KFold\n",
    "from sklearn.ensemble import RandomForestClassifier\n",
    "from sklearn.metrics import accuracy_score, precision_score, recall_score, f1_score, confusion_matrix\n",
    "# Create a RandomForestClassifier object\n",
    "clf = RandomForestClassifier()\n",
    "kf = KFold(n_splits=5, shuffle=True, random_state=0)\n",
    "rf_classifier = GridSearchCV(clf, parameters, cv=kf, scoring='recall',n_jobs=-1 ,error_score='raise')\n",
    "\n",
    "# Fit the model on training data\n",
    "rf_classifier.fit(X_train_smote, y_train_smote)\n",
    "\n",
    "# Get the best estimator from the GridSearch\n",
    "best_model = rf_classifier.best_estimator_\n",
    "\n",
    "# Access the best model's cross-validation accuracy\n",
    "smote_best_score = rf_classifier.best_score_\n",
    "\n",
    "# Print the best accuracy\n",
    "print(\"Best Score (K-Fold CV):\", smote_best_score)\n",
    "print(f\"Best Parameters: {rf_classifier.best_params_}\")"
   ],
   "id": "e03891baddeb5c1c",
   "outputs": [
    {
     "name": "stdout",
     "output_type": "stream",
     "text": [
      "Best Score (K-Fold CV): 0.836457587254311\n",
      "Best Parameters: {'criterion': 'gini', 'max_features': 'sqrt', 'min_samples_leaf': 1, 'n_estimators': 41, 'random_state': 31}\n",
      "CPU times: user 5.05 s, sys: 933 ms, total: 5.98 s\n",
      "Wall time: 2min 51s\n"
     ]
    },
    {
     "name": "stderr",
     "output_type": "stream",
     "text": [
      "/Users/kamme/anaconda3/lib/python3.11/site-packages/numpy/ma/core.py:2820: RuntimeWarning: invalid value encountered in cast\n",
      "  _data = np.array(data, dtype=dtype, copy=copy,\n"
     ]
    }
   ],
   "execution_count": 1002
  },
  {
   "metadata": {
    "ExecuteTime": {
     "end_time": "2024-09-23T12:25:08.129546Z",
     "start_time": "2024-09-23T12:25:08.120023Z"
    }
   },
   "cell_type": "code",
   "source": [
    "# Make predictions on the test data\n",
    "y_pred_smote = best_model.predict(x_test_smote)"
   ],
   "id": "862a81b2b40b6dc5",
   "outputs": [],
   "execution_count": 1003
  },
  {
   "metadata": {
    "ExecuteTime": {
     "end_time": "2024-09-23T12:25:08.150871Z",
     "start_time": "2024-09-23T12:25:08.132059Z"
    }
   },
   "cell_type": "code",
   "source": [
    "cm = confusion_matrix(y_test_smote, y_pred_smote)\n",
    "smote_accuracy = accuracy_score(y_test_smote, y_pred_smote)\n",
    "smote_precision = precision_score(y_test_smote, y_pred_smote)\n",
    "smote_recall = recall_score(y_test_smote, y_pred_smote)\n",
    "smote_f1 = f1_score(y_test_smote, y_pred_smote)\n",
    "\n",
    "print(cm)"
   ],
   "id": "12bb3735d8ba36ae",
   "outputs": [
    {
     "name": "stdout",
     "output_type": "stream",
     "text": [
      "[[82 18]\n",
      " [19 35]]\n"
     ]
    }
   ],
   "execution_count": 1004
  },
  {
   "metadata": {
    "ExecuteTime": {
     "end_time": "2024-09-23T12:40:01.688861Z",
     "start_time": "2024-09-23T12:25:08.152721Z"
    }
   },
   "cell_type": "code",
   "source": [
    "from sklearn.model_selection import cross_val_score\n",
    "from statistics import stdev\n",
    "score2 = cross_val_score(rf_classifier, X_train_smote, y_train_smote, cv=kf, scoring='recall')\n",
    "smote_avg_score = score2.mean()\n",
    "smote_stdev = stdev(score2)"
   ],
   "id": "6a4ea65073b0de95",
   "outputs": [
    {
     "name": "stderr",
     "output_type": "stream",
     "text": [
      "/Users/kamme/anaconda3/lib/python3.11/site-packages/numpy/ma/core.py:2820: RuntimeWarning: invalid value encountered in cast\n",
      "  _data = np.array(data, dtype=dtype, copy=copy,\n",
      "/Users/kamme/anaconda3/lib/python3.11/site-packages/numpy/ma/core.py:2820: RuntimeWarning: invalid value encountered in cast\n",
      "  _data = np.array(data, dtype=dtype, copy=copy,\n",
      "/Users/kamme/anaconda3/lib/python3.11/site-packages/numpy/ma/core.py:2820: RuntimeWarning: invalid value encountered in cast\n",
      "  _data = np.array(data, dtype=dtype, copy=copy,\n",
      "/Users/kamme/anaconda3/lib/python3.11/site-packages/numpy/ma/core.py:2820: RuntimeWarning: invalid value encountered in cast\n",
      "  _data = np.array(data, dtype=dtype, copy=copy,\n"
     ]
    }
   ],
   "execution_count": 1005
  },
  {
   "metadata": {
    "ExecuteTime": {
     "end_time": "2024-09-23T12:40:01.711210Z",
     "start_time": "2024-09-23T12:40:01.691810Z"
    }
   },
   "cell_type": "code",
   "source": [
    "ndf2 = [(smote_recall, smote_precision, smote_f1, smote_accuracy, smote_avg_score, smote_stdev)]\n",
    "\n",
    "smote_rf_score = pd.DataFrame(data = ndf2, columns=\n",
    "                        ['Recall','Precision','F1 Score', 'Accuracy', 'Avg CV Recall', 'Standard Deviation'])\n",
    "smote_rf_score.insert(0, 'Random Forest', 'Tuning hyperparameters with SMOTE')\n",
    "smote_rf_score"
   ],
   "id": "8a5b4aa133bdd3c2",
   "outputs": [
    {
     "data": {
      "text/plain": [
       "                       Random Forest    Recall  Precision  F1 Score  Accuracy  \\\n",
       "0  Tuning hyperparameters with SMOTE  0.648148   0.660377  0.654206   0.75974   \n",
       "\n",
       "   Avg CV Recall  Standard Deviation  \n",
       "0       0.801313            0.056327  "
      ],
      "text/html": [
       "<div>\n",
       "<style scoped>\n",
       "    .dataframe tbody tr th:only-of-type {\n",
       "        vertical-align: middle;\n",
       "    }\n",
       "\n",
       "    .dataframe tbody tr th {\n",
       "        vertical-align: top;\n",
       "    }\n",
       "\n",
       "    .dataframe thead th {\n",
       "        text-align: right;\n",
       "    }\n",
       "</style>\n",
       "<table border=\"1\" class=\"dataframe\">\n",
       "  <thead>\n",
       "    <tr style=\"text-align: right;\">\n",
       "      <th></th>\n",
       "      <th>Random Forest</th>\n",
       "      <th>Recall</th>\n",
       "      <th>Precision</th>\n",
       "      <th>F1 Score</th>\n",
       "      <th>Accuracy</th>\n",
       "      <th>Avg CV Recall</th>\n",
       "      <th>Standard Deviation</th>\n",
       "    </tr>\n",
       "  </thead>\n",
       "  <tbody>\n",
       "    <tr>\n",
       "      <th>0</th>\n",
       "      <td>Tuning hyperparameters with SMOTE</td>\n",
       "      <td>0.648148</td>\n",
       "      <td>0.660377</td>\n",
       "      <td>0.654206</td>\n",
       "      <td>0.75974</td>\n",
       "      <td>0.801313</td>\n",
       "      <td>0.056327</td>\n",
       "    </tr>\n",
       "  </tbody>\n",
       "</table>\n",
       "</div>"
      ]
     },
     "execution_count": 1006,
     "metadata": {},
     "output_type": "execute_result"
    }
   ],
   "execution_count": 1006
  },
  {
   "metadata": {},
   "cell_type": "markdown",
   "source": "Result comparison",
   "id": "1981a2f02ed5bbcf"
  },
  {
   "metadata": {
    "ExecuteTime": {
     "end_time": "2024-09-23T12:40:30.406399Z",
     "start_time": "2024-09-23T12:40:30.389650Z"
    }
   },
   "cell_type": "code",
   "source": [
    "predictions = pd.concat([rf_score, smote_rf_score], ignore_index=True, sort=False)\n",
    "predictions.sort_values(by=['Avg CV Recall'], ascending=False)"
   ],
   "id": "1abda8bdb183977f",
   "outputs": [
    {
     "data": {
      "text/plain": [
       "                       Random Forest    Recall  Precision  F1 Score  Accuracy  \\\n",
       "1  Tuning hyperparameters with SMOTE  0.648148   0.660377  0.654206  0.759740   \n",
       "0             Tuning hyperparameters  0.549020   0.636364  0.589474  0.746753   \n",
       "\n",
       "   Avg CV Recall  Standard Deviation  \n",
       "1       0.801313            0.056327  \n",
       "0       0.532510            0.088949  "
      ],
      "text/html": [
       "<div>\n",
       "<style scoped>\n",
       "    .dataframe tbody tr th:only-of-type {\n",
       "        vertical-align: middle;\n",
       "    }\n",
       "\n",
       "    .dataframe tbody tr th {\n",
       "        vertical-align: top;\n",
       "    }\n",
       "\n",
       "    .dataframe thead th {\n",
       "        text-align: right;\n",
       "    }\n",
       "</style>\n",
       "<table border=\"1\" class=\"dataframe\">\n",
       "  <thead>\n",
       "    <tr style=\"text-align: right;\">\n",
       "      <th></th>\n",
       "      <th>Random Forest</th>\n",
       "      <th>Recall</th>\n",
       "      <th>Precision</th>\n",
       "      <th>F1 Score</th>\n",
       "      <th>Accuracy</th>\n",
       "      <th>Avg CV Recall</th>\n",
       "      <th>Standard Deviation</th>\n",
       "    </tr>\n",
       "  </thead>\n",
       "  <tbody>\n",
       "    <tr>\n",
       "      <th>1</th>\n",
       "      <td>Tuning hyperparameters with SMOTE</td>\n",
       "      <td>0.648148</td>\n",
       "      <td>0.660377</td>\n",
       "      <td>0.654206</td>\n",
       "      <td>0.759740</td>\n",
       "      <td>0.801313</td>\n",
       "      <td>0.056327</td>\n",
       "    </tr>\n",
       "    <tr>\n",
       "      <th>0</th>\n",
       "      <td>Tuning hyperparameters</td>\n",
       "      <td>0.549020</td>\n",
       "      <td>0.636364</td>\n",
       "      <td>0.589474</td>\n",
       "      <td>0.746753</td>\n",
       "      <td>0.532510</td>\n",
       "      <td>0.088949</td>\n",
       "    </tr>\n",
       "  </tbody>\n",
       "</table>\n",
       "</div>"
      ]
     },
     "execution_count": 1008,
     "metadata": {},
     "output_type": "execute_result"
    }
   ],
   "execution_count": 1008
  }
 ],
 "metadata": {
  "kernelspec": {
   "display_name": "Python 3",
   "language": "python",
   "name": "python3"
  },
  "language_info": {
   "codemirror_mode": {
    "name": "ipython",
    "version": 2
   },
   "file_extension": ".py",
   "mimetype": "text/x-python",
   "name": "python",
   "nbconvert_exporter": "python",
   "pygments_lexer": "ipython2",
   "version": "2.7.6"
  }
 },
 "nbformat": 4,
 "nbformat_minor": 5
}
