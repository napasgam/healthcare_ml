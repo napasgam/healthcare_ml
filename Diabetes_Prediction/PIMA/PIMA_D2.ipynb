{
 "cells": [
  {
   "metadata": {},
   "cell_type": "markdown",
   "source": "# Model for Diabetes Risk Prediction ",
   "id": "7072308586d0f6d"
  },
  {
   "metadata": {},
   "cell_type": "markdown",
   "source": "## PIMA Indian Diabetes Dataset 2",
   "id": "a7e19eecf70d0ef5"
  },
  {
   "metadata": {},
   "cell_type": "markdown",
   "source": "(Dataset filling missing values with column’s mean value)",
   "id": "b385d33eb9600888"
  },
  {
   "metadata": {
    "ExecuteTime": {
     "end_time": "2024-09-23T13:26:49.435625Z",
     "start_time": "2024-09-23T13:26:49.427660Z"
    }
   },
   "cell_type": "code",
   "source": [
    "import numpy as np\n",
    "import pandas as pd\n",
    "import matplotlib.pyplot as plt"
   ],
   "id": "initial_id",
   "outputs": [],
   "execution_count": 618
  },
  {
   "metadata": {
    "ExecuteTime": {
     "end_time": "2024-09-23T13:26:50.034689Z",
     "start_time": "2024-09-23T13:26:50.018465Z"
    }
   },
   "cell_type": "code",
   "source": "df = pd.read_csv('../Dataset/diabetes.csv')",
   "id": "e003af1f2420583c",
   "outputs": [],
   "execution_count": 619
  },
  {
   "metadata": {
    "ExecuteTime": {
     "end_time": "2024-09-23T13:26:50.120458Z",
     "start_time": "2024-09-23T13:26:50.106088Z"
    }
   },
   "cell_type": "code",
   "source": "df.head()",
   "id": "a5235f80b6257188",
   "outputs": [
    {
     "data": {
      "text/plain": [
       "   Pregnancies  Glucose  BloodPressure  SkinThickness  Insulin   BMI  \\\n",
       "0            6      148             72             35        0  33.6   \n",
       "1            1       85             66             29        0  26.6   \n",
       "2            8      183             64              0        0  23.3   \n",
       "3            1       89             66             23       94  28.1   \n",
       "4            0      137             40             35      168  43.1   \n",
       "\n",
       "   DiabetesPedigreeFunction  Age  Outcome  \n",
       "0                     0.627   50        1  \n",
       "1                     0.351   31        0  \n",
       "2                     0.672   32        1  \n",
       "3                     0.167   21        0  \n",
       "4                     2.288   33        1  "
      ],
      "text/html": [
       "<div>\n",
       "<style scoped>\n",
       "    .dataframe tbody tr th:only-of-type {\n",
       "        vertical-align: middle;\n",
       "    }\n",
       "\n",
       "    .dataframe tbody tr th {\n",
       "        vertical-align: top;\n",
       "    }\n",
       "\n",
       "    .dataframe thead th {\n",
       "        text-align: right;\n",
       "    }\n",
       "</style>\n",
       "<table border=\"1\" class=\"dataframe\">\n",
       "  <thead>\n",
       "    <tr style=\"text-align: right;\">\n",
       "      <th></th>\n",
       "      <th>Pregnancies</th>\n",
       "      <th>Glucose</th>\n",
       "      <th>BloodPressure</th>\n",
       "      <th>SkinThickness</th>\n",
       "      <th>Insulin</th>\n",
       "      <th>BMI</th>\n",
       "      <th>DiabetesPedigreeFunction</th>\n",
       "      <th>Age</th>\n",
       "      <th>Outcome</th>\n",
       "    </tr>\n",
       "  </thead>\n",
       "  <tbody>\n",
       "    <tr>\n",
       "      <th>0</th>\n",
       "      <td>6</td>\n",
       "      <td>148</td>\n",
       "      <td>72</td>\n",
       "      <td>35</td>\n",
       "      <td>0</td>\n",
       "      <td>33.6</td>\n",
       "      <td>0.627</td>\n",
       "      <td>50</td>\n",
       "      <td>1</td>\n",
       "    </tr>\n",
       "    <tr>\n",
       "      <th>1</th>\n",
       "      <td>1</td>\n",
       "      <td>85</td>\n",
       "      <td>66</td>\n",
       "      <td>29</td>\n",
       "      <td>0</td>\n",
       "      <td>26.6</td>\n",
       "      <td>0.351</td>\n",
       "      <td>31</td>\n",
       "      <td>0</td>\n",
       "    </tr>\n",
       "    <tr>\n",
       "      <th>2</th>\n",
       "      <td>8</td>\n",
       "      <td>183</td>\n",
       "      <td>64</td>\n",
       "      <td>0</td>\n",
       "      <td>0</td>\n",
       "      <td>23.3</td>\n",
       "      <td>0.672</td>\n",
       "      <td>32</td>\n",
       "      <td>1</td>\n",
       "    </tr>\n",
       "    <tr>\n",
       "      <th>3</th>\n",
       "      <td>1</td>\n",
       "      <td>89</td>\n",
       "      <td>66</td>\n",
       "      <td>23</td>\n",
       "      <td>94</td>\n",
       "      <td>28.1</td>\n",
       "      <td>0.167</td>\n",
       "      <td>21</td>\n",
       "      <td>0</td>\n",
       "    </tr>\n",
       "    <tr>\n",
       "      <th>4</th>\n",
       "      <td>0</td>\n",
       "      <td>137</td>\n",
       "      <td>40</td>\n",
       "      <td>35</td>\n",
       "      <td>168</td>\n",
       "      <td>43.1</td>\n",
       "      <td>2.288</td>\n",
       "      <td>33</td>\n",
       "      <td>1</td>\n",
       "    </tr>\n",
       "  </tbody>\n",
       "</table>\n",
       "</div>"
      ]
     },
     "execution_count": 620,
     "metadata": {},
     "output_type": "execute_result"
    }
   ],
   "execution_count": 620
  },
  {
   "metadata": {
    "ExecuteTime": {
     "end_time": "2024-09-23T13:26:50.316850Z",
     "start_time": "2024-09-23T13:26:50.310302Z"
    }
   },
   "cell_type": "code",
   "source": "df.isnull().sum()",
   "id": "363c56f33ef1322",
   "outputs": [
    {
     "data": {
      "text/plain": [
       "Pregnancies                 0\n",
       "Glucose                     0\n",
       "BloodPressure               0\n",
       "SkinThickness               0\n",
       "Insulin                     0\n",
       "BMI                         0\n",
       "DiabetesPedigreeFunction    0\n",
       "Age                         0\n",
       "Outcome                     0\n",
       "dtype: int64"
      ]
     },
     "execution_count": 621,
     "metadata": {},
     "output_type": "execute_result"
    }
   ],
   "execution_count": 621
  },
  {
   "metadata": {
    "ExecuteTime": {
     "end_time": "2024-09-23T13:26:50.464835Z",
     "start_time": "2024-09-23T13:26:50.455487Z"
    }
   },
   "cell_type": "code",
   "source": "df.info()",
   "id": "62cab9e4a8b6020",
   "outputs": [
    {
     "name": "stdout",
     "output_type": "stream",
     "text": [
      "<class 'pandas.core.frame.DataFrame'>\n",
      "RangeIndex: 768 entries, 0 to 767\n",
      "Data columns (total 9 columns):\n",
      " #   Column                    Non-Null Count  Dtype  \n",
      "---  ------                    --------------  -----  \n",
      " 0   Pregnancies               768 non-null    int64  \n",
      " 1   Glucose                   768 non-null    int64  \n",
      " 2   BloodPressure             768 non-null    int64  \n",
      " 3   SkinThickness             768 non-null    int64  \n",
      " 4   Insulin                   768 non-null    int64  \n",
      " 5   BMI                       768 non-null    float64\n",
      " 6   DiabetesPedigreeFunction  768 non-null    float64\n",
      " 7   Age                       768 non-null    int64  \n",
      " 8   Outcome                   768 non-null    int64  \n",
      "dtypes: float64(2), int64(7)\n",
      "memory usage: 54.1 KB\n"
     ]
    }
   ],
   "execution_count": 622
  },
  {
   "metadata": {
    "ExecuteTime": {
     "end_time": "2024-09-23T13:26:50.579597Z",
     "start_time": "2024-09-23T13:26:50.552579Z"
    }
   },
   "cell_type": "code",
   "source": "df.describe()",
   "id": "e410e86aaae988cd",
   "outputs": [
    {
     "data": {
      "text/plain": [
       "       Pregnancies     Glucose  BloodPressure  SkinThickness     Insulin  \\\n",
       "count   768.000000  768.000000     768.000000     768.000000  768.000000   \n",
       "mean      3.845052  120.894531      69.105469      20.536458   79.799479   \n",
       "std       3.369578   31.972618      19.355807      15.952218  115.244002   \n",
       "min       0.000000    0.000000       0.000000       0.000000    0.000000   \n",
       "25%       1.000000   99.000000      62.000000       0.000000    0.000000   \n",
       "50%       3.000000  117.000000      72.000000      23.000000   30.500000   \n",
       "75%       6.000000  140.250000      80.000000      32.000000  127.250000   \n",
       "max      17.000000  199.000000     122.000000      99.000000  846.000000   \n",
       "\n",
       "              BMI  DiabetesPedigreeFunction         Age     Outcome  \n",
       "count  768.000000                768.000000  768.000000  768.000000  \n",
       "mean    31.992578                  0.471876   33.240885    0.348958  \n",
       "std      7.884160                  0.331329   11.760232    0.476951  \n",
       "min      0.000000                  0.078000   21.000000    0.000000  \n",
       "25%     27.300000                  0.243750   24.000000    0.000000  \n",
       "50%     32.000000                  0.372500   29.000000    0.000000  \n",
       "75%     36.600000                  0.626250   41.000000    1.000000  \n",
       "max     67.100000                  2.420000   81.000000    1.000000  "
      ],
      "text/html": [
       "<div>\n",
       "<style scoped>\n",
       "    .dataframe tbody tr th:only-of-type {\n",
       "        vertical-align: middle;\n",
       "    }\n",
       "\n",
       "    .dataframe tbody tr th {\n",
       "        vertical-align: top;\n",
       "    }\n",
       "\n",
       "    .dataframe thead th {\n",
       "        text-align: right;\n",
       "    }\n",
       "</style>\n",
       "<table border=\"1\" class=\"dataframe\">\n",
       "  <thead>\n",
       "    <tr style=\"text-align: right;\">\n",
       "      <th></th>\n",
       "      <th>Pregnancies</th>\n",
       "      <th>Glucose</th>\n",
       "      <th>BloodPressure</th>\n",
       "      <th>SkinThickness</th>\n",
       "      <th>Insulin</th>\n",
       "      <th>BMI</th>\n",
       "      <th>DiabetesPedigreeFunction</th>\n",
       "      <th>Age</th>\n",
       "      <th>Outcome</th>\n",
       "    </tr>\n",
       "  </thead>\n",
       "  <tbody>\n",
       "    <tr>\n",
       "      <th>count</th>\n",
       "      <td>768.000000</td>\n",
       "      <td>768.000000</td>\n",
       "      <td>768.000000</td>\n",
       "      <td>768.000000</td>\n",
       "      <td>768.000000</td>\n",
       "      <td>768.000000</td>\n",
       "      <td>768.000000</td>\n",
       "      <td>768.000000</td>\n",
       "      <td>768.000000</td>\n",
       "    </tr>\n",
       "    <tr>\n",
       "      <th>mean</th>\n",
       "      <td>3.845052</td>\n",
       "      <td>120.894531</td>\n",
       "      <td>69.105469</td>\n",
       "      <td>20.536458</td>\n",
       "      <td>79.799479</td>\n",
       "      <td>31.992578</td>\n",
       "      <td>0.471876</td>\n",
       "      <td>33.240885</td>\n",
       "      <td>0.348958</td>\n",
       "    </tr>\n",
       "    <tr>\n",
       "      <th>std</th>\n",
       "      <td>3.369578</td>\n",
       "      <td>31.972618</td>\n",
       "      <td>19.355807</td>\n",
       "      <td>15.952218</td>\n",
       "      <td>115.244002</td>\n",
       "      <td>7.884160</td>\n",
       "      <td>0.331329</td>\n",
       "      <td>11.760232</td>\n",
       "      <td>0.476951</td>\n",
       "    </tr>\n",
       "    <tr>\n",
       "      <th>min</th>\n",
       "      <td>0.000000</td>\n",
       "      <td>0.000000</td>\n",
       "      <td>0.000000</td>\n",
       "      <td>0.000000</td>\n",
       "      <td>0.000000</td>\n",
       "      <td>0.000000</td>\n",
       "      <td>0.078000</td>\n",
       "      <td>21.000000</td>\n",
       "      <td>0.000000</td>\n",
       "    </tr>\n",
       "    <tr>\n",
       "      <th>25%</th>\n",
       "      <td>1.000000</td>\n",
       "      <td>99.000000</td>\n",
       "      <td>62.000000</td>\n",
       "      <td>0.000000</td>\n",
       "      <td>0.000000</td>\n",
       "      <td>27.300000</td>\n",
       "      <td>0.243750</td>\n",
       "      <td>24.000000</td>\n",
       "      <td>0.000000</td>\n",
       "    </tr>\n",
       "    <tr>\n",
       "      <th>50%</th>\n",
       "      <td>3.000000</td>\n",
       "      <td>117.000000</td>\n",
       "      <td>72.000000</td>\n",
       "      <td>23.000000</td>\n",
       "      <td>30.500000</td>\n",
       "      <td>32.000000</td>\n",
       "      <td>0.372500</td>\n",
       "      <td>29.000000</td>\n",
       "      <td>0.000000</td>\n",
       "    </tr>\n",
       "    <tr>\n",
       "      <th>75%</th>\n",
       "      <td>6.000000</td>\n",
       "      <td>140.250000</td>\n",
       "      <td>80.000000</td>\n",
       "      <td>32.000000</td>\n",
       "      <td>127.250000</td>\n",
       "      <td>36.600000</td>\n",
       "      <td>0.626250</td>\n",
       "      <td>41.000000</td>\n",
       "      <td>1.000000</td>\n",
       "    </tr>\n",
       "    <tr>\n",
       "      <th>max</th>\n",
       "      <td>17.000000</td>\n",
       "      <td>199.000000</td>\n",
       "      <td>122.000000</td>\n",
       "      <td>99.000000</td>\n",
       "      <td>846.000000</td>\n",
       "      <td>67.100000</td>\n",
       "      <td>2.420000</td>\n",
       "      <td>81.000000</td>\n",
       "      <td>1.000000</td>\n",
       "    </tr>\n",
       "  </tbody>\n",
       "</table>\n",
       "</div>"
      ]
     },
     "execution_count": 623,
     "metadata": {},
     "output_type": "execute_result"
    }
   ],
   "execution_count": 623
  },
  {
   "metadata": {
    "ExecuteTime": {
     "end_time": "2024-09-23T13:26:55.176609Z",
     "start_time": "2024-09-23T13:26:50.849395Z"
    }
   },
   "cell_type": "code",
   "source": "df.hist(bins=10, figsize=(10,8))",
   "id": "fef2e706da9db758",
   "outputs": [
    {
     "data": {
      "text/plain": [
       "array([[<Axes: title={'center': 'Pregnancies'}>,\n",
       "        <Axes: title={'center': 'Glucose'}>,\n",
       "        <Axes: title={'center': 'BloodPressure'}>],\n",
       "       [<Axes: title={'center': 'SkinThickness'}>,\n",
       "        <Axes: title={'center': 'Insulin'}>,\n",
       "        <Axes: title={'center': 'BMI'}>],\n",
       "       [<Axes: title={'center': 'DiabetesPedigreeFunction'}>,\n",
       "        <Axes: title={'center': 'Age'}>,\n",
       "        <Axes: title={'center': 'Outcome'}>]], dtype=object)"
      ]
     },
     "execution_count": 624,
     "metadata": {},
     "output_type": "execute_result"
    },
    {
     "data": {
      "text/plain": [
       "<Figure size 1000x800 with 9 Axes>"
      ],
      "image/png": "[encoded data removed]"
     },
     "metadata": {},
     "output_type": "display_data"
    }
   ],
   "execution_count": 624
  },
  {
   "metadata": {
    "ExecuteTime": {
     "end_time": "2024-09-23T13:26:55.187801Z",
     "start_time": "2024-09-23T13:26:55.182537Z"
    }
   },
   "cell_type": "code",
   "source": "df.shape",
   "id": "6fa9052d3537d61",
   "outputs": [
    {
     "data": {
      "text/plain": [
       "(768, 9)"
      ]
     },
     "execution_count": 625,
     "metadata": {},
     "output_type": "execute_result"
    }
   ],
   "execution_count": 625
  },
  {
   "metadata": {},
   "cell_type": "markdown",
   "source": "Replace '0' with NaN",
   "id": "b8dcf3e95abe6e8d"
  },
  {
   "metadata": {
    "ExecuteTime": {
     "end_time": "2024-09-23T13:26:55.198739Z",
     "start_time": "2024-09-23T13:26:55.189740Z"
    }
   },
   "cell_type": "code",
   "source": [
    "# means before impute\n",
    "mean_before_impute = df.mean()\n",
    "print(mean_before_impute)"
   ],
   "id": "3d499066ffa0f0e4",
   "outputs": [
    {
     "name": "stdout",
     "output_type": "stream",
     "text": [
      "Pregnancies                   3.845052\n",
      "Glucose                     120.894531\n",
      "BloodPressure                69.105469\n",
      "SkinThickness                20.536458\n",
      "Insulin                      79.799479\n",
      "BMI                          31.992578\n",
      "DiabetesPedigreeFunction      0.471876\n",
      "Age                          33.240885\n",
      "Outcome                       0.348958\n",
      "dtype: float64\n"
     ]
    }
   ],
   "execution_count": 626
  },
  {
   "metadata": {
    "ExecuteTime": {
     "end_time": "2024-09-23T13:26:55.226146Z",
     "start_time": "2024-09-23T13:26:55.204160Z"
    }
   },
   "cell_type": "code",
   "source": [
    "# Copy the columns 1-8\n",
    "rows_to_impute = df.iloc[:, 1:8].copy()\n",
    "\n",
    "# Replace zero values with NaN\n",
    "rows_to_impute.replace(0, np.nan, inplace=True)\n",
    "\n",
    "# Update df with the processed data\n",
    "df.iloc[:, 1:8] = rows_to_impute\n",
    "print(df)"
   ],
   "id": "713c12ea234f61d5",
   "outputs": [
    {
     "name": "stdout",
     "output_type": "stream",
     "text": [
      "     Pregnancies  Glucose  BloodPressure  SkinThickness  Insulin   BMI  \\\n",
      "0              6    148.0           72.0           35.0      NaN  33.6   \n",
      "1              1     85.0           66.0           29.0      NaN  26.6   \n",
      "2              8    183.0           64.0            NaN      NaN  23.3   \n",
      "3              1     89.0           66.0           23.0     94.0  28.1   \n",
      "4              0    137.0           40.0           35.0    168.0  43.1   \n",
      "..           ...      ...            ...            ...      ...   ...   \n",
      "763           10    101.0           76.0           48.0    180.0  32.9   \n",
      "764            2    122.0           70.0           27.0      NaN  36.8   \n",
      "765            5    121.0           72.0           23.0    112.0  26.2   \n",
      "766            1    126.0           60.0            NaN      NaN  30.1   \n",
      "767            1     93.0           70.0           31.0      NaN  30.4   \n",
      "\n",
      "     DiabetesPedigreeFunction  Age  Outcome  \n",
      "0                       0.627   50        1  \n",
      "1                       0.351   31        0  \n",
      "2                       0.672   32        1  \n",
      "3                       0.167   21        0  \n",
      "4                       2.288   33        1  \n",
      "..                        ...  ...      ...  \n",
      "763                     0.171   63        0  \n",
      "764                     0.340   27        0  \n",
      "765                     0.245   30        0  \n",
      "766                     0.349   47        1  \n",
      "767                     0.315   23        0  \n",
      "\n",
      "[768 rows x 9 columns]\n"
     ]
    },
    {
     "name": "stderr",
     "output_type": "stream",
     "text": [
      "/var/folders/zq/6xpyjvds7tv_bz1html9bdlw0000gn/T/ipykernel_64954/4164358284.py:8: FutureWarning: Setting an item of incompatible dtype is deprecated and will raise in a future error of pandas. Value '0      148.0\n",
      "1       85.0\n",
      "2      183.0\n",
      "3       89.0\n",
      "4      137.0\n",
      "       ...  \n",
      "763    101.0\n",
      "764    122.0\n",
      "765    121.0\n",
      "766    126.0\n",
      "767     93.0\n",
      "Name: Glucose, Length: 768, dtype: float64' has dtype incompatible with int64, please explicitly cast to a compatible dtype first.\n",
      "  df.iloc[:, 1:8] = rows_to_impute\n",
      "/var/folders/zq/6xpyjvds7tv_bz1html9bdlw0000gn/T/ipykernel_64954/4164358284.py:8: FutureWarning: Setting an item of incompatible dtype is deprecated and will raise in a future error of pandas. Value '0      72.0\n",
      "1      66.0\n",
      "2      64.0\n",
      "3      66.0\n",
      "4      40.0\n",
      "       ... \n",
      "763    76.0\n",
      "764    70.0\n",
      "765    72.0\n",
      "766    60.0\n",
      "767    70.0\n",
      "Name: BloodPressure, Length: 768, dtype: float64' has dtype incompatible with int64, please explicitly cast to a compatible dtype first.\n",
      "  df.iloc[:, 1:8] = rows_to_impute\n",
      "/var/folders/zq/6xpyjvds7tv_bz1html9bdlw0000gn/T/ipykernel_64954/4164358284.py:8: FutureWarning: Setting an item of incompatible dtype is deprecated and will raise in a future error of pandas. Value '0      35.0\n",
      "1      29.0\n",
      "2       NaN\n",
      "3      23.0\n",
      "4      35.0\n",
      "       ... \n",
      "763    48.0\n",
      "764    27.0\n",
      "765    23.0\n",
      "766     NaN\n",
      "767    31.0\n",
      "Name: SkinThickness, Length: 768, dtype: float64' has dtype incompatible with int64, please explicitly cast to a compatible dtype first.\n",
      "  df.iloc[:, 1:8] = rows_to_impute\n",
      "/var/folders/zq/6xpyjvds7tv_bz1html9bdlw0000gn/T/ipykernel_64954/4164358284.py:8: FutureWarning: Setting an item of incompatible dtype is deprecated and will raise in a future error of pandas. Value '0        NaN\n",
      "1        NaN\n",
      "2        NaN\n",
      "3       94.0\n",
      "4      168.0\n",
      "       ...  \n",
      "763    180.0\n",
      "764      NaN\n",
      "765    112.0\n",
      "766      NaN\n",
      "767      NaN\n",
      "Name: Insulin, Length: 768, dtype: float64' has dtype incompatible with int64, please explicitly cast to a compatible dtype first.\n",
      "  df.iloc[:, 1:8] = rows_to_impute\n"
     ]
    }
   ],
   "execution_count": 627
  },
  {
   "metadata": {
    "ExecuteTime": {
     "end_time": "2024-09-23T13:26:55.233880Z",
     "start_time": "2024-09-23T13:26:55.227821Z"
    }
   },
   "cell_type": "code",
   "source": "df.isnull().sum()",
   "id": "d71675deb5cca874",
   "outputs": [
    {
     "data": {
      "text/plain": [
       "Pregnancies                   0\n",
       "Glucose                       5\n",
       "BloodPressure                35\n",
       "SkinThickness               227\n",
       "Insulin                     374\n",
       "BMI                          11\n",
       "DiabetesPedigreeFunction      0\n",
       "Age                           0\n",
       "Outcome                       0\n",
       "dtype: int64"
      ]
     },
     "execution_count": 628,
     "metadata": {},
     "output_type": "execute_result"
    }
   ],
   "execution_count": 628
  },
  {
   "metadata": {
    "ExecuteTime": {
     "end_time": "2024-09-23T13:26:55.245002Z",
     "start_time": "2024-09-23T13:26:55.236246Z"
    }
   },
   "cell_type": "code",
   "source": "df.fillna(df.mean(), inplace=True)",
   "id": "d53e6c90ae5b8f3d",
   "outputs": [],
   "execution_count": 629
  },
  {
   "metadata": {
    "ExecuteTime": {
     "end_time": "2024-09-23T13:26:55.254793Z",
     "start_time": "2024-09-23T13:26:55.247305Z"
    }
   },
   "cell_type": "code",
   "source": "df.mean()",
   "id": "92ebab463e2d749a",
   "outputs": [
    {
     "data": {
      "text/plain": [
       "Pregnancies                   3.845052\n",
       "Glucose                     121.686763\n",
       "BloodPressure                72.405184\n",
       "SkinThickness                29.153420\n",
       "Insulin                     155.548223\n",
       "BMI                          32.457464\n",
       "DiabetesPedigreeFunction      0.471876\n",
       "Age                          33.240885\n",
       "Outcome                       0.348958\n",
       "dtype: float64"
      ]
     },
     "execution_count": 630,
     "metadata": {},
     "output_type": "execute_result"
    }
   ],
   "execution_count": 630
  },
  {
   "metadata": {},
   "cell_type": "markdown",
   "source": "Split Data 80:20",
   "id": "8803347b16cd5a68"
  },
  {
   "metadata": {
    "ExecuteTime": {
     "end_time": "2024-09-23T13:26:55.311788Z",
     "start_time": "2024-09-23T13:26:55.256797Z"
    }
   },
   "cell_type": "code",
   "source": [
    "x = df.iloc[:,0:8] #select all rows, select columns 0 to 8\n",
    "y = df['Outcome']"
   ],
   "id": "1279ddc4d5e8994",
   "outputs": [],
   "execution_count": 631
  },
  {
   "metadata": {
    "ExecuteTime": {
     "end_time": "2024-09-23T13:26:55.329015Z",
     "start_time": "2024-09-23T13:26:55.313867Z"
    }
   },
   "cell_type": "code",
   "source": "x.head()",
   "id": "1c2b033c7f7bdcea",
   "outputs": [
    {
     "data": {
      "text/plain": [
       "   Pregnancies  Glucose  BloodPressure  SkinThickness     Insulin   BMI  \\\n",
       "0            6    148.0           72.0       35.00000  155.548223  33.6   \n",
       "1            1     85.0           66.0       29.00000  155.548223  26.6   \n",
       "2            8    183.0           64.0       29.15342  155.548223  23.3   \n",
       "3            1     89.0           66.0       23.00000   94.000000  28.1   \n",
       "4            0    137.0           40.0       35.00000  168.000000  43.1   \n",
       "\n",
       "   DiabetesPedigreeFunction  Age  \n",
       "0                     0.627   50  \n",
       "1                     0.351   31  \n",
       "2                     0.672   32  \n",
       "3                     0.167   21  \n",
       "4                     2.288   33  "
      ],
      "text/html": [
       "<div>\n",
       "<style scoped>\n",
       "    .dataframe tbody tr th:only-of-type {\n",
       "        vertical-align: middle;\n",
       "    }\n",
       "\n",
       "    .dataframe tbody tr th {\n",
       "        vertical-align: top;\n",
       "    }\n",
       "\n",
       "    .dataframe thead th {\n",
       "        text-align: right;\n",
       "    }\n",
       "</style>\n",
       "<table border=\"1\" class=\"dataframe\">\n",
       "  <thead>\n",
       "    <tr style=\"text-align: right;\">\n",
       "      <th></th>\n",
       "      <th>Pregnancies</th>\n",
       "      <th>Glucose</th>\n",
       "      <th>BloodPressure</th>\n",
       "      <th>SkinThickness</th>\n",
       "      <th>Insulin</th>\n",
       "      <th>BMI</th>\n",
       "      <th>DiabetesPedigreeFunction</th>\n",
       "      <th>Age</th>\n",
       "    </tr>\n",
       "  </thead>\n",
       "  <tbody>\n",
       "    <tr>\n",
       "      <th>0</th>\n",
       "      <td>6</td>\n",
       "      <td>148.0</td>\n",
       "      <td>72.0</td>\n",
       "      <td>35.00000</td>\n",
       "      <td>155.548223</td>\n",
       "      <td>33.6</td>\n",
       "      <td>0.627</td>\n",
       "      <td>50</td>\n",
       "    </tr>\n",
       "    <tr>\n",
       "      <th>1</th>\n",
       "      <td>1</td>\n",
       "      <td>85.0</td>\n",
       "      <td>66.0</td>\n",
       "      <td>29.00000</td>\n",
       "      <td>155.548223</td>\n",
       "      <td>26.6</td>\n",
       "      <td>0.351</td>\n",
       "      <td>31</td>\n",
       "    </tr>\n",
       "    <tr>\n",
       "      <th>2</th>\n",
       "      <td>8</td>\n",
       "      <td>183.0</td>\n",
       "      <td>64.0</td>\n",
       "      <td>29.15342</td>\n",
       "      <td>155.548223</td>\n",
       "      <td>23.3</td>\n",
       "      <td>0.672</td>\n",
       "      <td>32</td>\n",
       "    </tr>\n",
       "    <tr>\n",
       "      <th>3</th>\n",
       "      <td>1</td>\n",
       "      <td>89.0</td>\n",
       "      <td>66.0</td>\n",
       "      <td>23.00000</td>\n",
       "      <td>94.000000</td>\n",
       "      <td>28.1</td>\n",
       "      <td>0.167</td>\n",
       "      <td>21</td>\n",
       "    </tr>\n",
       "    <tr>\n",
       "      <th>4</th>\n",
       "      <td>0</td>\n",
       "      <td>137.0</td>\n",
       "      <td>40.0</td>\n",
       "      <td>35.00000</td>\n",
       "      <td>168.000000</td>\n",
       "      <td>43.1</td>\n",
       "      <td>2.288</td>\n",
       "      <td>33</td>\n",
       "    </tr>\n",
       "  </tbody>\n",
       "</table>\n",
       "</div>"
      ]
     },
     "execution_count": 632,
     "metadata": {},
     "output_type": "execute_result"
    }
   ],
   "execution_count": 632
  },
  {
   "metadata": {
    "ExecuteTime": {
     "end_time": "2024-09-23T13:26:55.348512Z",
     "start_time": "2024-09-23T13:26:55.342628Z"
    }
   },
   "cell_type": "code",
   "source": "y.sample(5)",
   "id": "b9aec2b644a1c7bc",
   "outputs": [
    {
     "data": {
      "text/plain": [
       "318    0\n",
       "393    0\n",
       "662    1\n",
       "76     0\n",
       "505    0\n",
       "Name: Outcome, dtype: int64"
      ]
     },
     "execution_count": 633,
     "metadata": {},
     "output_type": "execute_result"
    }
   ],
   "execution_count": 633
  },
  {
   "metadata": {
    "ExecuteTime": {
     "end_time": "2024-09-23T13:26:55.357656Z",
     "start_time": "2024-09-23T13:26:55.350714Z"
    }
   },
   "cell_type": "code",
   "source": [
    "from sklearn.model_selection import train_test_split\n",
    "X_train, x_test, y_train, y_test = train_test_split(x ,y , test_size=0.2)\n",
    "# Split train and test into 80:20"
   ],
   "id": "4efa89d794a4c06b",
   "outputs": [],
   "execution_count": 634
  },
  {
   "metadata": {
    "ExecuteTime": {
     "end_time": "2024-09-23T13:26:55.364158Z",
     "start_time": "2024-09-23T13:26:55.359542Z"
    }
   },
   "cell_type": "code",
   "source": "X_train.shape",
   "id": "a99854a953d0b53b",
   "outputs": [
    {
     "data": {
      "text/plain": [
       "(614, 8)"
      ]
     },
     "execution_count": 635,
     "metadata": {},
     "output_type": "execute_result"
    }
   ],
   "execution_count": 635
  },
  {
   "metadata": {},
   "cell_type": "code",
   "source": "y_train.shape",
   "id": "8893ffc0c8ee7482",
   "outputs": [
    {
     "data": {
      "text/plain": [
       "(614,)"
      ]
     },
     "execution_count": 636,
     "metadata": {},
     "output_type": "execute_result"
    }
   ],
   "execution_count": 636
  },
  {
   "metadata": {},
   "cell_type": "code",
   "source": "x_test.shape",
   "id": "ac6c9be65b54d9af",
   "outputs": [
    {
     "data": {
      "text/plain": [
       "(154, 8)"
      ]
     },
     "execution_count": 637,
     "metadata": {},
     "output_type": "execute_result"
    }
   ],
   "execution_count": 637
  },
  {
   "metadata": {
    "ExecuteTime": {
     "end_time": "2024-09-23T13:26:55.424282Z",
     "start_time": "2024-09-23T13:26:55.380876Z"
    }
   },
   "cell_type": "code",
   "source": [
    "from sklearn import preprocessing\n",
    "stand = preprocessing.StandardScaler()\n",
    "X_train = stand.fit_transform(X_train)\n",
    "x_test = stand.transform(x_test)"
   ],
   "id": "eeba383ff8fff5ab",
   "outputs": [],
   "execution_count": 638
  },
  {
   "metadata": {
    "ExecuteTime": {
     "end_time": "2024-09-23T13:26:55.435259Z",
     "start_time": "2024-09-23T13:26:55.428233Z"
    }
   },
   "cell_type": "code",
   "source": "df['Outcome'].value_counts()",
   "id": "9b85d66d475f0afd",
   "outputs": [
    {
     "data": {
      "text/plain": [
       "Outcome\n",
       "0    500\n",
       "1    268\n",
       "Name: count, dtype: int64"
      ]
     },
     "execution_count": 639,
     "metadata": {},
     "output_type": "execute_result"
    }
   ],
   "execution_count": 639
  },
  {
   "metadata": {},
   "cell_type": "markdown",
   "source": "Random Forest",
   "id": "57a77c121f6946cb"
  },
  {
   "metadata": {
    "ExecuteTime": {
     "end_time": "2024-09-23T13:26:55.442991Z",
     "start_time": "2024-09-23T13:26:55.438686Z"
    }
   },
   "cell_type": "code",
   "source": [
    "parameters ={\n",
    "      'criterion' : ['gini', 'entropy'],\n",
    "      'max_features': ['sqrt'],\n",
    "      'random_state': range(1, 51, 5),\n",
    "      'min_samples_leaf': range(1, 51, 5),\n",
    "      'n_estimators': range(1, 51, 5)}"
   ],
   "id": "a7bd5575f864feba",
   "outputs": [],
   "execution_count": 640
  },
  {
   "metadata": {
    "ExecuteTime": {
     "end_time": "2024-09-23T13:32:55.555915Z",
     "start_time": "2024-09-23T13:26:55.445423Z"
    }
   },
   "cell_type": "code",
   "source": [
    "%%time\n",
    "from sklearn.model_selection import GridSearchCV, KFold\n",
    "from sklearn.ensemble import RandomForestClassifier\n",
    "from sklearn.metrics import accuracy_score, precision_score, recall_score, f1_score, confusion_matrix\n",
    "# Create a RandomForestClassifier object\n",
    "clf = RandomForestClassifier()\n",
    "kf = KFold(n_splits=5, shuffle=True, random_state=0)\n",
    "rf_classifier = GridSearchCV(clf, parameters, cv=kf, scoring='recall',n_jobs=-1 ,error_score='raise')\n",
    "\n",
    "# Fit the model on training data\n",
    "rf_classifier.fit(X_train, y_train)\n",
    "\n",
    "# Get the best estimator from the GridSearch\n",
    "best_model = rf_classifier.best_estimator_\n",
    "\n",
    "# Fit the model on training data\n",
    "rf_classifier.fit(X_train, y_train)\n",
    "\n",
    "# Access the best model's cross-validation accuracy\n",
    "best_score = rf_classifier.best_score_\n",
    "\n",
    "print(\"Best Score (K-Fold CV):\", best_score)\n",
    "print(f\"Best Parameters: {rf_classifier.best_params_}\")"
   ],
   "id": "7345902066ce0a53",
   "outputs": [
    {
     "name": "stderr",
     "output_type": "stream",
     "text": [
      "/Users/kamme/anaconda3/lib/python3.11/site-packages/numpy/ma/core.py:2820: RuntimeWarning: invalid value encountered in cast\n",
      "  _data = np.array(data, dtype=dtype, copy=copy,\n"
     ]
    },
    {
     "name": "stdout",
     "output_type": "stream",
     "text": [
      "Best Score (K-Fold CV): 0.6640566618010226\n",
      "Best Parameters: {'criterion': 'gini', 'max_features': 'sqrt', 'min_samples_leaf': 11, 'n_estimators': 1, 'random_state': 36}\n",
      "CPU times: user 11.4 s, sys: 1.51 s, total: 12.9 s\n",
      "Wall time: 6min\n"
     ]
    },
    {
     "name": "stderr",
     "output_type": "stream",
     "text": [
      "/Users/kamme/anaconda3/lib/python3.11/site-packages/numpy/ma/core.py:2820: RuntimeWarning: invalid value encountered in cast\n",
      "  _data = np.array(data, dtype=dtype, copy=copy,\n"
     ]
    }
   ],
   "execution_count": 641
  },
  {
   "metadata": {
    "ExecuteTime": {
     "end_time": "2024-09-23T13:32:55.567135Z",
     "start_time": "2024-09-23T13:32:55.561265Z"
    }
   },
   "cell_type": "code",
   "source": [
    "# Make predictions on the test data\n",
    "y_pred = best_model.predict(x_test)"
   ],
   "id": "f38617907433ec23",
   "outputs": [],
   "execution_count": 642
  },
  {
   "metadata": {
    "ExecuteTime": {
     "end_time": "2024-09-23T13:32:55.591738Z",
     "start_time": "2024-09-23T13:32:55.568930Z"
    }
   },
   "cell_type": "code",
   "source": [
    "cm = confusion_matrix(y_test, y_pred)\n",
    "accuracy = accuracy_score(y_test, y_pred)\n",
    "precision = precision_score(y_test, y_pred)\n",
    "recall = recall_score(y_test, y_pred)\n",
    "f1 = f1_score(y_test, y_pred)\n",
    "\n",
    "print(cm)"
   ],
   "id": "3bab499ebc90b712",
   "outputs": [
    {
     "name": "stdout",
     "output_type": "stream",
     "text": [
      "[[78 24]\n",
      " [21 31]]\n"
     ]
    }
   ],
   "execution_count": 643
  },
  {
   "metadata": {
    "ExecuteTime": {
     "end_time": "2024-09-23T13:47:39.434022Z",
     "start_time": "2024-09-23T13:32:55.593699Z"
    }
   },
   "cell_type": "code",
   "source": [
    "from sklearn.model_selection import cross_val_score\n",
    "from statistics import stdev\n",
    "score = cross_val_score(rf_classifier, X_train, y_train, cv=kf, scoring='recall')\n",
    "avg_score = score.mean()\n",
    "stdev = stdev(score)"
   ],
   "id": "d567d5504e281e96",
   "outputs": [
    {
     "name": "stderr",
     "output_type": "stream",
     "text": [
      "/Users/kamme/anaconda3/lib/python3.11/site-packages/numpy/ma/core.py:2820: RuntimeWarning: invalid value encountered in cast\n",
      "  _data = np.array(data, dtype=dtype, copy=copy,\n",
      "/Users/kamme/anaconda3/lib/python3.11/site-packages/numpy/ma/core.py:2820: RuntimeWarning: invalid value encountered in cast\n",
      "  _data = np.array(data, dtype=dtype, copy=copy,\n",
      "/Users/kamme/anaconda3/lib/python3.11/site-packages/numpy/ma/core.py:2820: RuntimeWarning: invalid value encountered in cast\n",
      "  _data = np.array(data, dtype=dtype, copy=copy,\n",
      "/Users/kamme/anaconda3/lib/python3.11/site-packages/numpy/ma/core.py:2820: RuntimeWarning: invalid value encountered in cast\n",
      "  _data = np.array(data, dtype=dtype, copy=copy,\n"
     ]
    }
   ],
   "execution_count": 644
  },
  {
   "metadata": {
    "ExecuteTime": {
     "end_time": "2024-09-23T13:47:39.459290Z",
     "start_time": "2024-09-23T13:47:39.437311Z"
    }
   },
   "cell_type": "code",
   "source": [
    "ndf = [(recall, precision, f1, accuracy, avg_score, stdev)]\n",
    "\n",
    "rf_score = pd.DataFrame(data = ndf, columns=\n",
    "                        ['Recall','Precision','F1 Score', 'Accuracy', 'Avg CV Recall', 'Standard Deviation'])\n",
    "rf_score.insert(0, 'Random Forest', 'Tuning hyperparameters')\n",
    "rf_score"
   ],
   "id": "c0e30631e2a45fb6",
   "outputs": [
    {
     "data": {
      "text/plain": [
       "            Random Forest    Recall  Precision  F1 Score  Accuracy  \\\n",
       "0  Tuning hyperparameters  0.596154   0.563636  0.579439  0.707792   \n",
       "\n",
       "   Avg CV Recall  Standard Deviation  \n",
       "0       0.464752            0.147351  "
      ],
      "text/html": [
       "<div>\n",
       "<style scoped>\n",
       "    .dataframe tbody tr th:only-of-type {\n",
       "        vertical-align: middle;\n",
       "    }\n",
       "\n",
       "    .dataframe tbody tr th {\n",
       "        vertical-align: top;\n",
       "    }\n",
       "\n",
       "    .dataframe thead th {\n",
       "        text-align: right;\n",
       "    }\n",
       "</style>\n",
       "<table border=\"1\" class=\"dataframe\">\n",
       "  <thead>\n",
       "    <tr style=\"text-align: right;\">\n",
       "      <th></th>\n",
       "      <th>Random Forest</th>\n",
       "      <th>Recall</th>\n",
       "      <th>Precision</th>\n",
       "      <th>F1 Score</th>\n",
       "      <th>Accuracy</th>\n",
       "      <th>Avg CV Recall</th>\n",
       "      <th>Standard Deviation</th>\n",
       "    </tr>\n",
       "  </thead>\n",
       "  <tbody>\n",
       "    <tr>\n",
       "      <th>0</th>\n",
       "      <td>Tuning hyperparameters</td>\n",
       "      <td>0.596154</td>\n",
       "      <td>0.563636</td>\n",
       "      <td>0.579439</td>\n",
       "      <td>0.707792</td>\n",
       "      <td>0.464752</td>\n",
       "      <td>0.147351</td>\n",
       "    </tr>\n",
       "  </tbody>\n",
       "</table>\n",
       "</div>"
      ]
     },
     "execution_count": 645,
     "metadata": {},
     "output_type": "execute_result"
    }
   ],
   "execution_count": 645
  },
  {
   "metadata": {},
   "cell_type": "markdown",
   "source": "SMOTE to help imbalance data",
   "id": "3a51a468e6be58ff"
  },
  {
   "metadata": {
    "ExecuteTime": {
     "end_time": "2024-09-23T13:47:39.474704Z",
     "start_time": "2024-09-23T13:47:39.461763Z"
    }
   },
   "cell_type": "code",
   "source": [
    "from imblearn.over_sampling import SMOTE\n",
    "(X_sample, y_sample) = train_test_split(df, test_size=0.2, stratify = y)\n",
    "\n",
    "X_train = X_sample.iloc[:,:-1].values\n",
    "y_train = X_sample.iloc[:,-1].values\n",
    "x_test_smote = y_sample.iloc[:,:-1].values\n",
    "y_test_smote = y_sample.iloc[:,-1].values"
   ],
   "id": "d043e40c6a8dc0d",
   "outputs": [],
   "execution_count": 646
  },
  {
   "metadata": {
    "ExecuteTime": {
     "end_time": "2024-09-23T13:49:35.926864Z",
     "start_time": "2024-09-23T13:47:39.477588Z"
    }
   },
   "cell_type": "code",
   "source": [
    "%%time\n",
    "from sklearn.model_selection import GridSearchCV, KFold\n",
    "from sklearn.ensemble import RandomForestClassifier\n",
    "from sklearn.metrics import accuracy_score, precision_score, recall_score, f1_score, confusion_matrix\n",
    "# Create a RandomForestClassifier object\n",
    "clf = RandomForestClassifier()\n",
    "kf = KFold(n_splits=5, shuffle=True, random_state=0)\n",
    "rf_classifier = GridSearchCV(clf, parameters, cv=kf, scoring='recall',n_jobs=-1 ,error_score='raise')\n",
    "\n",
    "# Fit the model on training data\n",
    "rf_classifier.fit(X_train_smote, y_train_smote)\n",
    "\n",
    "# Get the best estimator from the GridSearch\n",
    "best_model = rf_classifier.best_estimator_\n",
    "\n",
    "# Access the best model's cross-validation accuracy\n",
    "smote_best_score = rf_classifier.best_score_\n",
    "\n",
    "# Print the best accuracy\n",
    "print(\"Best Score (K-Fold CV):\", smote_best_score)\n",
    "print(f\"Best Parameters: {rf_classifier.best_params_}\")"
   ],
   "id": "e03891baddeb5c1c",
   "outputs": [
    {
     "name": "stdout",
     "output_type": "stream",
     "text": [
      "Best Score (K-Fold CV): 0.8661268947415159\n",
      "Best Parameters: {'criterion': 'gini', 'max_features': 'sqrt', 'min_samples_leaf': 11, 'n_estimators': 16, 'random_state': 6}\n",
      "CPU times: user 4.61 s, sys: 526 ms, total: 5.13 s\n",
      "Wall time: 1min 56s\n"
     ]
    },
    {
     "name": "stderr",
     "output_type": "stream",
     "text": [
      "/Users/kamme/anaconda3/lib/python3.11/site-packages/numpy/ma/core.py:2820: RuntimeWarning: invalid value encountered in cast\n",
      "  _data = np.array(data, dtype=dtype, copy=copy,\n"
     ]
    }
   ],
   "execution_count": 647
  },
  {
   "metadata": {
    "ExecuteTime": {
     "end_time": "2024-09-23T13:49:35.946559Z",
     "start_time": "2024-09-23T13:49:35.933636Z"
    }
   },
   "cell_type": "code",
   "source": [
    "smote = SMOTE()\n",
    "X_train_smote, y_train_smote = smote.fit_resample(X_train, y_train)"
   ],
   "id": "250fca7466a4ddc8",
   "outputs": [],
   "execution_count": 648
  },
  {
   "metadata": {
    "ExecuteTime": {
     "end_time": "2024-09-23T13:49:35.961472Z",
     "start_time": "2024-09-23T13:49:35.949859Z"
    }
   },
   "cell_type": "code",
   "source": [
    "# Make predictions on the test data\n",
    "y_pred_smote = best_model.predict(x_test_smote)"
   ],
   "id": "862a81b2b40b6dc5",
   "outputs": [],
   "execution_count": 649
  },
  {
   "metadata": {
    "ExecuteTime": {
     "end_time": "2024-09-23T13:49:36.050786Z",
     "start_time": "2024-09-23T13:49:35.963563Z"
    }
   },
   "cell_type": "code",
   "source": [
    "cm = confusion_matrix(y_test_smote, y_pred_smote)\n",
    "smote_accuracy = accuracy_score(y_test_smote, y_pred_smote)\n",
    "smote_precision = precision_score(y_test_smote, y_pred_smote)\n",
    "smote_recall = recall_score(y_test_smote, y_pred_smote)\n",
    "smote_f1 = f1_score(y_test_smote, y_pred_smote)\n",
    "\n",
    "print(cm)"
   ],
   "id": "12bb3735d8ba36ae",
   "outputs": [
    {
     "name": "stdout",
     "output_type": "stream",
     "text": [
      "[[84 16]\n",
      " [10 44]]\n"
     ]
    }
   ],
   "execution_count": 650
  },
  {
   "metadata": {
    "ExecuteTime": {
     "end_time": "2024-09-23T13:59:15.888019Z",
     "start_time": "2024-09-23T13:49:36.070386Z"
    }
   },
   "cell_type": "code",
   "source": [
    "from sklearn.model_selection import cross_val_score\n",
    "from statistics import stdev\n",
    "score2 = cross_val_score(rf_classifier, X_train_smote, y_train_smote, cv=kf, scoring='recall')\n",
    "smote_avg_score = score2.mean()\n",
    "smote_stdev = stdev(score2)"
   ],
   "id": "bb05b39b5c1b2d7f",
   "outputs": [
    {
     "name": "stderr",
     "output_type": "stream",
     "text": [
      "/Users/kamme/anaconda3/lib/python3.11/site-packages/numpy/ma/core.py:2820: RuntimeWarning: invalid value encountered in cast\n",
      "  _data = np.array(data, dtype=dtype, copy=copy,\n",
      "/Users/kamme/anaconda3/lib/python3.11/site-packages/numpy/ma/core.py:2820: RuntimeWarning: invalid value encountered in cast\n",
      "  _data = np.array(data, dtype=dtype, copy=copy,\n",
      "/Users/kamme/anaconda3/lib/python3.11/site-packages/numpy/ma/core.py:2820: RuntimeWarning: invalid value encountered in cast\n",
      "  _data = np.array(data, dtype=dtype, copy=copy,\n",
      "/Users/kamme/anaconda3/lib/python3.11/site-packages/numpy/ma/core.py:2820: RuntimeWarning: invalid value encountered in cast\n",
      "  _data = np.array(data, dtype=dtype, copy=copy,\n",
      "/Users/kamme/anaconda3/lib/python3.11/site-packages/numpy/ma/core.py:2820: RuntimeWarning: invalid value encountered in cast\n",
      "  _data = np.array(data, dtype=dtype, copy=copy,\n"
     ]
    }
   ],
   "execution_count": 651
  },
  {
   "metadata": {
    "ExecuteTime": {
     "end_time": "2024-09-23T13:59:15.931132Z",
     "start_time": "2024-09-23T13:59:15.911295Z"
    }
   },
   "cell_type": "code",
   "source": [
    "ndf2 = [(smote_recall, smote_precision, smote_f1, smote_accuracy, smote_avg_score, smote_stdev)]\n",
    "\n",
    "smote_rf_score = pd.DataFrame(data = ndf2, columns=\n",
    "                        ['Recall','Precision','F1 Score', 'Accuracy', 'Avg CV Recall', 'Standard Deviation'])\n",
    "smote_rf_score.insert(0, 'Random Forest', 'Tuning hyperparameters with SMOTE')\n",
    "smote_rf_score"
   ],
   "id": "8a5b4aa133bdd3c2",
   "outputs": [
    {
     "data": {
      "text/plain": [
       "                       Random Forest    Recall  Precision  F1 Score  Accuracy  \\\n",
       "0  Tuning hyperparameters with SMOTE  0.814815   0.733333   0.77193  0.831169   \n",
       "\n",
       "   Avg CV Recall  Standard Deviation  \n",
       "0       0.841697            0.048834  "
      ],
      "text/html": [
       "<div>\n",
       "<style scoped>\n",
       "    .dataframe tbody tr th:only-of-type {\n",
       "        vertical-align: middle;\n",
       "    }\n",
       "\n",
       "    .dataframe tbody tr th {\n",
       "        vertical-align: top;\n",
       "    }\n",
       "\n",
       "    .dataframe thead th {\n",
       "        text-align: right;\n",
       "    }\n",
       "</style>\n",
       "<table border=\"1\" class=\"dataframe\">\n",
       "  <thead>\n",
       "    <tr style=\"text-align: right;\">\n",
       "      <th></th>\n",
       "      <th>Random Forest</th>\n",
       "      <th>Recall</th>\n",
       "      <th>Precision</th>\n",
       "      <th>F1 Score</th>\n",
       "      <th>Accuracy</th>\n",
       "      <th>Avg CV Recall</th>\n",
       "      <th>Standard Deviation</th>\n",
       "    </tr>\n",
       "  </thead>\n",
       "  <tbody>\n",
       "    <tr>\n",
       "      <th>0</th>\n",
       "      <td>Tuning hyperparameters with SMOTE</td>\n",
       "      <td>0.814815</td>\n",
       "      <td>0.733333</td>\n",
       "      <td>0.77193</td>\n",
       "      <td>0.831169</td>\n",
       "      <td>0.841697</td>\n",
       "      <td>0.048834</td>\n",
       "    </tr>\n",
       "  </tbody>\n",
       "</table>\n",
       "</div>"
      ]
     },
     "execution_count": 652,
     "metadata": {},
     "output_type": "execute_result"
    }
   ],
   "execution_count": 652
  },
  {
   "metadata": {},
   "cell_type": "markdown",
   "source": "Result comparison",
   "id": "87a72968a6ff39c3"
  },
  {
   "metadata": {
    "ExecuteTime": {
     "end_time": "2024-09-23T13:59:15.947713Z",
     "start_time": "2024-09-23T13:59:15.933355Z"
    }
   },
   "cell_type": "code",
   "source": [
    "predictions = pd.concat([rf_score, smote_rf_score], ignore_index=True, sort=False)\n",
    "predictions.sort_values(by=['Avg CV Recall'], ascending=False)"
   ],
   "id": "a34fd920e766bddd",
   "outputs": [
    {
     "data": {
      "text/plain": [
       "                       Random Forest    Recall  Precision  F1 Score  Accuracy  \\\n",
       "1  Tuning hyperparameters with SMOTE  0.814815   0.733333  0.771930  0.831169   \n",
       "0             Tuning hyperparameters  0.596154   0.563636  0.579439  0.707792   \n",
       "\n",
       "   Avg CV Recall  Standard Deviation  \n",
       "1       0.841697            0.048834  \n",
       "0       0.464752            0.147351  "
      ],
      "text/html": [
       "<div>\n",
       "<style scoped>\n",
       "    .dataframe tbody tr th:only-of-type {\n",
       "        vertical-align: middle;\n",
       "    }\n",
       "\n",
       "    .dataframe tbody tr th {\n",
       "        vertical-align: top;\n",
       "    }\n",
       "\n",
       "    .dataframe thead th {\n",
       "        text-align: right;\n",
       "    }\n",
       "</style>\n",
       "<table border=\"1\" class=\"dataframe\">\n",
       "  <thead>\n",
       "    <tr style=\"text-align: right;\">\n",
       "      <th></th>\n",
       "      <th>Random Forest</th>\n",
       "      <th>Recall</th>\n",
       "      <th>Precision</th>\n",
       "      <th>F1 Score</th>\n",
       "      <th>Accuracy</th>\n",
       "      <th>Avg CV Recall</th>\n",
       "      <th>Standard Deviation</th>\n",
       "    </tr>\n",
       "  </thead>\n",
       "  <tbody>\n",
       "    <tr>\n",
       "      <th>1</th>\n",
       "      <td>Tuning hyperparameters with SMOTE</td>\n",
       "      <td>0.814815</td>\n",
       "      <td>0.733333</td>\n",
       "      <td>0.771930</td>\n",
       "      <td>0.831169</td>\n",
       "      <td>0.841697</td>\n",
       "      <td>0.048834</td>\n",
       "    </tr>\n",
       "    <tr>\n",
       "      <th>0</th>\n",
       "      <td>Tuning hyperparameters</td>\n",
       "      <td>0.596154</td>\n",
       "      <td>0.563636</td>\n",
       "      <td>0.579439</td>\n",
       "      <td>0.707792</td>\n",
       "      <td>0.464752</td>\n",
       "      <td>0.147351</td>\n",
       "    </tr>\n",
       "  </tbody>\n",
       "</table>\n",
       "</div>"
      ]
     },
     "execution_count": 653,
     "metadata": {},
     "output_type": "execute_result"
    }
   ],
   "execution_count": 653
  }
 ],
 "metadata": {
  "kernelspec": {
   "display_name": "Python 3",
   "language": "python",
   "name": "python3"
  },
  "language_info": {
   "codemirror_mode": {
    "name": "ipython",
    "version": 2
   },
   "file_extension": ".py",
   "mimetype": "text/x-python",
   "name": "python",
   "nbconvert_exporter": "python",
   "pygments_lexer": "ipython2",
   "version": "2.7.6"
  }
 },
 "nbformat": 4,
 "nbformat_minor": 5
}
