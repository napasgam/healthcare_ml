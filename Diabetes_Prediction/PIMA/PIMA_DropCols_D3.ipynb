{
 "cells": [
  {
   "metadata": {},
   "cell_type": "markdown",
   "source": "# Model for Diabetes Risk Prediction ",
   "id": "7072308586d0f6d"
  },
  {
   "metadata": {},
   "cell_type": "markdown",
   "source": "## PIMA Indian Diabetes Dataset 3",
   "id": "a7e19eecf70d0ef5"
  },
  {
   "metadata": {},
   "cell_type": "markdown",
   "source": " ( Dataset removing missing value rows)",
   "id": "b385d33eb9600888"
  },
  {
   "metadata": {
    "ExecuteTime": {
     "end_time": "2025-02-10T15:37:26.364768Z",
     "start_time": "2025-02-10T15:37:26.361668Z"
    }
   },
   "cell_type": "code",
   "source": [
    "import numpy as np\n",
    "import pandas as pd\n",
    "import matplotlib.pyplot as plt"
   ],
   "id": "initial_id",
   "outputs": [],
   "execution_count": 1
  },
  {
   "metadata": {
    "ExecuteTime": {
     "end_time": "2025-02-10T15:37:26.382429Z",
     "start_time": "2025-02-10T15:37:26.369069Z"
    }
   },
   "cell_type": "code",
   "source": "df = pd.read_csv('../Dataset/diabetes.csv')",
   "id": "e003af1f2420583c",
   "outputs": [],
   "execution_count": 2
  },
  {
   "metadata": {
    "ExecuteTime": {
     "end_time": "2025-02-10T15:37:26.405251Z",
     "start_time": "2025-02-10T15:37:26.384490Z"
    }
   },
   "cell_type": "code",
   "source": "df.head()",
   "id": "a5235f80b6257188",
   "outputs": [
    {
     "data": {
      "text/plain": [
       "   Pregnancies  Glucose  BloodPressure  SkinThickness  Insulin   BMI  \\\n",
       "0            6      148             72             35        0  33.6   \n",
       "1            1       85             66             29        0  26.6   \n",
       "2            8      183             64              0        0  23.3   \n",
       "3            1       89             66             23       94  28.1   \n",
       "4            0      137             40             35      168  43.1   \n",
       "\n",
       "   DiabetesPedigreeFunction  Age  Outcome  \n",
       "0                     0.627   50        1  \n",
       "1                     0.351   31        0  \n",
       "2                     0.672   32        1  \n",
       "3                     0.167   21        0  \n",
       "4                     2.288   33        1  "
      ],
      "text/html": [
       "<div>\n",
       "<style scoped>\n",
       "    .dataframe tbody tr th:only-of-type {\n",
       "        vertical-align: middle;\n",
       "    }\n",
       "\n",
       "    .dataframe tbody tr th {\n",
       "        vertical-align: top;\n",
       "    }\n",
       "\n",
       "    .dataframe thead th {\n",
       "        text-align: right;\n",
       "    }\n",
       "</style>\n",
       "<table border=\"1\" class=\"dataframe\">\n",
       "  <thead>\n",
       "    <tr style=\"text-align: right;\">\n",
       "      <th></th>\n",
       "      <th>Pregnancies</th>\n",
       "      <th>Glucose</th>\n",
       "      <th>BloodPressure</th>\n",
       "      <th>SkinThickness</th>\n",
       "      <th>Insulin</th>\n",
       "      <th>BMI</th>\n",
       "      <th>DiabetesPedigreeFunction</th>\n",
       "      <th>Age</th>\n",
       "      <th>Outcome</th>\n",
       "    </tr>\n",
       "  </thead>\n",
       "  <tbody>\n",
       "    <tr>\n",
       "      <th>0</th>\n",
       "      <td>6</td>\n",
       "      <td>148</td>\n",
       "      <td>72</td>\n",
       "      <td>35</td>\n",
       "      <td>0</td>\n",
       "      <td>33.6</td>\n",
       "      <td>0.627</td>\n",
       "      <td>50</td>\n",
       "      <td>1</td>\n",
       "    </tr>\n",
       "    <tr>\n",
       "      <th>1</th>\n",
       "      <td>1</td>\n",
       "      <td>85</td>\n",
       "      <td>66</td>\n",
       "      <td>29</td>\n",
       "      <td>0</td>\n",
       "      <td>26.6</td>\n",
       "      <td>0.351</td>\n",
       "      <td>31</td>\n",
       "      <td>0</td>\n",
       "    </tr>\n",
       "    <tr>\n",
       "      <th>2</th>\n",
       "      <td>8</td>\n",
       "      <td>183</td>\n",
       "      <td>64</td>\n",
       "      <td>0</td>\n",
       "      <td>0</td>\n",
       "      <td>23.3</td>\n",
       "      <td>0.672</td>\n",
       "      <td>32</td>\n",
       "      <td>1</td>\n",
       "    </tr>\n",
       "    <tr>\n",
       "      <th>3</th>\n",
       "      <td>1</td>\n",
       "      <td>89</td>\n",
       "      <td>66</td>\n",
       "      <td>23</td>\n",
       "      <td>94</td>\n",
       "      <td>28.1</td>\n",
       "      <td>0.167</td>\n",
       "      <td>21</td>\n",
       "      <td>0</td>\n",
       "    </tr>\n",
       "    <tr>\n",
       "      <th>4</th>\n",
       "      <td>0</td>\n",
       "      <td>137</td>\n",
       "      <td>40</td>\n",
       "      <td>35</td>\n",
       "      <td>168</td>\n",
       "      <td>43.1</td>\n",
       "      <td>2.288</td>\n",
       "      <td>33</td>\n",
       "      <td>1</td>\n",
       "    </tr>\n",
       "  </tbody>\n",
       "</table>\n",
       "</div>"
      ]
     },
     "execution_count": 3,
     "metadata": {},
     "output_type": "execute_result"
    }
   ],
   "execution_count": 3
  },
  {
   "metadata": {
    "ExecuteTime": {
     "end_time": "2025-02-10T15:37:26.413111Z",
     "start_time": "2025-02-10T15:37:26.407553Z"
    }
   },
   "cell_type": "code",
   "source": "df.isnull().sum()",
   "id": "363c56f33ef1322",
   "outputs": [
    {
     "data": {
      "text/plain": [
       "Pregnancies                 0\n",
       "Glucose                     0\n",
       "BloodPressure               0\n",
       "SkinThickness               0\n",
       "Insulin                     0\n",
       "BMI                         0\n",
       "DiabetesPedigreeFunction    0\n",
       "Age                         0\n",
       "Outcome                     0\n",
       "dtype: int64"
      ]
     },
     "execution_count": 4,
     "metadata": {},
     "output_type": "execute_result"
    }
   ],
   "execution_count": 4
  },
  {
   "metadata": {
    "ExecuteTime": {
     "end_time": "2025-02-10T15:37:26.422616Z",
     "start_time": "2025-02-10T15:37:26.414879Z"
    }
   },
   "cell_type": "code",
   "source": "df.info()",
   "id": "62cab9e4a8b6020",
   "outputs": [
    {
     "name": "stdout",
     "output_type": "stream",
     "text": [
      "<class 'pandas.core.frame.DataFrame'>\n",
      "RangeIndex: 768 entries, 0 to 767\n",
      "Data columns (total 9 columns):\n",
      " #   Column                    Non-Null Count  Dtype  \n",
      "---  ------                    --------------  -----  \n",
      " 0   Pregnancies               768 non-null    int64  \n",
      " 1   Glucose                   768 non-null    int64  \n",
      " 2   BloodPressure             768 non-null    int64  \n",
      " 3   SkinThickness             768 non-null    int64  \n",
      " 4   Insulin                   768 non-null    int64  \n",
      " 5   BMI                       768 non-null    float64\n",
      " 6   DiabetesPedigreeFunction  768 non-null    float64\n",
      " 7   Age                       768 non-null    int64  \n",
      " 8   Outcome                   768 non-null    int64  \n",
      "dtypes: float64(2), int64(7)\n",
      "memory usage: 54.1 KB\n"
     ]
    }
   ],
   "execution_count": 5
  },
  {
   "metadata": {
    "ExecuteTime": {
     "end_time": "2025-02-10T15:37:26.449636Z",
     "start_time": "2025-02-10T15:37:26.424227Z"
    }
   },
   "cell_type": "code",
   "source": "df.describe()",
   "id": "e410e86aaae988cd",
   "outputs": [
    {
     "data": {
      "text/plain": [
       "       Pregnancies     Glucose  BloodPressure  SkinThickness     Insulin  \\\n",
       "count   768.000000  768.000000     768.000000     768.000000  768.000000   \n",
       "mean      3.845052  120.894531      69.105469      20.536458   79.799479   \n",
       "std       3.369578   31.972618      19.355807      15.952218  115.244002   \n",
       "min       0.000000    0.000000       0.000000       0.000000    0.000000   \n",
       "25%       1.000000   99.000000      62.000000       0.000000    0.000000   \n",
       "50%       3.000000  117.000000      72.000000      23.000000   30.500000   \n",
       "75%       6.000000  140.250000      80.000000      32.000000  127.250000   \n",
       "max      17.000000  199.000000     122.000000      99.000000  846.000000   \n",
       "\n",
       "              BMI  DiabetesPedigreeFunction         Age     Outcome  \n",
       "count  768.000000                768.000000  768.000000  768.000000  \n",
       "mean    31.992578                  0.471876   33.240885    0.348958  \n",
       "std      7.884160                  0.331329   11.760232    0.476951  \n",
       "min      0.000000                  0.078000   21.000000    0.000000  \n",
       "25%     27.300000                  0.243750   24.000000    0.000000  \n",
       "50%     32.000000                  0.372500   29.000000    0.000000  \n",
       "75%     36.600000                  0.626250   41.000000    1.000000  \n",
       "max     67.100000                  2.420000   81.000000    1.000000  "
      ],
      "text/html": [
       "<div>\n",
       "<style scoped>\n",
       "    .dataframe tbody tr th:only-of-type {\n",
       "        vertical-align: middle;\n",
       "    }\n",
       "\n",
       "    .dataframe tbody tr th {\n",
       "        vertical-align: top;\n",
       "    }\n",
       "\n",
       "    .dataframe thead th {\n",
       "        text-align: right;\n",
       "    }\n",
       "</style>\n",
       "<table border=\"1\" class=\"dataframe\">\n",
       "  <thead>\n",
       "    <tr style=\"text-align: right;\">\n",
       "      <th></th>\n",
       "      <th>Pregnancies</th>\n",
       "      <th>Glucose</th>\n",
       "      <th>BloodPressure</th>\n",
       "      <th>SkinThickness</th>\n",
       "      <th>Insulin</th>\n",
       "      <th>BMI</th>\n",
       "      <th>DiabetesPedigreeFunction</th>\n",
       "      <th>Age</th>\n",
       "      <th>Outcome</th>\n",
       "    </tr>\n",
       "  </thead>\n",
       "  <tbody>\n",
       "    <tr>\n",
       "      <th>count</th>\n",
       "      <td>768.000000</td>\n",
       "      <td>768.000000</td>\n",
       "      <td>768.000000</td>\n",
       "      <td>768.000000</td>\n",
       "      <td>768.000000</td>\n",
       "      <td>768.000000</td>\n",
       "      <td>768.000000</td>\n",
       "      <td>768.000000</td>\n",
       "      <td>768.000000</td>\n",
       "    </tr>\n",
       "    <tr>\n",
       "      <th>mean</th>\n",
       "      <td>3.845052</td>\n",
       "      <td>120.894531</td>\n",
       "      <td>69.105469</td>\n",
       "      <td>20.536458</td>\n",
       "      <td>79.799479</td>\n",
       "      <td>31.992578</td>\n",
       "      <td>0.471876</td>\n",
       "      <td>33.240885</td>\n",
       "      <td>0.348958</td>\n",
       "    </tr>\n",
       "    <tr>\n",
       "      <th>std</th>\n",
       "      <td>3.369578</td>\n",
       "      <td>31.972618</td>\n",
       "      <td>19.355807</td>\n",
       "      <td>15.952218</td>\n",
       "      <td>115.244002</td>\n",
       "      <td>7.884160</td>\n",
       "      <td>0.331329</td>\n",
       "      <td>11.760232</td>\n",
       "      <td>0.476951</td>\n",
       "    </tr>\n",
       "    <tr>\n",
       "      <th>min</th>\n",
       "      <td>0.000000</td>\n",
       "      <td>0.000000</td>\n",
       "      <td>0.000000</td>\n",
       "      <td>0.000000</td>\n",
       "      <td>0.000000</td>\n",
       "      <td>0.000000</td>\n",
       "      <td>0.078000</td>\n",
       "      <td>21.000000</td>\n",
       "      <td>0.000000</td>\n",
       "    </tr>\n",
       "    <tr>\n",
       "      <th>25%</th>\n",
       "      <td>1.000000</td>\n",
       "      <td>99.000000</td>\n",
       "      <td>62.000000</td>\n",
       "      <td>0.000000</td>\n",
       "      <td>0.000000</td>\n",
       "      <td>27.300000</td>\n",
       "      <td>0.243750</td>\n",
       "      <td>24.000000</td>\n",
       "      <td>0.000000</td>\n",
       "    </tr>\n",
       "    <tr>\n",
       "      <th>50%</th>\n",
       "      <td>3.000000</td>\n",
       "      <td>117.000000</td>\n",
       "      <td>72.000000</td>\n",
       "      <td>23.000000</td>\n",
       "      <td>30.500000</td>\n",
       "      <td>32.000000</td>\n",
       "      <td>0.372500</td>\n",
       "      <td>29.000000</td>\n",
       "      <td>0.000000</td>\n",
       "    </tr>\n",
       "    <tr>\n",
       "      <th>75%</th>\n",
       "      <td>6.000000</td>\n",
       "      <td>140.250000</td>\n",
       "      <td>80.000000</td>\n",
       "      <td>32.000000</td>\n",
       "      <td>127.250000</td>\n",
       "      <td>36.600000</td>\n",
       "      <td>0.626250</td>\n",
       "      <td>41.000000</td>\n",
       "      <td>1.000000</td>\n",
       "    </tr>\n",
       "    <tr>\n",
       "      <th>max</th>\n",
       "      <td>17.000000</td>\n",
       "      <td>199.000000</td>\n",
       "      <td>122.000000</td>\n",
       "      <td>99.000000</td>\n",
       "      <td>846.000000</td>\n",
       "      <td>67.100000</td>\n",
       "      <td>2.420000</td>\n",
       "      <td>81.000000</td>\n",
       "      <td>1.000000</td>\n",
       "    </tr>\n",
       "  </tbody>\n",
       "</table>\n",
       "</div>"
      ]
     },
     "execution_count": 6,
     "metadata": {},
     "output_type": "execute_result"
    }
   ],
   "execution_count": 6
  },
  {
   "metadata": {},
   "cell_type": "markdown",
   "source": "Drop columns that cannot be collected by IoT Devices",
   "id": "b683d14bc19a2943"
  },
  {
   "metadata": {
    "ExecuteTime": {
     "end_time": "2025-02-10T15:37:26.459928Z",
     "start_time": "2025-02-10T15:37:26.454512Z"
    }
   },
   "cell_type": "code",
   "source": "df.drop(columns=['Pregnancies','SkinThickness','Insulin','DiabetesPedigreeFunction'], inplace=True)",
   "id": "6b38ee3aef8bb323",
   "outputs": [],
   "execution_count": 7
  },
  {
   "metadata": {
    "ExecuteTime": {
     "end_time": "2025-02-10T15:37:26.470097Z",
     "start_time": "2025-02-10T15:37:26.462037Z"
    }
   },
   "cell_type": "code",
   "source": "df.info()",
   "id": "670203c0e599cc40",
   "outputs": [
    {
     "name": "stdout",
     "output_type": "stream",
     "text": [
      "<class 'pandas.core.frame.DataFrame'>\n",
      "RangeIndex: 768 entries, 0 to 767\n",
      "Data columns (total 5 columns):\n",
      " #   Column         Non-Null Count  Dtype  \n",
      "---  ------         --------------  -----  \n",
      " 0   Glucose        768 non-null    int64  \n",
      " 1   BloodPressure  768 non-null    int64  \n",
      " 2   BMI            768 non-null    float64\n",
      " 3   Age            768 non-null    int64  \n",
      " 4   Outcome        768 non-null    int64  \n",
      "dtypes: float64(1), int64(4)\n",
      "memory usage: 30.1 KB\n"
     ]
    }
   ],
   "execution_count": 8
  },
  {
   "metadata": {
    "ExecuteTime": {
     "end_time": "2025-02-10T15:37:27.712373Z",
     "start_time": "2025-02-10T15:37:26.472059Z"
    }
   },
   "cell_type": "code",
   "source": "df.hist(bins=10, figsize=(10,8))",
   "id": "fef2e706da9db758",
   "outputs": [
    {
     "data": {
      "text/plain": [
       "array([[<Axes: title={'center': 'Glucose'}>,\n",
       "        <Axes: title={'center': 'BloodPressure'}>],\n",
       "       [<Axes: title={'center': 'BMI'}>, <Axes: title={'center': 'Age'}>],\n",
       "       [<Axes: title={'center': 'Outcome'}>, <Axes: >]], dtype=object)"
      ]
     },
     "execution_count": 9,
     "metadata": {},
     "output_type": "execute_result"
    },
    {
     "data": {
      "text/plain": [
       "<Figure size 1000x800 with 6 Axes>"
      ],
      "image/png": "[encoded data removed]"
     },
     "metadata": {},
     "output_type": "display_data"
    }
   ],
   "execution_count": 9
  },
  {
   "metadata": {
    "ExecuteTime": {
     "end_time": "2025-02-10T15:37:27.719407Z",
     "start_time": "2025-02-10T15:37:27.713960Z"
    }
   },
   "cell_type": "code",
   "source": "df['Outcome'].value_counts()",
   "id": "6fa9052d3537d61",
   "outputs": [
    {
     "data": {
      "text/plain": [
       "Outcome\n",
       "0    500\n",
       "1    268\n",
       "Name: count, dtype: int64"
      ]
     },
     "execution_count": 10,
     "metadata": {},
     "output_type": "execute_result"
    }
   ],
   "execution_count": 10
  },
  {
   "metadata": {},
   "cell_type": "markdown",
   "source": "Replace 'zero' with null",
   "id": "7c9df9e8bd35fd5d"
  },
  {
   "metadata": {
    "ExecuteTime": {
     "end_time": "2025-02-10T15:37:27.730692Z",
     "start_time": "2025-02-10T15:37:27.720940Z"
    }
   },
   "cell_type": "code",
   "source": [
    "# Copy the first 4 columns\n",
    "rows_to_impute = df.iloc[:, 0:3].copy()\n",
    "\n",
    "# Replace zero values with NaN\n",
    "rows_to_impute.replace(0, np.nan, inplace=True)\n",
    "\n",
    "# Update df with the processed data\n",
    "df.iloc[:, 0:3] = rows_to_impute\n",
    "print(df)"
   ],
   "id": "10df3b13a6944e90",
   "outputs": [
    {
     "name": "stdout",
     "output_type": "stream",
     "text": [
      "     Glucose  BloodPressure   BMI  Age  Outcome\n",
      "0      148.0           72.0  33.6   50        1\n",
      "1       85.0           66.0  26.6   31        0\n",
      "2      183.0           64.0  23.3   32        1\n",
      "3       89.0           66.0  28.1   21        0\n",
      "4      137.0           40.0  43.1   33        1\n",
      "..       ...            ...   ...  ...      ...\n",
      "763    101.0           76.0  32.9   63        0\n",
      "764    122.0           70.0  36.8   27        0\n",
      "765    121.0           72.0  26.2   30        0\n",
      "766    126.0           60.0  30.1   47        1\n",
      "767     93.0           70.0  30.4   23        0\n",
      "\n",
      "[768 rows x 5 columns]\n"
     ]
    },
    {
     "name": "stderr",
     "output_type": "stream",
     "text": [
      "/var/folders/zq/6xpyjvds7tv_bz1html9bdlw0000gn/T/ipykernel_91531/705721988.py:8: FutureWarning: Setting an item of incompatible dtype is deprecated and will raise in a future error of pandas. Value '0      148.0\n",
      "1       85.0\n",
      "2      183.0\n",
      "3       89.0\n",
      "4      137.0\n",
      "       ...  \n",
      "763    101.0\n",
      "764    122.0\n",
      "765    121.0\n",
      "766    126.0\n",
      "767     93.0\n",
      "Name: Glucose, Length: 768, dtype: float64' has dtype incompatible with int64, please explicitly cast to a compatible dtype first.\n",
      "  df.iloc[:, 0:3] = rows_to_impute\n",
      "/var/folders/zq/6xpyjvds7tv_bz1html9bdlw0000gn/T/ipykernel_91531/705721988.py:8: FutureWarning: Setting an item of incompatible dtype is deprecated and will raise in a future error of pandas. Value '0      72.0\n",
      "1      66.0\n",
      "2      64.0\n",
      "3      66.0\n",
      "4      40.0\n",
      "       ... \n",
      "763    76.0\n",
      "764    70.0\n",
      "765    72.0\n",
      "766    60.0\n",
      "767    70.0\n",
      "Name: BloodPressure, Length: 768, dtype: float64' has dtype incompatible with int64, please explicitly cast to a compatible dtype first.\n",
      "  df.iloc[:, 0:3] = rows_to_impute\n"
     ]
    }
   ],
   "execution_count": 11
  },
  {
   "metadata": {},
   "cell_type": "markdown",
   "source": "Drop row that have null",
   "id": "96cb3cc565134f00"
  },
  {
   "metadata": {
    "ExecuteTime": {
     "end_time": "2025-02-10T15:37:27.738792Z",
     "start_time": "2025-02-10T15:37:27.732069Z"
    }
   },
   "cell_type": "code",
   "source": "df.isnull().sum()",
   "id": "82c7abaceafa0c36",
   "outputs": [
    {
     "data": {
      "text/plain": [
       "Glucose           5\n",
       "BloodPressure    35\n",
       "BMI              11\n",
       "Age               0\n",
       "Outcome           0\n",
       "dtype: int64"
      ]
     },
     "execution_count": 12,
     "metadata": {},
     "output_type": "execute_result"
    }
   ],
   "execution_count": 12
  },
  {
   "metadata": {
    "ExecuteTime": {
     "end_time": "2025-02-10T15:37:27.747461Z",
     "start_time": "2025-02-10T15:37:27.740908Z"
    }
   },
   "cell_type": "code",
   "source": [
    "df = df.dropna()\n",
    "print(df)"
   ],
   "id": "215457b565f31ca7",
   "outputs": [
    {
     "name": "stdout",
     "output_type": "stream",
     "text": [
      "     Glucose  BloodPressure   BMI  Age  Outcome\n",
      "0      148.0           72.0  33.6   50        1\n",
      "1       85.0           66.0  26.6   31        0\n",
      "2      183.0           64.0  23.3   32        1\n",
      "3       89.0           66.0  28.1   21        0\n",
      "4      137.0           40.0  43.1   33        1\n",
      "..       ...            ...   ...  ...      ...\n",
      "763    101.0           76.0  32.9   63        0\n",
      "764    122.0           70.0  36.8   27        0\n",
      "765    121.0           72.0  26.2   30        0\n",
      "766    126.0           60.0  30.1   47        1\n",
      "767     93.0           70.0  30.4   23        0\n",
      "\n",
      "[724 rows x 5 columns]\n"
     ]
    }
   ],
   "execution_count": 13
  },
  {
   "metadata": {
    "ExecuteTime": {
     "end_time": "2025-02-10T15:37:27.756151Z",
     "start_time": "2025-02-10T15:37:27.749648Z"
    }
   },
   "cell_type": "code",
   "source": "df.info()",
   "id": "5077b17e58f19927",
   "outputs": [
    {
     "name": "stdout",
     "output_type": "stream",
     "text": [
      "<class 'pandas.core.frame.DataFrame'>\n",
      "Index: 724 entries, 0 to 767\n",
      "Data columns (total 5 columns):\n",
      " #   Column         Non-Null Count  Dtype  \n",
      "---  ------         --------------  -----  \n",
      " 0   Glucose        724 non-null    float64\n",
      " 1   BloodPressure  724 non-null    float64\n",
      " 2   BMI            724 non-null    float64\n",
      " 3   Age            724 non-null    int64  \n",
      " 4   Outcome        724 non-null    int64  \n",
      "dtypes: float64(3), int64(2)\n",
      "memory usage: 33.9 KB\n"
     ]
    }
   ],
   "execution_count": 14
  },
  {
   "metadata": {
    "ExecuteTime": {
     "end_time": "2025-02-10T15:37:27.771886Z",
     "start_time": "2025-02-10T15:37:27.757463Z"
    }
   },
   "cell_type": "code",
   "source": "df.describe()",
   "id": "4aee6433d4c0d547",
   "outputs": [
    {
     "data": {
      "text/plain": [
       "          Glucose  BloodPressure         BMI         Age     Outcome\n",
       "count  724.000000     724.000000  724.000000  724.000000  724.000000\n",
       "mean   121.882597      72.400552   32.467127   33.350829    0.343923\n",
       "std     30.750030      12.379870    6.888941   11.765393    0.475344\n",
       "min     44.000000      24.000000   18.200000   21.000000    0.000000\n",
       "25%     99.750000      64.000000   27.500000   24.000000    0.000000\n",
       "50%    117.000000      72.000000   32.400000   29.000000    0.000000\n",
       "75%    142.000000      80.000000   36.600000   41.000000    1.000000\n",
       "max    199.000000     122.000000   67.100000   81.000000    1.000000"
      ],
      "text/html": [
       "<div>\n",
       "<style scoped>\n",
       "    .dataframe tbody tr th:only-of-type {\n",
       "        vertical-align: middle;\n",
       "    }\n",
       "\n",
       "    .dataframe tbody tr th {\n",
       "        vertical-align: top;\n",
       "    }\n",
       "\n",
       "    .dataframe thead th {\n",
       "        text-align: right;\n",
       "    }\n",
       "</style>\n",
       "<table border=\"1\" class=\"dataframe\">\n",
       "  <thead>\n",
       "    <tr style=\"text-align: right;\">\n",
       "      <th></th>\n",
       "      <th>Glucose</th>\n",
       "      <th>BloodPressure</th>\n",
       "      <th>BMI</th>\n",
       "      <th>Age</th>\n",
       "      <th>Outcome</th>\n",
       "    </tr>\n",
       "  </thead>\n",
       "  <tbody>\n",
       "    <tr>\n",
       "      <th>count</th>\n",
       "      <td>724.000000</td>\n",
       "      <td>724.000000</td>\n",
       "      <td>724.000000</td>\n",
       "      <td>724.000000</td>\n",
       "      <td>724.000000</td>\n",
       "    </tr>\n",
       "    <tr>\n",
       "      <th>mean</th>\n",
       "      <td>121.882597</td>\n",
       "      <td>72.400552</td>\n",
       "      <td>32.467127</td>\n",
       "      <td>33.350829</td>\n",
       "      <td>0.343923</td>\n",
       "    </tr>\n",
       "    <tr>\n",
       "      <th>std</th>\n",
       "      <td>30.750030</td>\n",
       "      <td>12.379870</td>\n",
       "      <td>6.888941</td>\n",
       "      <td>11.765393</td>\n",
       "      <td>0.475344</td>\n",
       "    </tr>\n",
       "    <tr>\n",
       "      <th>min</th>\n",
       "      <td>44.000000</td>\n",
       "      <td>24.000000</td>\n",
       "      <td>18.200000</td>\n",
       "      <td>21.000000</td>\n",
       "      <td>0.000000</td>\n",
       "    </tr>\n",
       "    <tr>\n",
       "      <th>25%</th>\n",
       "      <td>99.750000</td>\n",
       "      <td>64.000000</td>\n",
       "      <td>27.500000</td>\n",
       "      <td>24.000000</td>\n",
       "      <td>0.000000</td>\n",
       "    </tr>\n",
       "    <tr>\n",
       "      <th>50%</th>\n",
       "      <td>117.000000</td>\n",
       "      <td>72.000000</td>\n",
       "      <td>32.400000</td>\n",
       "      <td>29.000000</td>\n",
       "      <td>0.000000</td>\n",
       "    </tr>\n",
       "    <tr>\n",
       "      <th>75%</th>\n",
       "      <td>142.000000</td>\n",
       "      <td>80.000000</td>\n",
       "      <td>36.600000</td>\n",
       "      <td>41.000000</td>\n",
       "      <td>1.000000</td>\n",
       "    </tr>\n",
       "    <tr>\n",
       "      <th>max</th>\n",
       "      <td>199.000000</td>\n",
       "      <td>122.000000</td>\n",
       "      <td>67.100000</td>\n",
       "      <td>81.000000</td>\n",
       "      <td>1.000000</td>\n",
       "    </tr>\n",
       "  </tbody>\n",
       "</table>\n",
       "</div>"
      ]
     },
     "execution_count": 15,
     "metadata": {},
     "output_type": "execute_result"
    }
   ],
   "execution_count": 15
  },
  {
   "metadata": {},
   "cell_type": "markdown",
   "source": "Split Data 80:20",
   "id": "8803347b16cd5a68"
  },
  {
   "metadata": {
    "ExecuteTime": {
     "end_time": "2025-02-10T15:37:27.777361Z",
     "start_time": "2025-02-10T15:37:27.774253Z"
    }
   },
   "cell_type": "code",
   "source": [
    "x = df.iloc[:,0:4] #select all rows, select columns 0 to 4\n",
    "y = df['Outcome']"
   ],
   "id": "1279ddc4d5e8994",
   "outputs": [],
   "execution_count": 16
  },
  {
   "metadata": {
    "ExecuteTime": {
     "end_time": "2025-02-10T15:37:27.786664Z",
     "start_time": "2025-02-10T15:37:27.779050Z"
    }
   },
   "cell_type": "code",
   "source": "x.head()",
   "id": "1c2b033c7f7bdcea",
   "outputs": [
    {
     "data": {
      "text/plain": [
       "   Glucose  BloodPressure   BMI  Age\n",
       "0    148.0           72.0  33.6   50\n",
       "1     85.0           66.0  26.6   31\n",
       "2    183.0           64.0  23.3   32\n",
       "3     89.0           66.0  28.1   21\n",
       "4    137.0           40.0  43.1   33"
      ],
      "text/html": [
       "<div>\n",
       "<style scoped>\n",
       "    .dataframe tbody tr th:only-of-type {\n",
       "        vertical-align: middle;\n",
       "    }\n",
       "\n",
       "    .dataframe tbody tr th {\n",
       "        vertical-align: top;\n",
       "    }\n",
       "\n",
       "    .dataframe thead th {\n",
       "        text-align: right;\n",
       "    }\n",
       "</style>\n",
       "<table border=\"1\" class=\"dataframe\">\n",
       "  <thead>\n",
       "    <tr style=\"text-align: right;\">\n",
       "      <th></th>\n",
       "      <th>Glucose</th>\n",
       "      <th>BloodPressure</th>\n",
       "      <th>BMI</th>\n",
       "      <th>Age</th>\n",
       "    </tr>\n",
       "  </thead>\n",
       "  <tbody>\n",
       "    <tr>\n",
       "      <th>0</th>\n",
       "      <td>148.0</td>\n",
       "      <td>72.0</td>\n",
       "      <td>33.6</td>\n",
       "      <td>50</td>\n",
       "    </tr>\n",
       "    <tr>\n",
       "      <th>1</th>\n",
       "      <td>85.0</td>\n",
       "      <td>66.0</td>\n",
       "      <td>26.6</td>\n",
       "      <td>31</td>\n",
       "    </tr>\n",
       "    <tr>\n",
       "      <th>2</th>\n",
       "      <td>183.0</td>\n",
       "      <td>64.0</td>\n",
       "      <td>23.3</td>\n",
       "      <td>32</td>\n",
       "    </tr>\n",
       "    <tr>\n",
       "      <th>3</th>\n",
       "      <td>89.0</td>\n",
       "      <td>66.0</td>\n",
       "      <td>28.1</td>\n",
       "      <td>21</td>\n",
       "    </tr>\n",
       "    <tr>\n",
       "      <th>4</th>\n",
       "      <td>137.0</td>\n",
       "      <td>40.0</td>\n",
       "      <td>43.1</td>\n",
       "      <td>33</td>\n",
       "    </tr>\n",
       "  </tbody>\n",
       "</table>\n",
       "</div>"
      ]
     },
     "execution_count": 17,
     "metadata": {},
     "output_type": "execute_result"
    }
   ],
   "execution_count": 17
  },
  {
   "metadata": {
    "ExecuteTime": {
     "end_time": "2025-02-10T15:37:27.794495Z",
     "start_time": "2025-02-10T15:37:27.789002Z"
    }
   },
   "cell_type": "code",
   "source": "y.sample(5)",
   "id": "b9aec2b644a1c7bc",
   "outputs": [
    {
     "data": {
      "text/plain": [
       "715    1\n",
       "577    1\n",
       "241    0\n",
       "213    1\n",
       "644    0\n",
       "Name: Outcome, dtype: int64"
      ]
     },
     "execution_count": 18,
     "metadata": {},
     "output_type": "execute_result"
    }
   ],
   "execution_count": 18
  },
  {
   "metadata": {
    "ExecuteTime": {
     "end_time": "2025-02-10T15:37:28.961110Z",
     "start_time": "2025-02-10T15:37:27.796177Z"
    }
   },
   "cell_type": "code",
   "source": [
    "from sklearn.model_selection import train_test_split\n",
    "X_train, x_test, y_train, y_test = train_test_split(x ,y , test_size=0.2)\n",
    "# Split train and test into 80:20"
   ],
   "id": "4efa89d794a4c06b",
   "outputs": [],
   "execution_count": 19
  },
  {
   "metadata": {
    "ExecuteTime": {
     "end_time": "2025-02-10T15:37:28.966311Z",
     "start_time": "2025-02-10T15:37:28.962229Z"
    }
   },
   "cell_type": "code",
   "source": "X_train.shape",
   "id": "a99854a953d0b53b",
   "outputs": [
    {
     "data": {
      "text/plain": [
       "(579, 4)"
      ]
     },
     "execution_count": 20,
     "metadata": {},
     "output_type": "execute_result"
    }
   ],
   "execution_count": 20
  },
  {
   "metadata": {
    "ExecuteTime": {
     "end_time": "2025-02-10T15:37:28.971747Z",
     "start_time": "2025-02-10T15:37:28.967821Z"
    }
   },
   "cell_type": "code",
   "source": "y_train.shape",
   "id": "8893ffc0c8ee7482",
   "outputs": [
    {
     "data": {
      "text/plain": [
       "(579,)"
      ]
     },
     "execution_count": 21,
     "metadata": {},
     "output_type": "execute_result"
    }
   ],
   "execution_count": 21
  },
  {
   "metadata": {
    "ExecuteTime": {
     "end_time": "2025-02-10T15:37:28.984599Z",
     "start_time": "2025-02-10T15:37:28.979472Z"
    }
   },
   "cell_type": "code",
   "source": "x_test.shape",
   "id": "ac6c9be65b54d9af",
   "outputs": [
    {
     "data": {
      "text/plain": [
       "(145, 4)"
      ]
     },
     "execution_count": 22,
     "metadata": {},
     "output_type": "execute_result"
    }
   ],
   "execution_count": 22
  },
  {
   "metadata": {
    "ExecuteTime": {
     "end_time": "2025-02-10T15:37:28.993007Z",
     "start_time": "2025-02-10T15:37:28.986188Z"
    }
   },
   "cell_type": "code",
   "source": [
    "from sklearn import preprocessing\n",
    "stand = preprocessing.StandardScaler()\n",
    "X_train = stand.fit_transform(X_train)\n",
    "x_test = stand.transform(x_test)"
   ],
   "id": "eeba383ff8fff5ab",
   "outputs": [],
   "execution_count": 23
  },
  {
   "metadata": {},
   "cell_type": "markdown",
   "source": "Random Forest",
   "id": "57a77c121f6946cb"
  },
  {
   "metadata": {
    "ExecuteTime": {
     "end_time": "2025-02-10T15:37:28.997554Z",
     "start_time": "2025-02-10T15:37:28.994509Z"
    }
   },
   "cell_type": "code",
   "source": [
    "parameters ={\n",
    "      'criterion' : ['gini', 'entropy'],\n",
    "      'max_features': ['sqrt'],\n",
    "      'random_state': range(1, 51, 10),\n",
    "      'min_samples_leaf': range(1, 51, 10),\n",
    "      'n_estimators': range(1, 51, 10)}"
   ],
   "id": "a7bd5575f864feba",
   "outputs": [],
   "execution_count": 24
  },
  {
   "metadata": {},
   "cell_type": "markdown",
   "source": "SMOTE to help imbalance data",
   "id": "3a51a468e6be58ff"
  },
  {
   "metadata": {
    "ExecuteTime": {
     "end_time": "2025-02-10T15:37:30.629994Z",
     "start_time": "2025-02-10T15:37:28.999346Z"
    }
   },
   "cell_type": "code",
   "source": [
    "from imblearn.over_sampling import SMOTE\n",
    "(X_sample, y_sample) = train_test_split(df, test_size=0.2, stratify = y)\n",
    "\n",
    "X_train = X_sample.iloc[:,:-1].values\n",
    "y_train = X_sample.iloc[:,-1].values\n",
    "x_test_smote = y_sample.iloc[:,:-1].values\n",
    "y_test_smote = y_sample.iloc[:,-1].values"
   ],
   "id": "d043e40c6a8dc0d",
   "outputs": [],
   "execution_count": 25
  },
  {
   "metadata": {
    "ExecuteTime": {
     "end_time": "2025-02-10T15:37:30.636746Z",
     "start_time": "2025-02-10T15:37:30.630956Z"
    }
   },
   "cell_type": "code",
   "source": [
    "smote = SMOTE()\n",
    "X_train_smote, y_train_smote = smote.fit_resample(X_train, y_train)"
   ],
   "id": "250fca7466a4ddc8",
   "outputs": [],
   "execution_count": 26
  },
  {
   "metadata": {
    "ExecuteTime": {
     "end_time": "2025-02-10T15:37:41.128639Z",
     "start_time": "2025-02-10T15:37:30.637925Z"
    }
   },
   "cell_type": "code",
   "source": [
    "%%time\n",
    "from sklearn.model_selection import GridSearchCV, KFold\n",
    "from sklearn.ensemble import RandomForestClassifier\n",
    "from sklearn.metrics import accuracy_score, precision_score, recall_score, f1_score, confusion_matrix\n",
    "# Create a RandomForestClassifier object\n",
    "clf = RandomForestClassifier()\n",
    "kf = KFold(n_splits=5, shuffle=True, random_state=0)\n",
    "rf_classifier = GridSearchCV(clf, parameters, cv=kf, scoring='recall          ',n_jobs=-1 ,error_score='raise')\n",
    "\n",
    "# Fit the model on training data\n",
    "rf_classifier.fit(X_train_smote, y_train_smote)\n",
    "\n",
    "# Get the best estimator from the GridSearch\n",
    "best_model = rf_classifier.best_estimator_\n",
    "\n",
    "# Access the best model's cross-validation accuracy\n",
    "smote_best_score = rf_classifier.best_score_\n",
    "\n",
    "# Print the best accuracy\n",
    "print(\"Best Score (K-Fold CV):\", smote_best_score)\n",
    "print(f\"Best Parameters: {rf_classifier.best_params_}\")"
   ],
   "id": "e03891baddeb5c1c",
   "outputs": [
    {
     "name": "stdout",
     "output_type": "stream",
     "text": [
      "Best Score (K-Fold CV): 0.8574694918670822\n",
      "Best Parameters: {'criterion': 'entropy', 'max_features': 'sqrt', 'min_samples_leaf': 1, 'n_estimators': 41, 'random_state': 11}\n",
      "CPU times: user 723 ms, sys: 148 ms, total: 871 ms\n",
      "Wall time: 10.5 s\n"
     ]
    }
   ],
   "execution_count": 27
  },
  {
   "metadata": {
    "ExecuteTime": {
     "end_time": "2025-02-10T15:37:41.137525Z",
     "start_time": "2025-02-10T15:37:41.131041Z"
    }
   },
   "cell_type": "code",
   "source": [
    "# Make predictions on the test data\n",
    "y_pred_smote = best_model.predict(x_test_smote)"
   ],
   "id": "862a81b2b40b6dc5",
   "outputs": [],
   "execution_count": 28
  },
  {
   "metadata": {
    "ExecuteTime": {
     "end_time": "2025-02-10T15:37:41.151648Z",
     "start_time": "2025-02-10T15:37:41.138855Z"
    }
   },
   "cell_type": "code",
   "source": [
    "cm = confusion_matrix(y_test_smote, y_pred_smote)\n",
    "smote_accuracy = accuracy_score(y_test_smote, y_pred_smote)\n",
    "smote_precision = precision_score(y_test_smote, y_pred_smote)\n",
    "smote_recall = recall_score(y_test_smote, y_pred_smote)\n",
    "smote_f1 = f1_score(y_test_smote, y_pred_smote)\n",
    "\n",
    "print(cm)"
   ],
   "id": "12bb3735d8ba36ae",
   "outputs": [
    {
     "name": "stdout",
     "output_type": "stream",
     "text": [
      "[[79 16]\n",
      " [15 35]]\n"
     ]
    }
   ],
   "execution_count": 29
  },
  {
   "metadata": {
    "ExecuteTime": {
     "end_time": "2025-02-10T15:38:18.177742Z",
     "start_time": "2025-02-10T15:37:41.153281Z"
    }
   },
   "cell_type": "code",
   "source": [
    "from sklearn.model_selection import cross_val_score\n",
    "from statistics import stdev\n",
    "score = cross_val_score(rf_classifier, X_train_smote, y_train_smote, cv=kf, scoring='recall')\n",
    "smote_avg_score = score.mean()\n",
    "smote_stdev = stdev(score)"
   ],
   "id": "7c341b95ed90a9af",
   "outputs": [
    {
     "name": "stderr",
     "output_type": "stream",
     "text": [
      "/Users/kamme/anaconda3/lib/python3.11/site-packages/numpy/ma/core.py:2820: RuntimeWarning: invalid value encountered in cast\n",
      "  _data = np.array(data, dtype=dtype, copy=copy,\n",
      "/Users/kamme/anaconda3/lib/python3.11/site-packages/numpy/ma/core.py:2820: RuntimeWarning: invalid value encountered in cast\n",
      "  _data = np.array(data, dtype=dtype, copy=copy,\n",
      "/Users/kamme/anaconda3/lib/python3.11/site-packages/numpy/ma/core.py:2820: RuntimeWarning: invalid value encountered in cast\n",
      "  _data = np.array(data, dtype=dtype, copy=copy,\n"
     ]
    }
   ],
   "execution_count": 30
  },
  {
   "metadata": {
    "ExecuteTime": {
     "end_time": "2025-02-10T15:38:18.189248Z",
     "start_time": "2025-02-10T15:38:18.179086Z"
    }
   },
   "cell_type": "code",
   "source": [
    "ndf = [(smote_recall, smote_precision, smote_f1, smote_accuracy, smote_avg_score, smote_stdev)]\n",
    "\n",
    "smote_rf_score = pd.DataFrame(data = ndf, columns=\n",
    "                        ['Recall','Precision','F1 Score', 'Accuracy', 'Avg CV F1', 'Standard Deviation'])\n",
    "smote_rf_score.insert(0, 'Random Forest', 'Tuning hyperparameters with SMOTE')\n",
    "smote_rf_score"
   ],
   "id": "8a5b4aa133bdd3c2",
   "outputs": [
    {
     "data": {
      "text/plain": [
       "                       Random Forest  Recall  Precision  F1 Score  Accuracy  \\\n",
       "0  Tuning hyperparameters with SMOTE     0.7   0.686275  0.693069  0.786207   \n",
       "\n",
       "   Avg CV F1  Standard Deviation  \n",
       "0   0.826409            0.065774  "
      ],
      "text/html": [
       "<div>\n",
       "<style scoped>\n",
       "    .dataframe tbody tr th:only-of-type {\n",
       "        vertical-align: middle;\n",
       "    }\n",
       "\n",
       "    .dataframe tbody tr th {\n",
       "        vertical-align: top;\n",
       "    }\n",
       "\n",
       "    .dataframe thead th {\n",
       "        text-align: right;\n",
       "    }\n",
       "</style>\n",
       "<table border=\"1\" class=\"dataframe\">\n",
       "  <thead>\n",
       "    <tr style=\"text-align: right;\">\n",
       "      <th></th>\n",
       "      <th>Random Forest</th>\n",
       "      <th>Recall</th>\n",
       "      <th>Precision</th>\n",
       "      <th>F1 Score</th>\n",
       "      <th>Accuracy</th>\n",
       "      <th>Avg CV F1</th>\n",
       "      <th>Standard Deviation</th>\n",
       "    </tr>\n",
       "  </thead>\n",
       "  <tbody>\n",
       "    <tr>\n",
       "      <th>0</th>\n",
       "      <td>Tuning hyperparameters with SMOTE</td>\n",
       "      <td>0.7</td>\n",
       "      <td>0.686275</td>\n",
       "      <td>0.693069</td>\n",
       "      <td>0.786207</td>\n",
       "      <td>0.826409</td>\n",
       "      <td>0.065774</td>\n",
       "    </tr>\n",
       "  </tbody>\n",
       "</table>\n",
       "</div>"
      ]
     },
     "execution_count": 31,
     "metadata": {},
     "output_type": "execute_result"
    }
   ],
   "execution_count": 31
  }
 ],
 "metadata": {
  "kernelspec": {
   "display_name": "Python 3",
   "language": "python",
   "name": "python3"
  },
  "language_info": {
   "codemirror_mode": {
    "name": "ipython",
    "version": 2
   },
   "file_extension": ".py",
   "mimetype": "text/x-python",
   "name": "python",
   "nbconvert_exporter": "python",
   "pygments_lexer": "ipython2",
   "version": "2.7.6"
  }
 },
 "nbformat": 4,
 "nbformat_minor": 5
}
