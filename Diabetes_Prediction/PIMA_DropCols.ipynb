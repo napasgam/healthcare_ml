{
 "cells": [
  {
   "metadata": {},
   "cell_type": "markdown",
   "source": "# Model for Diabetes Risk Prediction ",
   "id": "7072308586d0f6d"
  },
  {
   "metadata": {},
   "cell_type": "markdown",
   "source": "## PIMA Indian Diabetes Dataset 3",
   "id": "a7e19eecf70d0ef5"
  },
  {
   "metadata": {},
   "cell_type": "markdown",
   "source": " ( Dataset removing missing value rows)",
   "id": "b385d33eb9600888"
  },
  {
   "metadata": {
    "ExecuteTime": {
     "end_time": "2025-03-10T06:26:09.358103Z",
     "start_time": "2025-03-10T06:26:09.354587Z"
    }
   },
   "cell_type": "code",
   "source": [
    "import numpy as np\n",
    "import pandas as pd\n",
    "import matplotlib.pyplot as plt"
   ],
   "id": "initial_id",
   "outputs": [],
   "execution_count": 885
  },
  {
   "metadata": {
    "ExecuteTime": {
     "end_time": "2025-03-10T06:26:09.381014Z",
     "start_time": "2025-03-10T06:26:09.375290Z"
    }
   },
   "cell_type": "code",
   "source": "df = pd.read_csv('Dataset/diabetes.csv')",
   "id": "e003af1f2420583c",
   "outputs": [],
   "execution_count": 886
  },
  {
   "metadata": {
    "ExecuteTime": {
     "end_time": "2025-03-10T06:26:09.395835Z",
     "start_time": "2025-03-10T06:26:09.388180Z"
    }
   },
   "cell_type": "code",
   "source": "df.head()",
   "id": "a5235f80b6257188",
   "outputs": [
    {
     "data": {
      "text/plain": [
       "   Pregnancies  Glucose  BloodPressure  SkinThickness  Insulin   BMI  \\\n",
       "0            6      148             72             35        0  33.6   \n",
       "1            1       85             66             29        0  26.6   \n",
       "2            8      183             64              0        0  23.3   \n",
       "3            1       89             66             23       94  28.1   \n",
       "4            0      137             40             35      168  43.1   \n",
       "\n",
       "   DiabetesPedigreeFunction  Age  Outcome  \n",
       "0                     0.627   50        1  \n",
       "1                     0.351   31        0  \n",
       "2                     0.672   32        1  \n",
       "3                     0.167   21        0  \n",
       "4                     2.288   33        1  "
      ],
      "text/html": [
       "<div>\n",
       "<style scoped>\n",
       "    .dataframe tbody tr th:only-of-type {\n",
       "        vertical-align: middle;\n",
       "    }\n",
       "\n",
       "    .dataframe tbody tr th {\n",
       "        vertical-align: top;\n",
       "    }\n",
       "\n",
       "    .dataframe thead th {\n",
       "        text-align: right;\n",
       "    }\n",
       "</style>\n",
       "<table border=\"1\" class=\"dataframe\">\n",
       "  <thead>\n",
       "    <tr style=\"text-align: right;\">\n",
       "      <th></th>\n",
       "      <th>Pregnancies</th>\n",
       "      <th>Glucose</th>\n",
       "      <th>BloodPressure</th>\n",
       "      <th>SkinThickness</th>\n",
       "      <th>Insulin</th>\n",
       "      <th>BMI</th>\n",
       "      <th>DiabetesPedigreeFunction</th>\n",
       "      <th>Age</th>\n",
       "      <th>Outcome</th>\n",
       "    </tr>\n",
       "  </thead>\n",
       "  <tbody>\n",
       "    <tr>\n",
       "      <th>0</th>\n",
       "      <td>6</td>\n",
       "      <td>148</td>\n",
       "      <td>72</td>\n",
       "      <td>35</td>\n",
       "      <td>0</td>\n",
       "      <td>33.6</td>\n",
       "      <td>0.627</td>\n",
       "      <td>50</td>\n",
       "      <td>1</td>\n",
       "    </tr>\n",
       "    <tr>\n",
       "      <th>1</th>\n",
       "      <td>1</td>\n",
       "      <td>85</td>\n",
       "      <td>66</td>\n",
       "      <td>29</td>\n",
       "      <td>0</td>\n",
       "      <td>26.6</td>\n",
       "      <td>0.351</td>\n",
       "      <td>31</td>\n",
       "      <td>0</td>\n",
       "    </tr>\n",
       "    <tr>\n",
       "      <th>2</th>\n",
       "      <td>8</td>\n",
       "      <td>183</td>\n",
       "      <td>64</td>\n",
       "      <td>0</td>\n",
       "      <td>0</td>\n",
       "      <td>23.3</td>\n",
       "      <td>0.672</td>\n",
       "      <td>32</td>\n",
       "      <td>1</td>\n",
       "    </tr>\n",
       "    <tr>\n",
       "      <th>3</th>\n",
       "      <td>1</td>\n",
       "      <td>89</td>\n",
       "      <td>66</td>\n",
       "      <td>23</td>\n",
       "      <td>94</td>\n",
       "      <td>28.1</td>\n",
       "      <td>0.167</td>\n",
       "      <td>21</td>\n",
       "      <td>0</td>\n",
       "    </tr>\n",
       "    <tr>\n",
       "      <th>4</th>\n",
       "      <td>0</td>\n",
       "      <td>137</td>\n",
       "      <td>40</td>\n",
       "      <td>35</td>\n",
       "      <td>168</td>\n",
       "      <td>43.1</td>\n",
       "      <td>2.288</td>\n",
       "      <td>33</td>\n",
       "      <td>1</td>\n",
       "    </tr>\n",
       "  </tbody>\n",
       "</table>\n",
       "</div>"
      ]
     },
     "execution_count": 887,
     "metadata": {},
     "output_type": "execute_result"
    }
   ],
   "execution_count": 887
  },
  {
   "metadata": {
    "ExecuteTime": {
     "end_time": "2025-03-10T06:26:09.416255Z",
     "start_time": "2025-03-10T06:26:09.407027Z"
    }
   },
   "cell_type": "code",
   "source": "df.isnull().sum()",
   "id": "363c56f33ef1322",
   "outputs": [
    {
     "data": {
      "text/plain": [
       "Pregnancies                 0\n",
       "Glucose                     0\n",
       "BloodPressure               0\n",
       "SkinThickness               0\n",
       "Insulin                     0\n",
       "BMI                         0\n",
       "DiabetesPedigreeFunction    0\n",
       "Age                         0\n",
       "Outcome                     0\n",
       "dtype: int64"
      ]
     },
     "execution_count": 888,
     "metadata": {},
     "output_type": "execute_result"
    }
   ],
   "execution_count": 888
  },
  {
   "metadata": {
    "ExecuteTime": {
     "end_time": "2025-03-10T06:26:09.470028Z",
     "start_time": "2025-03-10T06:26:09.464455Z"
    }
   },
   "cell_type": "code",
   "source": "df.info()",
   "id": "62cab9e4a8b6020",
   "outputs": [
    {
     "name": "stdout",
     "output_type": "stream",
     "text": [
      "<class 'pandas.core.frame.DataFrame'>\n",
      "RangeIndex: 768 entries, 0 to 767\n",
      "Data columns (total 9 columns):\n",
      " #   Column                    Non-Null Count  Dtype  \n",
      "---  ------                    --------------  -----  \n",
      " 0   Pregnancies               768 non-null    int64  \n",
      " 1   Glucose                   768 non-null    int64  \n",
      " 2   BloodPressure             768 non-null    int64  \n",
      " 3   SkinThickness             768 non-null    int64  \n",
      " 4   Insulin                   768 non-null    int64  \n",
      " 5   BMI                       768 non-null    float64\n",
      " 6   DiabetesPedigreeFunction  768 non-null    float64\n",
      " 7   Age                       768 non-null    int64  \n",
      " 8   Outcome                   768 non-null    int64  \n",
      "dtypes: float64(2), int64(7)\n",
      "memory usage: 54.1 KB\n"
     ]
    }
   ],
   "execution_count": 889
  },
  {
   "metadata": {
    "ExecuteTime": {
     "end_time": "2025-03-10T06:26:09.529538Z",
     "start_time": "2025-03-10T06:26:09.515130Z"
    }
   },
   "cell_type": "code",
   "source": "df.describe()",
   "id": "e410e86aaae988cd",
   "outputs": [
    {
     "data": {
      "text/plain": [
       "       Pregnancies     Glucose  BloodPressure  SkinThickness     Insulin  \\\n",
       "count   768.000000  768.000000     768.000000     768.000000  768.000000   \n",
       "mean      3.845052  120.894531      69.105469      20.536458   79.799479   \n",
       "std       3.369578   31.972618      19.355807      15.952218  115.244002   \n",
       "min       0.000000    0.000000       0.000000       0.000000    0.000000   \n",
       "25%       1.000000   99.000000      62.000000       0.000000    0.000000   \n",
       "50%       3.000000  117.000000      72.000000      23.000000   30.500000   \n",
       "75%       6.000000  140.250000      80.000000      32.000000  127.250000   \n",
       "max      17.000000  199.000000     122.000000      99.000000  846.000000   \n",
       "\n",
       "              BMI  DiabetesPedigreeFunction         Age     Outcome  \n",
       "count  768.000000                768.000000  768.000000  768.000000  \n",
       "mean    31.992578                  0.471876   33.240885    0.348958  \n",
       "std      7.884160                  0.331329   11.760232    0.476951  \n",
       "min      0.000000                  0.078000   21.000000    0.000000  \n",
       "25%     27.300000                  0.243750   24.000000    0.000000  \n",
       "50%     32.000000                  0.372500   29.000000    0.000000  \n",
       "75%     36.600000                  0.626250   41.000000    1.000000  \n",
       "max     67.100000                  2.420000   81.000000    1.000000  "
      ],
      "text/html": [
       "<div>\n",
       "<style scoped>\n",
       "    .dataframe tbody tr th:only-of-type {\n",
       "        vertical-align: middle;\n",
       "    }\n",
       "\n",
       "    .dataframe tbody tr th {\n",
       "        vertical-align: top;\n",
       "    }\n",
       "\n",
       "    .dataframe thead th {\n",
       "        text-align: right;\n",
       "    }\n",
       "</style>\n",
       "<table border=\"1\" class=\"dataframe\">\n",
       "  <thead>\n",
       "    <tr style=\"text-align: right;\">\n",
       "      <th></th>\n",
       "      <th>Pregnancies</th>\n",
       "      <th>Glucose</th>\n",
       "      <th>BloodPressure</th>\n",
       "      <th>SkinThickness</th>\n",
       "      <th>Insulin</th>\n",
       "      <th>BMI</th>\n",
       "      <th>DiabetesPedigreeFunction</th>\n",
       "      <th>Age</th>\n",
       "      <th>Outcome</th>\n",
       "    </tr>\n",
       "  </thead>\n",
       "  <tbody>\n",
       "    <tr>\n",
       "      <th>count</th>\n",
       "      <td>768.000000</td>\n",
       "      <td>768.000000</td>\n",
       "      <td>768.000000</td>\n",
       "      <td>768.000000</td>\n",
       "      <td>768.000000</td>\n",
       "      <td>768.000000</td>\n",
       "      <td>768.000000</td>\n",
       "      <td>768.000000</td>\n",
       "      <td>768.000000</td>\n",
       "    </tr>\n",
       "    <tr>\n",
       "      <th>mean</th>\n",
       "      <td>3.845052</td>\n",
       "      <td>120.894531</td>\n",
       "      <td>69.105469</td>\n",
       "      <td>20.536458</td>\n",
       "      <td>79.799479</td>\n",
       "      <td>31.992578</td>\n",
       "      <td>0.471876</td>\n",
       "      <td>33.240885</td>\n",
       "      <td>0.348958</td>\n",
       "    </tr>\n",
       "    <tr>\n",
       "      <th>std</th>\n",
       "      <td>3.369578</td>\n",
       "      <td>31.972618</td>\n",
       "      <td>19.355807</td>\n",
       "      <td>15.952218</td>\n",
       "      <td>115.244002</td>\n",
       "      <td>7.884160</td>\n",
       "      <td>0.331329</td>\n",
       "      <td>11.760232</td>\n",
       "      <td>0.476951</td>\n",
       "    </tr>\n",
       "    <tr>\n",
       "      <th>min</th>\n",
       "      <td>0.000000</td>\n",
       "      <td>0.000000</td>\n",
       "      <td>0.000000</td>\n",
       "      <td>0.000000</td>\n",
       "      <td>0.000000</td>\n",
       "      <td>0.000000</td>\n",
       "      <td>0.078000</td>\n",
       "      <td>21.000000</td>\n",
       "      <td>0.000000</td>\n",
       "    </tr>\n",
       "    <tr>\n",
       "      <th>25%</th>\n",
       "      <td>1.000000</td>\n",
       "      <td>99.000000</td>\n",
       "      <td>62.000000</td>\n",
       "      <td>0.000000</td>\n",
       "      <td>0.000000</td>\n",
       "      <td>27.300000</td>\n",
       "      <td>0.243750</td>\n",
       "      <td>24.000000</td>\n",
       "      <td>0.000000</td>\n",
       "    </tr>\n",
       "    <tr>\n",
       "      <th>50%</th>\n",
       "      <td>3.000000</td>\n",
       "      <td>117.000000</td>\n",
       "      <td>72.000000</td>\n",
       "      <td>23.000000</td>\n",
       "      <td>30.500000</td>\n",
       "      <td>32.000000</td>\n",
       "      <td>0.372500</td>\n",
       "      <td>29.000000</td>\n",
       "      <td>0.000000</td>\n",
       "    </tr>\n",
       "    <tr>\n",
       "      <th>75%</th>\n",
       "      <td>6.000000</td>\n",
       "      <td>140.250000</td>\n",
       "      <td>80.000000</td>\n",
       "      <td>32.000000</td>\n",
       "      <td>127.250000</td>\n",
       "      <td>36.600000</td>\n",
       "      <td>0.626250</td>\n",
       "      <td>41.000000</td>\n",
       "      <td>1.000000</td>\n",
       "    </tr>\n",
       "    <tr>\n",
       "      <th>max</th>\n",
       "      <td>17.000000</td>\n",
       "      <td>199.000000</td>\n",
       "      <td>122.000000</td>\n",
       "      <td>99.000000</td>\n",
       "      <td>846.000000</td>\n",
       "      <td>67.100000</td>\n",
       "      <td>2.420000</td>\n",
       "      <td>81.000000</td>\n",
       "      <td>1.000000</td>\n",
       "    </tr>\n",
       "  </tbody>\n",
       "</table>\n",
       "</div>"
      ]
     },
     "execution_count": 890,
     "metadata": {},
     "output_type": "execute_result"
    }
   ],
   "execution_count": 890
  },
  {
   "metadata": {},
   "cell_type": "markdown",
   "source": "Drop columns that cannot be collected by IoT Devices",
   "id": "b683d14bc19a2943"
  },
  {
   "metadata": {
    "ExecuteTime": {
     "end_time": "2025-03-10T06:26:09.542935Z",
     "start_time": "2025-03-10T06:26:09.539809Z"
    }
   },
   "cell_type": "code",
   "source": "df.drop(columns=['Pregnancies','SkinThickness','Insulin','DiabetesPedigreeFunction'], inplace=True)",
   "id": "6b38ee3aef8bb323",
   "outputs": [],
   "execution_count": 891
  },
  {
   "metadata": {
    "ExecuteTime": {
     "end_time": "2025-03-10T06:26:09.587943Z",
     "start_time": "2025-03-10T06:26:09.583278Z"
    }
   },
   "cell_type": "code",
   "source": "df.info()",
   "id": "670203c0e599cc40",
   "outputs": [
    {
     "name": "stdout",
     "output_type": "stream",
     "text": [
      "<class 'pandas.core.frame.DataFrame'>\n",
      "RangeIndex: 768 entries, 0 to 767\n",
      "Data columns (total 5 columns):\n",
      " #   Column         Non-Null Count  Dtype  \n",
      "---  ------         --------------  -----  \n",
      " 0   Glucose        768 non-null    int64  \n",
      " 1   BloodPressure  768 non-null    int64  \n",
      " 2   BMI            768 non-null    float64\n",
      " 3   Age            768 non-null    int64  \n",
      " 4   Outcome        768 non-null    int64  \n",
      "dtypes: float64(1), int64(4)\n",
      "memory usage: 30.1 KB\n"
     ]
    }
   ],
   "execution_count": 892
  },
  {
   "metadata": {
    "ExecuteTime": {
     "end_time": "2025-03-10T06:26:09.893342Z",
     "start_time": "2025-03-10T06:26:09.608062Z"
    }
   },
   "cell_type": "code",
   "source": "df.hist(bins=10, figsize=(10,8))",
   "id": "fef2e706da9db758",
   "outputs": [
    {
     "data": {
      "text/plain": [
       "array([[<Axes: title={'center': 'Glucose'}>,\n",
       "        <Axes: title={'center': 'BloodPressure'}>],\n",
       "       [<Axes: title={'center': 'BMI'}>, <Axes: title={'center': 'Age'}>],\n",
       "       [<Axes: title={'center': 'Outcome'}>, <Axes: >]], dtype=object)"
      ]
     },
     "execution_count": 893,
     "metadata": {},
     "output_type": "execute_result"
    },
    {
     "data": {
      "text/plain": [
       "<Figure size 1000x800 with 6 Axes>"
      ],
      "image/png": "[encoded data removed]"
     },
     "metadata": {},
     "output_type": "display_data"
    }
   ],
   "execution_count": 893
  },
  {
   "metadata": {
    "ExecuteTime": {
     "end_time": "2025-03-10T06:26:09.905979Z",
     "start_time": "2025-03-10T06:26:09.902450Z"
    }
   },
   "cell_type": "code",
   "source": "df['Outcome'].value_counts()",
   "id": "6fa9052d3537d61",
   "outputs": [
    {
     "data": {
      "text/plain": [
       "Outcome\n",
       "0    500\n",
       "1    268\n",
       "Name: count, dtype: int64"
      ]
     },
     "execution_count": 894,
     "metadata": {},
     "output_type": "execute_result"
    }
   ],
   "execution_count": 894
  },
  {
   "metadata": {},
   "cell_type": "markdown",
   "source": "Replace 'zero' with null",
   "id": "7c9df9e8bd35fd5d"
  },
  {
   "metadata": {
    "ExecuteTime": {
     "end_time": "2025-03-10T06:26:09.929319Z",
     "start_time": "2025-03-10T06:26:09.922156Z"
    }
   },
   "cell_type": "code",
   "source": [
    "# Copy the first 4 columns\n",
    "rows_to_impute = df.iloc[:, 0:3].copy()\n",
    "\n",
    "# Replace zero values with NaN\n",
    "rows_to_impute.replace(0, np.nan, inplace=True)\n",
    "\n",
    "# Update df with the processed data\n",
    "df.iloc[:, 0:3] = rows_to_impute\n",
    "print(df)"
   ],
   "id": "10df3b13a6944e90",
   "outputs": [
    {
     "name": "stdout",
     "output_type": "stream",
     "text": [
      "     Glucose  BloodPressure   BMI  Age  Outcome\n",
      "0      148.0           72.0  33.6   50        1\n",
      "1       85.0           66.0  26.6   31        0\n",
      "2      183.0           64.0  23.3   32        1\n",
      "3       89.0           66.0  28.1   21        0\n",
      "4      137.0           40.0  43.1   33        1\n",
      "..       ...            ...   ...  ...      ...\n",
      "763    101.0           76.0  32.9   63        0\n",
      "764    122.0           70.0  36.8   27        0\n",
      "765    121.0           72.0  26.2   30        0\n",
      "766    126.0           60.0  30.1   47        1\n",
      "767     93.0           70.0  30.4   23        0\n",
      "\n",
      "[768 rows x 5 columns]\n"
     ]
    },
    {
     "name": "stderr",
     "output_type": "stream",
     "text": [
      "/var/folders/zq/6xpyjvds7tv_bz1html9bdlw0000gn/T/ipykernel_4762/705721988.py:8: FutureWarning: Setting an item of incompatible dtype is deprecated and will raise in a future error of pandas. Value '0      148.0\n",
      "1       85.0\n",
      "2      183.0\n",
      "3       89.0\n",
      "4      137.0\n",
      "       ...  \n",
      "763    101.0\n",
      "764    122.0\n",
      "765    121.0\n",
      "766    126.0\n",
      "767     93.0\n",
      "Name: Glucose, Length: 768, dtype: float64' has dtype incompatible with int64, please explicitly cast to a compatible dtype first.\n",
      "  df.iloc[:, 0:3] = rows_to_impute\n",
      "/var/folders/zq/6xpyjvds7tv_bz1html9bdlw0000gn/T/ipykernel_4762/705721988.py:8: FutureWarning: Setting an item of incompatible dtype is deprecated and will raise in a future error of pandas. Value '0      72.0\n",
      "1      66.0\n",
      "2      64.0\n",
      "3      66.0\n",
      "4      40.0\n",
      "       ... \n",
      "763    76.0\n",
      "764    70.0\n",
      "765    72.0\n",
      "766    60.0\n",
      "767    70.0\n",
      "Name: BloodPressure, Length: 768, dtype: float64' has dtype incompatible with int64, please explicitly cast to a compatible dtype first.\n",
      "  df.iloc[:, 0:3] = rows_to_impute\n"
     ]
    }
   ],
   "execution_count": 895
  },
  {
   "metadata": {},
   "cell_type": "markdown",
   "source": "Drop row that have null",
   "id": "96cb3cc565134f00"
  },
  {
   "metadata": {
    "ExecuteTime": {
     "end_time": "2025-03-10T06:26:09.949908Z",
     "start_time": "2025-03-10T06:26:09.946678Z"
    }
   },
   "cell_type": "code",
   "source": "df.isnull().sum()",
   "id": "82c7abaceafa0c36",
   "outputs": [
    {
     "data": {
      "text/plain": [
       "Glucose           5\n",
       "BloodPressure    35\n",
       "BMI              11\n",
       "Age               0\n",
       "Outcome           0\n",
       "dtype: int64"
      ]
     },
     "execution_count": 896,
     "metadata": {},
     "output_type": "execute_result"
    }
   ],
   "execution_count": 896
  },
  {
   "metadata": {
    "ExecuteTime": {
     "end_time": "2025-03-10T06:26:09.966716Z",
     "start_time": "2025-03-10T06:26:09.963102Z"
    }
   },
   "cell_type": "code",
   "source": [
    "df = df.dropna()\n",
    "print(df)"
   ],
   "id": "215457b565f31ca7",
   "outputs": [
    {
     "name": "stdout",
     "output_type": "stream",
     "text": [
      "     Glucose  BloodPressure   BMI  Age  Outcome\n",
      "0      148.0           72.0  33.6   50        1\n",
      "1       85.0           66.0  26.6   31        0\n",
      "2      183.0           64.0  23.3   32        1\n",
      "3       89.0           66.0  28.1   21        0\n",
      "4      137.0           40.0  43.1   33        1\n",
      "..       ...            ...   ...  ...      ...\n",
      "763    101.0           76.0  32.9   63        0\n",
      "764    122.0           70.0  36.8   27        0\n",
      "765    121.0           72.0  26.2   30        0\n",
      "766    126.0           60.0  30.1   47        1\n",
      "767     93.0           70.0  30.4   23        0\n",
      "\n",
      "[724 rows x 5 columns]\n"
     ]
    }
   ],
   "execution_count": 897
  },
  {
   "metadata": {
    "ExecuteTime": {
     "end_time": "2025-03-10T06:26:09.986245Z",
     "start_time": "2025-03-10T06:26:09.981802Z"
    }
   },
   "cell_type": "code",
   "source": "df.info()",
   "id": "5077b17e58f19927",
   "outputs": [
    {
     "name": "stdout",
     "output_type": "stream",
     "text": [
      "<class 'pandas.core.frame.DataFrame'>\n",
      "Index: 724 entries, 0 to 767\n",
      "Data columns (total 5 columns):\n",
      " #   Column         Non-Null Count  Dtype  \n",
      "---  ------         --------------  -----  \n",
      " 0   Glucose        724 non-null    float64\n",
      " 1   BloodPressure  724 non-null    float64\n",
      " 2   BMI            724 non-null    float64\n",
      " 3   Age            724 non-null    int64  \n",
      " 4   Outcome        724 non-null    int64  \n",
      "dtypes: float64(3), int64(2)\n",
      "memory usage: 33.9 KB\n"
     ]
    }
   ],
   "execution_count": 898
  },
  {
   "metadata": {
    "ExecuteTime": {
     "end_time": "2025-03-10T06:26:10.008671Z",
     "start_time": "2025-03-10T06:26:09.999163Z"
    }
   },
   "cell_type": "code",
   "source": "df.describe()",
   "id": "4aee6433d4c0d547",
   "outputs": [
    {
     "data": {
      "text/plain": [
       "          Glucose  BloodPressure         BMI         Age     Outcome\n",
       "count  724.000000     724.000000  724.000000  724.000000  724.000000\n",
       "mean   121.882597      72.400552   32.467127   33.350829    0.343923\n",
       "std     30.750030      12.379870    6.888941   11.765393    0.475344\n",
       "min     44.000000      24.000000   18.200000   21.000000    0.000000\n",
       "25%     99.750000      64.000000   27.500000   24.000000    0.000000\n",
       "50%    117.000000      72.000000   32.400000   29.000000    0.000000\n",
       "75%    142.000000      80.000000   36.600000   41.000000    1.000000\n",
       "max    199.000000     122.000000   67.100000   81.000000    1.000000"
      ],
      "text/html": [
       "<div>\n",
       "<style scoped>\n",
       "    .dataframe tbody tr th:only-of-type {\n",
       "        vertical-align: middle;\n",
       "    }\n",
       "\n",
       "    .dataframe tbody tr th {\n",
       "        vertical-align: top;\n",
       "    }\n",
       "\n",
       "    .dataframe thead th {\n",
       "        text-align: right;\n",
       "    }\n",
       "</style>\n",
       "<table border=\"1\" class=\"dataframe\">\n",
       "  <thead>\n",
       "    <tr style=\"text-align: right;\">\n",
       "      <th></th>\n",
       "      <th>Glucose</th>\n",
       "      <th>BloodPressure</th>\n",
       "      <th>BMI</th>\n",
       "      <th>Age</th>\n",
       "      <th>Outcome</th>\n",
       "    </tr>\n",
       "  </thead>\n",
       "  <tbody>\n",
       "    <tr>\n",
       "      <th>count</th>\n",
       "      <td>724.000000</td>\n",
       "      <td>724.000000</td>\n",
       "      <td>724.000000</td>\n",
       "      <td>724.000000</td>\n",
       "      <td>724.000000</td>\n",
       "    </tr>\n",
       "    <tr>\n",
       "      <th>mean</th>\n",
       "      <td>121.882597</td>\n",
       "      <td>72.400552</td>\n",
       "      <td>32.467127</td>\n",
       "      <td>33.350829</td>\n",
       "      <td>0.343923</td>\n",
       "    </tr>\n",
       "    <tr>\n",
       "      <th>std</th>\n",
       "      <td>30.750030</td>\n",
       "      <td>12.379870</td>\n",
       "      <td>6.888941</td>\n",
       "      <td>11.765393</td>\n",
       "      <td>0.475344</td>\n",
       "    </tr>\n",
       "    <tr>\n",
       "      <th>min</th>\n",
       "      <td>44.000000</td>\n",
       "      <td>24.000000</td>\n",
       "      <td>18.200000</td>\n",
       "      <td>21.000000</td>\n",
       "      <td>0.000000</td>\n",
       "    </tr>\n",
       "    <tr>\n",
       "      <th>25%</th>\n",
       "      <td>99.750000</td>\n",
       "      <td>64.000000</td>\n",
       "      <td>27.500000</td>\n",
       "      <td>24.000000</td>\n",
       "      <td>0.000000</td>\n",
       "    </tr>\n",
       "    <tr>\n",
       "      <th>50%</th>\n",
       "      <td>117.000000</td>\n",
       "      <td>72.000000</td>\n",
       "      <td>32.400000</td>\n",
       "      <td>29.000000</td>\n",
       "      <td>0.000000</td>\n",
       "    </tr>\n",
       "    <tr>\n",
       "      <th>75%</th>\n",
       "      <td>142.000000</td>\n",
       "      <td>80.000000</td>\n",
       "      <td>36.600000</td>\n",
       "      <td>41.000000</td>\n",
       "      <td>1.000000</td>\n",
       "    </tr>\n",
       "    <tr>\n",
       "      <th>max</th>\n",
       "      <td>199.000000</td>\n",
       "      <td>122.000000</td>\n",
       "      <td>67.100000</td>\n",
       "      <td>81.000000</td>\n",
       "      <td>1.000000</td>\n",
       "    </tr>\n",
       "  </tbody>\n",
       "</table>\n",
       "</div>"
      ]
     },
     "execution_count": 899,
     "metadata": {},
     "output_type": "execute_result"
    }
   ],
   "execution_count": 899
  },
  {
   "metadata": {},
   "cell_type": "markdown",
   "source": "Split Data 80:20",
   "id": "8803347b16cd5a68"
  },
  {
   "metadata": {
    "ExecuteTime": {
     "end_time": "2025-03-10T06:26:10.015289Z",
     "start_time": "2025-03-10T06:26:10.012471Z"
    }
   },
   "cell_type": "code",
   "source": [
    "x = df.iloc[:,0:4] #select all rows, select columns 0 to 4\n",
    "y = df['Outcome']"
   ],
   "id": "1279ddc4d5e8994",
   "outputs": [],
   "execution_count": 900
  },
  {
   "metadata": {
    "ExecuteTime": {
     "end_time": "2025-03-10T06:26:10.053631Z",
     "start_time": "2025-03-10T06:26:10.048008Z"
    }
   },
   "cell_type": "code",
   "source": "x.head()",
   "id": "1c2b033c7f7bdcea",
   "outputs": [
    {
     "data": {
      "text/plain": [
       "   Glucose  BloodPressure   BMI  Age\n",
       "0    148.0           72.0  33.6   50\n",
       "1     85.0           66.0  26.6   31\n",
       "2    183.0           64.0  23.3   32\n",
       "3     89.0           66.0  28.1   21\n",
       "4    137.0           40.0  43.1   33"
      ],
      "text/html": [
       "<div>\n",
       "<style scoped>\n",
       "    .dataframe tbody tr th:only-of-type {\n",
       "        vertical-align: middle;\n",
       "    }\n",
       "\n",
       "    .dataframe tbody tr th {\n",
       "        vertical-align: top;\n",
       "    }\n",
       "\n",
       "    .dataframe thead th {\n",
       "        text-align: right;\n",
       "    }\n",
       "</style>\n",
       "<table border=\"1\" class=\"dataframe\">\n",
       "  <thead>\n",
       "    <tr style=\"text-align: right;\">\n",
       "      <th></th>\n",
       "      <th>Glucose</th>\n",
       "      <th>BloodPressure</th>\n",
       "      <th>BMI</th>\n",
       "      <th>Age</th>\n",
       "    </tr>\n",
       "  </thead>\n",
       "  <tbody>\n",
       "    <tr>\n",
       "      <th>0</th>\n",
       "      <td>148.0</td>\n",
       "      <td>72.0</td>\n",
       "      <td>33.6</td>\n",
       "      <td>50</td>\n",
       "    </tr>\n",
       "    <tr>\n",
       "      <th>1</th>\n",
       "      <td>85.0</td>\n",
       "      <td>66.0</td>\n",
       "      <td>26.6</td>\n",
       "      <td>31</td>\n",
       "    </tr>\n",
       "    <tr>\n",
       "      <th>2</th>\n",
       "      <td>183.0</td>\n",
       "      <td>64.0</td>\n",
       "      <td>23.3</td>\n",
       "      <td>32</td>\n",
       "    </tr>\n",
       "    <tr>\n",
       "      <th>3</th>\n",
       "      <td>89.0</td>\n",
       "      <td>66.0</td>\n",
       "      <td>28.1</td>\n",
       "      <td>21</td>\n",
       "    </tr>\n",
       "    <tr>\n",
       "      <th>4</th>\n",
       "      <td>137.0</td>\n",
       "      <td>40.0</td>\n",
       "      <td>43.1</td>\n",
       "      <td>33</td>\n",
       "    </tr>\n",
       "  </tbody>\n",
       "</table>\n",
       "</div>"
      ]
     },
     "execution_count": 901,
     "metadata": {},
     "output_type": "execute_result"
    }
   ],
   "execution_count": 901
  },
  {
   "metadata": {
    "ExecuteTime": {
     "end_time": "2025-03-10T06:26:10.075767Z",
     "start_time": "2025-03-10T06:26:10.071007Z"
    }
   },
   "cell_type": "code",
   "source": "y.sample(5)",
   "id": "b9aec2b644a1c7bc",
   "outputs": [
    {
     "data": {
      "text/plain": [
       "579    1\n",
       "434    0\n",
       "315    0\n",
       "216    1\n",
       "460    0\n",
       "Name: Outcome, dtype: int64"
      ]
     },
     "execution_count": 902,
     "metadata": {},
     "output_type": "execute_result"
    }
   ],
   "execution_count": 902
  },
  {
   "metadata": {
    "ExecuteTime": {
     "end_time": "2025-03-10T06:26:10.115589Z",
     "start_time": "2025-03-10T06:26:10.111951Z"
    }
   },
   "cell_type": "code",
   "source": [
    "from sklearn.model_selection import train_test_split\n",
    "X_train, x_test, y_train, y_test = train_test_split(x ,y , test_size=0.2)\n",
    "# Split train and test into 80:20"
   ],
   "id": "4efa89d794a4c06b",
   "outputs": [],
   "execution_count": 903
  },
  {
   "metadata": {
    "ExecuteTime": {
     "end_time": "2025-03-10T06:26:10.135524Z",
     "start_time": "2025-03-10T06:26:10.132454Z"
    }
   },
   "cell_type": "code",
   "source": "X_train.shape",
   "id": "a99854a953d0b53b",
   "outputs": [
    {
     "data": {
      "text/plain": [
       "(579, 4)"
      ]
     },
     "execution_count": 904,
     "metadata": {},
     "output_type": "execute_result"
    }
   ],
   "execution_count": 904
  },
  {
   "metadata": {
    "ExecuteTime": {
     "end_time": "2025-03-10T06:26:10.164711Z",
     "start_time": "2025-03-10T06:26:10.161979Z"
    }
   },
   "cell_type": "code",
   "source": "y_train.shape",
   "id": "8893ffc0c8ee7482",
   "outputs": [
    {
     "data": {
      "text/plain": [
       "(579,)"
      ]
     },
     "execution_count": 905,
     "metadata": {},
     "output_type": "execute_result"
    }
   ],
   "execution_count": 905
  },
  {
   "metadata": {
    "ExecuteTime": {
     "end_time": "2025-03-10T06:26:10.185641Z",
     "start_time": "2025-03-10T06:26:10.181323Z"
    }
   },
   "cell_type": "code",
   "source": "x_test.shape",
   "id": "ac6c9be65b54d9af",
   "outputs": [
    {
     "data": {
      "text/plain": [
       "(145, 4)"
      ]
     },
     "execution_count": 906,
     "metadata": {},
     "output_type": "execute_result"
    }
   ],
   "execution_count": 906
  },
  {
   "metadata": {},
   "cell_type": "markdown",
   "source": "Split data before SMOTE",
   "id": "f3171a460503fcb1"
  },
  {
   "metadata": {
    "ExecuteTime": {
     "end_time": "2025-03-10T06:26:10.204594Z",
     "start_time": "2025-03-10T06:26:10.199440Z"
    }
   },
   "cell_type": "code",
   "source": [
    "from imblearn.over_sampling import SMOTE\n",
    "(X_sample, y_sample) = train_test_split(df, test_size=0.2, stratify = y)\n",
    "\n",
    "X_train = X_sample.iloc[:,:-1].values\n",
    "y_train = X_sample.iloc[:,-1].values\n",
    "x_test_smote = y_sample.iloc[:,:-1].values\n",
    "y_test_smote = y_sample.iloc[:,-1].values"
   ],
   "id": "d043e40c6a8dc0d",
   "outputs": [],
   "execution_count": 907
  },
  {
   "metadata": {},
   "cell_type": "markdown",
   "source": "SMOTE to help imbalance data",
   "id": "3a51a468e6be58ff"
  },
  {
   "metadata": {
    "ExecuteTime": {
     "end_time": "2025-03-10T06:26:10.221992Z",
     "start_time": "2025-03-10T06:26:10.218175Z"
    }
   },
   "cell_type": "code",
   "source": [
    "smote = SMOTE()\n",
    "X_train_smote, y_train_smote = smote.fit_resample(X_train, y_train)"
   ],
   "id": "250fca7466a4ddc8",
   "outputs": [
    {
     "name": "stderr",
     "output_type": "stream",
     "text": [
      "/Users/kamme/Documents/study/pythonProject/.venv/lib/python3.9/site-packages/sklearn/base.py:474: FutureWarning: `BaseEstimator._validate_data` is deprecated in 1.6 and will be removed in 1.7. Use `sklearn.utils.validation.validate_data` instead. This function becomes public and is part of the scikit-learn developer API.\n",
      "  warnings.warn(\n"
     ]
    }
   ],
   "execution_count": 908
  },
  {
   "metadata": {},
   "cell_type": "markdown",
   "source": "Feature Scaling (Standardization)",
   "id": "f63e48f818e31491"
  },
  {
   "metadata": {
    "ExecuteTime": {
     "end_time": "2025-03-10T06:26:10.235138Z",
     "start_time": "2025-03-10T06:26:10.231836Z"
    }
   },
   "cell_type": "code",
   "source": [
    "from sklearn import preprocessing\n",
    "stand = preprocessing.StandardScaler()\n",
    "X_train_smote = stand.fit_transform(X_train_smote)\n",
    "x_test_smote = stand.transform(x_test_smote)"
   ],
   "id": "eeba383ff8fff5ab",
   "outputs": [],
   "execution_count": 909
  },
  {
   "metadata": {},
   "cell_type": "markdown",
   "source": "Random Forest",
   "id": "57a77c121f6946cb"
  },
  {
   "metadata": {
    "ExecuteTime": {
     "end_time": "2025-03-10T06:26:10.244374Z",
     "start_time": "2025-03-10T06:26:10.242406Z"
    }
   },
   "cell_type": "code",
   "source": [
    "parameters ={\n",
    "      'criterion' : ['gini', 'entropy'],\n",
    "      'max_features': ['sqrt'],\n",
    "      'random_state': range(1, 51, 10),\n",
    "      'min_samples_leaf': range(1, 51, 10),\n",
    "      'n_estimators': range(1, 51, 10)}"
   ],
   "id": "a7bd5575f864feba",
   "outputs": [],
   "execution_count": 910
  },
  {
   "metadata": {
    "ExecuteTime": {
     "end_time": "2025-03-10T06:26:15.348687Z",
     "start_time": "2025-03-10T06:26:10.248273Z"
    }
   },
   "cell_type": "code",
   "source": [
    "%%time\n",
    "from sklearn.model_selection import GridSearchCV, KFold\n",
    "from sklearn.ensemble import RandomForestClassifier\n",
    "from sklearn.metrics import accuracy_score, precision_score, recall_score, f1_score, confusion_matrix\n",
    "# Create a RandomForestClassifier object\n",
    "clf = RandomForestClassifier()\n",
    "kf = KFold(n_splits=5, shuffle=True, random_state=0)\n",
    "rf_classifier = GridSearchCV(clf, parameters, cv=kf, scoring='recall',n_jobs=-1 ,error_score='raise')\n",
    "\n",
    "# Fit the model on training data\n",
    "rf_classifier.fit(X_train_smote, y_train_smote)\n",
    "\n",
    "# Get the best estimator from the GridSearch\n",
    "best_model = rf_classifier.best_estimator_\n",
    "\n",
    "# Access the best model's cross-validation accuracy\n",
    "smote_best_score = rf_classifier.best_score_\n",
    "\n",
    "# Print the best accuracy\n",
    "print(\"Best Score (K-Fold CV):\", smote_best_score)\n",
    "print(f\"Best Parameters: {rf_classifier.best_params_}\")"
   ],
   "id": "e03891baddeb5c1c",
   "outputs": [
    {
     "name": "stdout",
     "output_type": "stream",
     "text": [
      "Best Score (K-Fold CV): 0.8417125645438898\n",
      "Best Parameters: {'criterion': 'entropy', 'max_features': 'sqrt', 'min_samples_leaf': 1, 'n_estimators': 11, 'random_state': 11}\n",
      "CPU times: user 558 ms, sys: 81.1 ms, total: 639 ms\n",
      "Wall time: 5.1 s\n"
     ]
    }
   ],
   "execution_count": 911
  },
  {
   "metadata": {
    "ExecuteTime": {
     "end_time": "2025-03-10T06:26:15.355026Z",
     "start_time": "2025-03-10T06:26:15.351969Z"
    }
   },
   "cell_type": "code",
   "source": [
    "# Make predictions on the test data\n",
    "y_pred_smote = best_model.predict(x_test_smote)"
   ],
   "id": "862a81b2b40b6dc5",
   "outputs": [],
   "execution_count": 912
  },
  {
   "metadata": {
    "ExecuteTime": {
     "end_time": "2025-03-10T06:26:15.369424Z",
     "start_time": "2025-03-10T06:26:15.362609Z"
    }
   },
   "cell_type": "code",
   "source": [
    "cm = confusion_matrix(y_test_smote, y_pred_smote)\n",
    "smote_accuracy = accuracy_score(y_test_smote, y_pred_smote)\n",
    "smote_precision = precision_score(y_test_smote, y_pred_smote)\n",
    "smote_recall = recall_score(y_test_smote, y_pred_smote)\n",
    "smote_f1 = f1_score(y_test_smote, y_pred_smote)\n",
    "\n",
    "print(cm)"
   ],
   "id": "12bb3735d8ba36ae",
   "outputs": [
    {
     "name": "stdout",
     "output_type": "stream",
     "text": [
      "[[71 24]\n",
      " [19 31]]\n"
     ]
    }
   ],
   "execution_count": 913
  },
  {
   "metadata": {
    "ExecuteTime": {
     "end_time": "2025-03-10T06:26:39.121519Z",
     "start_time": "2025-03-10T06:26:15.373070Z"
    }
   },
   "cell_type": "code",
   "source": [
    "from sklearn.model_selection import cross_val_score\n",
    "from statistics import stdev\n",
    "score = cross_val_score(rf_classifier, X_train_smote, y_train_smote, cv=kf, scoring='recall')\n",
    "smote_avg_score = score.mean()\n",
    "smote_stdev = stdev(score)"
   ],
   "id": "7c341b95ed90a9af",
   "outputs": [],
   "execution_count": 914
  },
  {
   "metadata": {
    "ExecuteTime": {
     "end_time": "2025-03-10T06:26:39.133067Z",
     "start_time": "2025-03-10T06:26:39.126955Z"
    }
   },
   "cell_type": "code",
   "source": [
    "ndf = [(smote_recall, smote_precision, smote_f1, smote_accuracy, smote_avg_score, smote_stdev)]\n",
    "\n",
    "smote_rf_score = pd.DataFrame(data = ndf, columns=\n",
    "                        ['Recall','Precision','F1 Score', 'Accuracy', 'Avg CV F1', 'Standard Deviation'])\n",
    "smote_rf_score.insert(0, 'Random Forest', 'Tuning hyperparameters with SMOTE')\n",
    "smote_rf_score"
   ],
   "id": "8a5b4aa133bdd3c2",
   "outputs": [
    {
     "data": {
      "text/plain": [
       "                       Random Forest  Recall  Precision  F1 Score  Accuracy  \\\n",
       "0  Tuning hyperparameters with SMOTE    0.62   0.563636  0.590476  0.703448   \n",
       "\n",
       "   Avg CV F1  Standard Deviation  \n",
       "0   0.818844            0.017906  "
      ],
      "text/html": [
       "<div>\n",
       "<style scoped>\n",
       "    .dataframe tbody tr th:only-of-type {\n",
       "        vertical-align: middle;\n",
       "    }\n",
       "\n",
       "    .dataframe tbody tr th {\n",
       "        vertical-align: top;\n",
       "    }\n",
       "\n",
       "    .dataframe thead th {\n",
       "        text-align: right;\n",
       "    }\n",
       "</style>\n",
       "<table border=\"1\" class=\"dataframe\">\n",
       "  <thead>\n",
       "    <tr style=\"text-align: right;\">\n",
       "      <th></th>\n",
       "      <th>Random Forest</th>\n",
       "      <th>Recall</th>\n",
       "      <th>Precision</th>\n",
       "      <th>F1 Score</th>\n",
       "      <th>Accuracy</th>\n",
       "      <th>Avg CV F1</th>\n",
       "      <th>Standard Deviation</th>\n",
       "    </tr>\n",
       "  </thead>\n",
       "  <tbody>\n",
       "    <tr>\n",
       "      <th>0</th>\n",
       "      <td>Tuning hyperparameters with SMOTE</td>\n",
       "      <td>0.62</td>\n",
       "      <td>0.563636</td>\n",
       "      <td>0.590476</td>\n",
       "      <td>0.703448</td>\n",
       "      <td>0.818844</td>\n",
       "      <td>0.017906</td>\n",
       "    </tr>\n",
       "  </tbody>\n",
       "</table>\n",
       "</div>"
      ]
     },
     "execution_count": 915,
     "metadata": {},
     "output_type": "execute_result"
    }
   ],
   "execution_count": 915
  },
  {
   "metadata": {
    "ExecuteTime": {
     "end_time": "2025-03-10T06:26:39.145320Z",
     "start_time": "2025-03-10T06:26:39.139074Z"
    }
   },
   "cell_type": "code",
   "source": [
    "# Get Confidence Scores (Probabilities)\n",
    "y_prob_smote = best_model.predict_proba(x_test_smote)\n",
    "\n",
    "# Handle Binary and Multi-class Probabilities\n",
    "if y_prob_smote.ndim == 2: # Binary classification\n",
    "    confidence_scores = y_prob_smote[:, 0] # Probability of negative class\n",
    "elif y_prob_smote.ndim == 1: # Check if it's a 1D array (binary classification, probabilities are directly returned)\n",
    "    confidence_scores = y_prob_smote\n",
    "else:  # Multi-class\n",
    "    confidence_scores = np.max(y_prob_smote, axis=1)  # Max probability (adjust as needed)\n",
    "\n",
    "# Add Confidence Scores to DataFrame\n",
    "smote_rf_score['Confidence Scores Class 0'] = confidence_scores.mean() # added to the dataframe, as a mean. If you want individual confidence scores, you will need to create a new dataframe.\n",
    "\n",
    "print(smote_rf_score)"
   ],
   "id": "47630bdb2cb9090c",
   "outputs": [
    {
     "name": "stdout",
     "output_type": "stream",
     "text": [
      "                       Random Forest  Recall  Precision  F1 Score  Accuracy  \\\n",
      "0  Tuning hyperparameters with SMOTE    0.62   0.563636  0.590476  0.703448   \n",
      "\n",
      "   Avg CV F1  Standard Deviation  Confidence Scores Class 0  \n",
      "0   0.818844            0.017906                   0.609404  \n"
     ]
    }
   ],
   "execution_count": 916
  },
  {
   "metadata": {
    "ExecuteTime": {
     "end_time": "2025-03-10T06:26:39.191719Z",
     "start_time": "2025-03-10T06:26:39.188033Z"
    }
   },
   "cell_type": "code",
   "source": [
    "results_with_true = np.column_stack((y_test_smote, y_pred_smote, confidence_scores))\n",
    "\n",
    "print(\"\\nTrue Class | Predicted Class | Confidence Score Class 0\")\n",
    "print(\"-----------|-----------------|----------------\")\n",
    "for row in results_with_true:\n",
    "    print(f\"{int(row[0])}          | {int(row[1])}               | {row[2]:.4f}\")"
   ],
   "id": "fa0f6b99d8afaba",
   "outputs": [
    {
     "name": "stdout",
     "output_type": "stream",
     "text": [
      "\n",
      "True Class | Predicted Class | Confidence Score Class 0\n",
      "-----------|-----------------|----------------\n",
      "0          | 0               | 1.0000\n",
      "0          | 0               | 1.0000\n",
      "0          | 0               | 0.9091\n",
      "0          | 0               | 0.7273\n",
      "1          | 1               | 0.4545\n",
      "0          | 0               | 0.9091\n",
      "0          | 0               | 0.5455\n",
      "0          | 0               | 0.6364\n",
      "0          | 1               | 0.3636\n",
      "0          | 0               | 1.0000\n",
      "0          | 0               | 0.6364\n",
      "0          | 1               | 0.3636\n",
      "1          | 1               | 0.2727\n",
      "0          | 0               | 0.5455\n",
      "1          | 0               | 1.0000\n",
      "0          | 0               | 0.8182\n",
      "0          | 1               | 0.2727\n",
      "0          | 0               | 0.8182\n",
      "0          | 0               | 0.9091\n",
      "1          | 0               | 0.6364\n",
      "0          | 0               | 1.0000\n",
      "0          | 1               | 0.3636\n",
      "0          | 0               | 0.5455\n",
      "0          | 1               | 0.3636\n",
      "0          | 0               | 0.7273\n",
      "0          | 0               | 0.9091\n",
      "0          | 1               | 0.4545\n",
      "0          | 0               | 0.7273\n",
      "1          | 1               | 0.0909\n",
      "0          | 1               | 0.2727\n",
      "0          | 0               | 0.6364\n",
      "0          | 1               | 0.0909\n",
      "0          | 1               | 0.0000\n",
      "0          | 1               | 0.2727\n",
      "0          | 0               | 0.9091\n",
      "0          | 0               | 0.8182\n",
      "0          | 0               | 1.0000\n",
      "1          | 1               | 0.0909\n",
      "0          | 1               | 0.0909\n",
      "1          | 1               | 0.0909\n",
      "0          | 0               | 0.7273\n",
      "1          | 1               | 0.1818\n",
      "0          | 0               | 0.9091\n",
      "1          | 0               | 0.6364\n",
      "1          | 1               | 0.4545\n",
      "1          | 0               | 1.0000\n",
      "0          | 0               | 0.9091\n",
      "1          | 1               | 0.0909\n",
      "1          | 1               | 0.0909\n",
      "0          | 0               | 0.9091\n",
      "0          | 0               | 1.0000\n",
      "0          | 0               | 0.9091\n",
      "0          | 1               | 0.2727\n",
      "0          | 0               | 0.8182\n",
      "0          | 0               | 1.0000\n",
      "1          | 1               | 0.3636\n",
      "0          | 0               | 1.0000\n",
      "0          | 0               | 1.0000\n",
      "1          | 1               | 0.0909\n",
      "1          | 1               | 0.4545\n",
      "1          | 0               | 0.5455\n",
      "0          | 0               | 0.8182\n",
      "0          | 0               | 1.0000\n",
      "0          | 1               | 0.2727\n",
      "0          | 0               | 0.9091\n",
      "1          | 0               | 0.8182\n",
      "1          | 0               | 0.5455\n",
      "0          | 0               | 0.9091\n",
      "0          | 0               | 0.8182\n",
      "1          | 1               | 0.1818\n",
      "0          | 0               | 0.7273\n",
      "0          | 0               | 0.7273\n",
      "0          | 0               | 1.0000\n",
      "0          | 0               | 1.0000\n",
      "0          | 0               | 0.6364\n",
      "0          | 0               | 0.6364\n",
      "1          | 1               | 0.0909\n",
      "0          | 0               | 1.0000\n",
      "1          | 1               | 0.3636\n",
      "0          | 0               | 1.0000\n",
      "0          | 1               | 0.3636\n",
      "1          | 1               | 0.2727\n",
      "0          | 0               | 1.0000\n",
      "0          | 0               | 0.6364\n",
      "1          | 0               | 0.8182\n",
      "1          | 1               | 0.4545\n",
      "0          | 1               | 0.2727\n",
      "1          | 1               | 0.1818\n",
      "0          | 0               | 0.7273\n",
      "1          | 0               | 1.0000\n",
      "0          | 0               | 0.6364\n",
      "0          | 1               | 0.2727\n",
      "0          | 0               | 0.9091\n",
      "1          | 1               | 0.3636\n",
      "1          | 1               | 0.2727\n",
      "1          | 1               | 0.2727\n",
      "1          | 0               | 0.8182\n",
      "1          | 1               | 0.0909\n",
      "1          | 1               | 0.2727\n",
      "1          | 0               | 0.5455\n",
      "0          | 0               | 1.0000\n",
      "0          | 1               | 0.3636\n",
      "1          | 0               | 0.8182\n",
      "0          | 0               | 0.8182\n",
      "0          | 1               | 0.4545\n",
      "1          | 1               | 0.0909\n",
      "0          | 0               | 1.0000\n",
      "0          | 0               | 0.9091\n",
      "1          | 1               | 0.1818\n",
      "1          | 1               | 0.1818\n",
      "1          | 0               | 0.5455\n",
      "0          | 0               | 0.9091\n",
      "0          | 0               | 0.7273\n",
      "0          | 1               | 0.2727\n",
      "0          | 0               | 0.6364\n",
      "1          | 1               | 0.0909\n",
      "1          | 1               | 0.1818\n",
      "1          | 0               | 0.6364\n",
      "0          | 0               | 0.8182\n",
      "0          | 0               | 1.0000\n",
      "1          | 1               | 0.3636\n",
      "1          | 0               | 0.9091\n",
      "0          | 0               | 0.9091\n",
      "0          | 0               | 0.9091\n",
      "0          | 0               | 1.0000\n",
      "1          | 1               | 0.1818\n",
      "0          | 0               | 1.0000\n",
      "0          | 0               | 0.9091\n",
      "0          | 1               | 0.3636\n",
      "0          | 0               | 0.9091\n",
      "0          | 0               | 0.7273\n",
      "0          | 0               | 0.6364\n",
      "1          | 1               | 0.0000\n",
      "1          | 0               | 0.5455\n",
      "1          | 0               | 0.5455\n",
      "0          | 1               | 0.4545\n",
      "0          | 1               | 0.1818\n",
      "0          | 0               | 1.0000\n",
      "1          | 0               | 0.7273\n",
      "0          | 0               | 0.9091\n",
      "0          | 1               | 0.2727\n",
      "1          | 0               | 0.9091\n",
      "0          | 1               | 0.4545\n",
      "0          | 0               | 0.9091\n",
      "0          | 0               | 0.7273\n"
     ]
    }
   ],
   "execution_count": 917
  },
  {
   "metadata": {
    "ExecuteTime": {
     "end_time": "2025-03-10T06:26:39.218560Z",
     "start_time": "2025-03-10T06:26:39.215119Z"
    }
   },
   "cell_type": "code",
   "source": [
    "# Calculate quartiles\n",
    "quartiles = smote_rf_score['Confidence Scores Class 0'].quantile([0.25, 0.5, 0.75])\n",
    "\n",
    "print(\"\\nQuartiles of Confidence Score Class 0:\")\n",
    "print(quartiles)"
   ],
   "id": "4c52a4d719e0a5dc",
   "outputs": [
    {
     "name": "stdout",
     "output_type": "stream",
     "text": [
      "\n",
      "Quartiles of Confidence Score Class 0:\n",
      "0.25    0.609404\n",
      "0.50    0.609404\n",
      "0.75    0.609404\n",
      "Name: Confidence Scores Class 0, dtype: float64\n"
     ]
    }
   ],
   "execution_count": 918
  },
  {
   "metadata": {},
   "cell_type": "raw",
   "source": "Seperate risk (confidential scores) in to 4 classes : low risk, medium risk, high risk, and has disease.",
   "id": "a3f10e6e5d23ae60"
  },
  {
   "metadata": {
    "ExecuteTime": {
     "end_time": "2025-03-10T06:26:39.234772Z",
     "start_time": "2025-03-10T06:26:39.230461Z"
    }
   },
   "cell_type": "code",
   "source": [
    "import pandas as pd\n",
    "import numpy as np\n",
    "\n",
    "def categorize_predictions(y_pred_smote, confidence_scores):\n",
    "\n",
    "    risk_categories = []\n",
    "\n",
    "    for i in range(len(y_pred_smote)):\n",
    "        if y_pred_smote[i] == 1:    # Class 1\n",
    "            risk_categories.append('Has Diabetes')\n",
    "        elif y_pred_smote[i] == 0:  # Class 0\n",
    "            class0_prob = confidence_scores[i]  # Probability of class 0\n",
    "\n",
    "            if class0_prob < 0.6:\n",
    "                risk_categories.append('High Risk')\n",
    "            elif 0.6 <= class0_prob < 0.9:\n",
    "                risk_categories.append('Low Risk')\n",
    "            else:\n",
    "                risk_categories.append('No Risk')\n",
    "\n",
    "    return pd.Series(risk_categories)\n",
    "\n",
    "categorized_predictions = categorize_predictions(y_pred_smote, confidence_scores)\n",
    "\n",
    "print(categorized_predictions)"
   ],
   "id": "8c103675d717f66",
   "outputs": [
    {
     "name": "stdout",
     "output_type": "stream",
     "text": [
      "0           No Risk\n",
      "1           No Risk\n",
      "2           No Risk\n",
      "3          Low Risk\n",
      "4      Has Diabetes\n",
      "           ...     \n",
      "140    Has Diabetes\n",
      "141         No Risk\n",
      "142    Has Diabetes\n",
      "143         No Risk\n",
      "144        Low Risk\n",
      "Length: 145, dtype: object\n"
     ]
    }
   ],
   "execution_count": 919
  },
  {
   "metadata": {
    "ExecuteTime": {
     "end_time": "2025-03-10T06:26:39.248500Z",
     "start_time": "2025-03-10T06:26:39.245549Z"
    }
   },
   "cell_type": "code",
   "source": [
    "results_with_true = np.column_stack((y_test_smote, y_pred_smote, confidence_scores, categorized_predictions))\n",
    "\n",
    "print(\"\\nTrue Class | Predicted Class | Confidence Score Class 0 | Risk\")\n",
    "print(\"-----------|-----------------|--------------------------|----------------\")\n",
    "for row in results_with_true:\n",
    "    print(f\"{int(row[0])}          | {int(row[1])}               | {row[2]:.4f}                   | {row[3]:}\")"
   ],
   "id": "819b16f88b967d51",
   "outputs": [
    {
     "name": "stdout",
     "output_type": "stream",
     "text": [
      "\n",
      "True Class | Predicted Class | Confidence Score Class 0 | Risk\n",
      "-----------|-----------------|--------------------------|----------------\n",
      "0          | 0               | 1.0000                   | No Risk\n",
      "0          | 0               | 1.0000                   | No Risk\n",
      "0          | 0               | 0.9091                   | No Risk\n",
      "0          | 0               | 0.7273                   | Low Risk\n",
      "1          | 1               | 0.4545                   | Has Diabetes\n",
      "0          | 0               | 0.9091                   | No Risk\n",
      "0          | 0               | 0.5455                   | High Risk\n",
      "0          | 0               | 0.6364                   | Low Risk\n",
      "0          | 1               | 0.3636                   | Has Diabetes\n",
      "0          | 0               | 1.0000                   | No Risk\n",
      "0          | 0               | 0.6364                   | Low Risk\n",
      "0          | 1               | 0.3636                   | Has Diabetes\n",
      "1          | 1               | 0.2727                   | Has Diabetes\n",
      "0          | 0               | 0.5455                   | High Risk\n",
      "1          | 0               | 1.0000                   | No Risk\n",
      "0          | 0               | 0.8182                   | Low Risk\n",
      "0          | 1               | 0.2727                   | Has Diabetes\n",
      "0          | 0               | 0.8182                   | Low Risk\n",
      "0          | 0               | 0.9091                   | No Risk\n",
      "1          | 0               | 0.6364                   | Low Risk\n",
      "0          | 0               | 1.0000                   | No Risk\n",
      "0          | 1               | 0.3636                   | Has Diabetes\n",
      "0          | 0               | 0.5455                   | High Risk\n",
      "0          | 1               | 0.3636                   | Has Diabetes\n",
      "0          | 0               | 0.7273                   | Low Risk\n",
      "0          | 0               | 0.9091                   | No Risk\n",
      "0          | 1               | 0.4545                   | Has Diabetes\n",
      "0          | 0               | 0.7273                   | Low Risk\n",
      "1          | 1               | 0.0909                   | Has Diabetes\n",
      "0          | 1               | 0.2727                   | Has Diabetes\n",
      "0          | 0               | 0.6364                   | Low Risk\n",
      "0          | 1               | 0.0909                   | Has Diabetes\n",
      "0          | 1               | 0.0000                   | Has Diabetes\n",
      "0          | 1               | 0.2727                   | Has Diabetes\n",
      "0          | 0               | 0.9091                   | No Risk\n",
      "0          | 0               | 0.8182                   | Low Risk\n",
      "0          | 0               | 1.0000                   | No Risk\n",
      "1          | 1               | 0.0909                   | Has Diabetes\n",
      "0          | 1               | 0.0909                   | Has Diabetes\n",
      "1          | 1               | 0.0909                   | Has Diabetes\n",
      "0          | 0               | 0.7273                   | Low Risk\n",
      "1          | 1               | 0.1818                   | Has Diabetes\n",
      "0          | 0               | 0.9091                   | No Risk\n",
      "1          | 0               | 0.6364                   | Low Risk\n",
      "1          | 1               | 0.4545                   | Has Diabetes\n",
      "1          | 0               | 1.0000                   | No Risk\n",
      "0          | 0               | 0.9091                   | No Risk\n",
      "1          | 1               | 0.0909                   | Has Diabetes\n",
      "1          | 1               | 0.0909                   | Has Diabetes\n",
      "0          | 0               | 0.9091                   | No Risk\n",
      "0          | 0               | 1.0000                   | No Risk\n",
      "0          | 0               | 0.9091                   | No Risk\n",
      "0          | 1               | 0.2727                   | Has Diabetes\n",
      "0          | 0               | 0.8182                   | Low Risk\n",
      "0          | 0               | 1.0000                   | No Risk\n",
      "1          | 1               | 0.3636                   | Has Diabetes\n",
      "0          | 0               | 1.0000                   | No Risk\n",
      "0          | 0               | 1.0000                   | No Risk\n",
      "1          | 1               | 0.0909                   | Has Diabetes\n",
      "1          | 1               | 0.4545                   | Has Diabetes\n",
      "1          | 0               | 0.5455                   | High Risk\n",
      "0          | 0               | 0.8182                   | Low Risk\n",
      "0          | 0               | 1.0000                   | No Risk\n",
      "0          | 1               | 0.2727                   | Has Diabetes\n",
      "0          | 0               | 0.9091                   | No Risk\n",
      "1          | 0               | 0.8182                   | Low Risk\n",
      "1          | 0               | 0.5455                   | High Risk\n",
      "0          | 0               | 0.9091                   | No Risk\n",
      "0          | 0               | 0.8182                   | Low Risk\n",
      "1          | 1               | 0.1818                   | Has Diabetes\n",
      "0          | 0               | 0.7273                   | Low Risk\n",
      "0          | 0               | 0.7273                   | Low Risk\n",
      "0          | 0               | 1.0000                   | No Risk\n",
      "0          | 0               | 1.0000                   | No Risk\n",
      "0          | 0               | 0.6364                   | Low Risk\n",
      "0          | 0               | 0.6364                   | Low Risk\n",
      "1          | 1               | 0.0909                   | Has Diabetes\n",
      "0          | 0               | 1.0000                   | No Risk\n",
      "1          | 1               | 0.3636                   | Has Diabetes\n",
      "0          | 0               | 1.0000                   | No Risk\n",
      "0          | 1               | 0.3636                   | Has Diabetes\n",
      "1          | 1               | 0.2727                   | Has Diabetes\n",
      "0          | 0               | 1.0000                   | No Risk\n",
      "0          | 0               | 0.6364                   | Low Risk\n",
      "1          | 0               | 0.8182                   | Low Risk\n",
      "1          | 1               | 0.4545                   | Has Diabetes\n",
      "0          | 1               | 0.2727                   | Has Diabetes\n",
      "1          | 1               | 0.1818                   | Has Diabetes\n",
      "0          | 0               | 0.7273                   | Low Risk\n",
      "1          | 0               | 1.0000                   | No Risk\n",
      "0          | 0               | 0.6364                   | Low Risk\n",
      "0          | 1               | 0.2727                   | Has Diabetes\n",
      "0          | 0               | 0.9091                   | No Risk\n",
      "1          | 1               | 0.3636                   | Has Diabetes\n",
      "1          | 1               | 0.2727                   | Has Diabetes\n",
      "1          | 1               | 0.2727                   | Has Diabetes\n",
      "1          | 0               | 0.8182                   | Low Risk\n",
      "1          | 1               | 0.0909                   | Has Diabetes\n",
      "1          | 1               | 0.2727                   | Has Diabetes\n",
      "1          | 0               | 0.5455                   | High Risk\n",
      "0          | 0               | 1.0000                   | No Risk\n",
      "0          | 1               | 0.3636                   | Has Diabetes\n",
      "1          | 0               | 0.8182                   | Low Risk\n",
      "0          | 0               | 0.8182                   | Low Risk\n",
      "0          | 1               | 0.4545                   | Has Diabetes\n",
      "1          | 1               | 0.0909                   | Has Diabetes\n",
      "0          | 0               | 1.0000                   | No Risk\n",
      "0          | 0               | 0.9091                   | No Risk\n",
      "1          | 1               | 0.1818                   | Has Diabetes\n",
      "1          | 1               | 0.1818                   | Has Diabetes\n",
      "1          | 0               | 0.5455                   | High Risk\n",
      "0          | 0               | 0.9091                   | No Risk\n",
      "0          | 0               | 0.7273                   | Low Risk\n",
      "0          | 1               | 0.2727                   | Has Diabetes\n",
      "0          | 0               | 0.6364                   | Low Risk\n",
      "1          | 1               | 0.0909                   | Has Diabetes\n",
      "1          | 1               | 0.1818                   | Has Diabetes\n",
      "1          | 0               | 0.6364                   | Low Risk\n",
      "0          | 0               | 0.8182                   | Low Risk\n",
      "0          | 0               | 1.0000                   | No Risk\n",
      "1          | 1               | 0.3636                   | Has Diabetes\n",
      "1          | 0               | 0.9091                   | No Risk\n",
      "0          | 0               | 0.9091                   | No Risk\n",
      "0          | 0               | 0.9091                   | No Risk\n",
      "0          | 0               | 1.0000                   | No Risk\n",
      "1          | 1               | 0.1818                   | Has Diabetes\n",
      "0          | 0               | 1.0000                   | No Risk\n",
      "0          | 0               | 0.9091                   | No Risk\n",
      "0          | 1               | 0.3636                   | Has Diabetes\n",
      "0          | 0               | 0.9091                   | No Risk\n",
      "0          | 0               | 0.7273                   | Low Risk\n",
      "0          | 0               | 0.6364                   | Low Risk\n",
      "1          | 1               | 0.0000                   | Has Diabetes\n",
      "1          | 0               | 0.5455                   | High Risk\n",
      "1          | 0               | 0.5455                   | High Risk\n",
      "0          | 1               | 0.4545                   | Has Diabetes\n",
      "0          | 1               | 0.1818                   | Has Diabetes\n",
      "0          | 0               | 1.0000                   | No Risk\n",
      "1          | 0               | 0.7273                   | Low Risk\n",
      "0          | 0               | 0.9091                   | No Risk\n",
      "0          | 1               | 0.2727                   | Has Diabetes\n",
      "1          | 0               | 0.9091                   | No Risk\n",
      "0          | 1               | 0.4545                   | Has Diabetes\n",
      "0          | 0               | 0.9091                   | No Risk\n",
      "0          | 0               | 0.7273                   | Low Risk\n"
     ]
    }
   ],
   "execution_count": 920
  },
  {
   "metadata": {
    "ExecuteTime": {
     "end_time": "2025-03-10T06:26:39.259138Z",
     "start_time": "2025-03-10T06:26:39.255428Z"
    }
   },
   "cell_type": "code",
   "source": [
    "# Save the trained model and scaler\n",
    "import pickle\n",
    "with open('Model/diabetes_model.pkl', 'wb') as f:\n",
    "    pickle.dump(best_model, f)\n",
    "with open('Model/diabetes_scaler.pkl', 'wb') as f:\n",
    "    pickle.dump(stand, f)"
   ],
   "id": "bd060c58cfb7bb53",
   "outputs": [],
   "execution_count": 921
  },
  {
   "metadata": {
    "ExecuteTime": {
     "end_time": "2025-03-10T06:26:39.269683Z",
     "start_time": "2025-03-10T06:26:39.266047Z"
    }
   },
   "cell_type": "code",
   "source": "test_data = pd.read_csv(\"Dataset/healthCheckup_diabetes.csv\")",
   "id": "77aab95edb3da6d7",
   "outputs": [],
   "execution_count": 922
  },
  {
   "metadata": {
    "ExecuteTime": {
     "end_time": "2025-03-10T06:26:39.274714Z",
     "start_time": "2025-03-10T06:26:39.272020Z"
    }
   },
   "cell_type": "code",
   "source": [
    "with open('Model/diabetes_model.pkl', 'rb') as f:\n",
    "    loaded_model = pickle.load(f)\n",
    "with open('Model/diabetes_scaler.pkl', 'rb') as f:\n",
    "    loaded_scaler = pickle.load(f)"
   ],
   "id": "3057356d99ec17b6",
   "outputs": [],
   "execution_count": 923
  },
  {
   "metadata": {
    "ExecuteTime": {
     "end_time": "2025-03-10T06:26:39.283625Z",
     "start_time": "2025-03-10T06:26:39.279667Z"
    }
   },
   "cell_type": "code",
   "source": "test_data.info()",
   "id": "81bf2e1166b3be39",
   "outputs": [
    {
     "name": "stdout",
     "output_type": "stream",
     "text": [
      "<class 'pandas.core.frame.DataFrame'>\n",
      "RangeIndex: 48 entries, 0 to 47\n",
      "Data columns (total 4 columns):\n",
      " #   Column         Non-Null Count  Dtype  \n",
      "---  ------         --------------  -----  \n",
      " 0   Glucose        48 non-null     int64  \n",
      " 1   BloodPressure  48 non-null     int64  \n",
      " 2   BMI            48 non-null     float64\n",
      " 3   Age            48 non-null     int64  \n",
      "dtypes: float64(1), int64(3)\n",
      "memory usage: 1.6 KB\n"
     ]
    }
   ],
   "execution_count": 924
  },
  {
   "metadata": {
    "ExecuteTime": {
     "end_time": "2025-03-10T06:42:33.404865Z",
     "start_time": "2025-03-10T06:42:33.378901Z"
    }
   },
   "cell_type": "code",
   "source": [
    "X_new = test_data.copy()\n",
    "\n",
    "# Scaling\n",
    "X_new_scaled = loaded_scaler.transform(X_new)\n",
    "\n",
    "# Prediction and Confidence Scores\n",
    "y_pred = loaded_model.predict(X_new_scaled)\n",
    "\n",
    "try:\n",
    "    y_pred_proba = loaded_model.predict_proba(X_new_scaled)\n",
    "\n",
    "    # Handle binary and multi-class\n",
    "    if y_pred_proba.ndim == 2:  # Binary classification\n",
    "        confidence_scores = y_pred_proba[:,0]  # Probability of negative class\n",
    "    elif y_pred_proba.ndim == 1: # Check if it's a 1D array (binary classification, probabilities are directly returned)\n",
    "        confidence_scores = y_pred_proba\n",
    "    else:  # Multi-class\n",
    "        confidence_scores = np.max(y_pred_proba, axis=1)  # Max probability (adjust as needed)\n",
    "\n",
    "except AttributeError:\n",
    "    print(\"Model does not have predict_proba.\")\n",
    "    confidence_scores = None\n",
    "\n",
    "results_data = test_data.copy()\n",
    "results_data['Predicted_Outcome'] = y_pred\n",
    "results_data['Confidence_Score'] = confidence_scores\n",
    "\n",
    "# Print the relevant columns to show the confidence scores\n",
    "print(results_data[['Predicted_Outcome', 'Confidence_Score']])"
   ],
   "id": "5ea657aa8d021010",
   "outputs": [
    {
     "name": "stdout",
     "output_type": "stream",
     "text": [
      "    Predicted_Outcome  Confidence_Score\n",
      "0                   0          0.909091\n",
      "1                   0          1.000000\n",
      "2                   0          0.727273\n",
      "3                   0          1.000000\n",
      "4                   0          0.636364\n",
      "5                   0          0.818182\n",
      "6                   0          1.000000\n",
      "7                   0          0.727273\n",
      "8                   0          0.909091\n",
      "9                   0          1.000000\n",
      "10                  0          1.000000\n",
      "11                  0          0.909091\n",
      "12                  0          0.636364\n",
      "13                  0          0.545455\n",
      "14                  0          0.909091\n",
      "15                  0          0.909091\n",
      "16                  0          0.727273\n",
      "17                  1          0.181818\n",
      "18                  0          0.818182\n",
      "19                  0          0.818182\n",
      "20                  1          0.272727\n",
      "21                  0          1.000000\n",
      "22                  0          1.000000\n",
      "23                  0          0.636364\n",
      "24                  0          1.000000\n",
      "25                  1          0.454545\n",
      "26                  0          0.727273\n",
      "27                  0          0.909091\n",
      "28                  1          0.272727\n",
      "29                  0          0.909091\n",
      "30                  0          1.000000\n",
      "31                  1          0.363636\n",
      "32                  1          0.363636\n",
      "33                  1          0.090909\n",
      "34                  0          1.000000\n",
      "35                  0          0.636364\n",
      "36                  0          0.909091\n",
      "37                  1          0.454545\n",
      "38                  0          0.909091\n",
      "39                  1          0.272727\n",
      "40                  1          0.363636\n",
      "41                  1          0.454545\n",
      "42                  0          1.000000\n",
      "43                  0          0.909091\n",
      "44                  1          0.363636\n",
      "45                  0          1.000000\n",
      "46                  0          0.909091\n",
      "47                  1          0.000000\n"
     ]
    },
    {
     "name": "stderr",
     "output_type": "stream",
     "text": [
      "/Users/kamme/Documents/study/pythonProject/.venv/lib/python3.9/site-packages/sklearn/utils/validation.py:2732: UserWarning: X has feature names, but StandardScaler was fitted without feature names\n",
      "  warnings.warn(\n"
     ]
    }
   ],
   "execution_count": 929
  },
  {
   "metadata": {
    "ExecuteTime": {
     "end_time": "2025-03-10T06:26:39.306192Z",
     "start_time": "2025-03-10T06:26:39.304737Z"
    }
   },
   "cell_type": "code",
   "source": "",
   "id": "ae8ed68d43581f6d",
   "outputs": [],
   "execution_count": null
  }
 ],
 "metadata": {
  "kernelspec": {
   "display_name": "Python 3",
   "language": "python",
   "name": "python3"
  },
  "language_info": {
   "codemirror_mode": {
    "name": "ipython",
    "version": 2
   },
   "file_extension": ".py",
   "mimetype": "text/x-python",
   "name": "python",
   "nbconvert_exporter": "python",
   "pygments_lexer": "ipython2",
   "version": "2.7.6"
  }
 },
 "nbformat": 4,
 "nbformat_minor": 5
}
